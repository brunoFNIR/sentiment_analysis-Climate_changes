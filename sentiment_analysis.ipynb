{
  "nbformat": 5,
  "nbformat_minor": 7,
  "metadata": {
    "colab": {
      "provenance": []
    },
    "kernelspec": {
      "name": "python3",
      "display_name": "Python 3"
    },
    "language_info": {
      "name": "python"
    },
    "widgets": {
      "application/vnd.jupyter.widget-state+json": {
        "d454df58611c4480af85ecb384468ac0": {
          "model_module": "@jupyter-widgets/controls",
          "model_name": "HBoxModel",
          "model_module_version": "1.5.0",
          "state": {
            "_dom_classes": [],
            "_model_module": "@jupyter-widgets/controls",
            "_model_module_version": "1.5.0",
            "_model_name": "HBoxModel",
            "_view_count": null,
            "_view_module": "@jupyter-widgets/controls",
            "_view_module_version": "1.5.0",
            "_view_name": "HBoxView",
            "box_style": "",
            "children": [
              "IPY_MODEL_e014d7f8a39645efb07143332fa9cb9d",
              "IPY_MODEL_a343016810a445b0baa628b976e975e4",
              "IPY_MODEL_3562759daa0c499ba18c3609c8cebdc7"
            ],
            "layout": "IPY_MODEL_da2ad19875294a258e3f31bbdeb8ba6c"
          }
        },
        "e014d7f8a39645efb07143332fa9cb9d": {
          "model_module": "@jupyter-widgets/controls",
          "model_name": "HTMLModel",
          "model_module_version": "1.5.0",
          "state": {
            "_dom_classes": [],
            "_model_module": "@jupyter-widgets/controls",
            "_model_module_version": "1.5.0",
            "_model_name": "HTMLModel",
            "_view_count": null,
            "_view_module": "@jupyter-widgets/controls",
            "_view_module_version": "1.5.0",
            "_view_name": "HTMLView",
            "description": "",
            "description_tooltip": null,
            "layout": "IPY_MODEL_84f45bfe950e4963bad158cd69b2fbb9",
            "placeholder": "​",
            "style": "IPY_MODEL_2213cc5434a345619664ba74caf547bf",
            "value": "config.json: 100%"
          }
        },
        "a343016810a445b0baa628b976e975e4": {
          "model_module": "@jupyter-widgets/controls",
          "model_name": "FloatProgressModel",
          "model_module_version": "1.5.0",
          "state": {
            "_dom_classes": [],
            "_model_module": "@jupyter-widgets/controls",
            "_model_module_version": "1.5.0",
            "_model_name": "FloatProgressModel",
            "_view_count": null,
            "_view_module": "@jupyter-widgets/controls",
            "_view_module_version": "1.5.0",
            "_view_name": "ProgressView",
            "bar_style": "success",
            "description": "",
            "description_tooltip": null,
            "layout": "IPY_MODEL_f0613f05a8084cc1a606009c9129e3c5",
            "max": 629,
            "min": 0,
            "orientation": "horizontal",
            "style": "IPY_MODEL_31d939e479cf49b6a07e0cd128136b5d",
            "value": 629
          }
        },
        "3562759daa0c499ba18c3609c8cebdc7": {
          "model_module": "@jupyter-widgets/controls",
          "model_name": "HTMLModel",
          "model_module_version": "1.5.0",
          "state": {
            "_dom_classes": [],
            "_model_module": "@jupyter-widgets/controls",
            "_model_module_version": "1.5.0",
            "_model_name": "HTMLModel",
            "_view_count": null,
            "_view_module": "@jupyter-widgets/controls",
            "_view_module_version": "1.5.0",
            "_view_name": "HTMLView",
            "description": "",
            "description_tooltip": null,
            "layout": "IPY_MODEL_ee07c23c051441468eefc001dca3ddd6",
            "placeholder": "​",
            "style": "IPY_MODEL_cc9ac088695244fab9d1db90b8716a87",
            "value": " 629/629 [00:00&lt;00:00, 45.5kB/s]"
          }
        },
        "da2ad19875294a258e3f31bbdeb8ba6c": {
          "model_module": "@jupyter-widgets/base",
          "model_name": "LayoutModel",
          "model_module_version": "1.2.0",
          "state": {
            "_model_module": "@jupyter-widgets/base",
            "_model_module_version": "1.2.0",
            "_model_name": "LayoutModel",
            "_view_count": null,
            "_view_module": "@jupyter-widgets/base",
            "_view_module_version": "1.2.0",
            "_view_name": "LayoutView",
            "align_content": null,
            "align_items": null,
            "align_self": null,
            "border": null,
            "bottom": null,
            "display": null,
            "flex": null,
            "flex_flow": null,
            "grid_area": null,
            "grid_auto_columns": null,
            "grid_auto_flow": null,
            "grid_auto_rows": null,
            "grid_column": null,
            "grid_gap": null,
            "grid_row": null,
            "grid_template_areas": null,
            "grid_template_columns": null,
            "grid_template_rows": null,
            "height": null,
            "justify_content": null,
            "justify_items": null,
            "left": null,
            "margin": null,
            "max_height": null,
            "max_width": null,
            "min_height": null,
            "min_width": null,
            "object_fit": null,
            "object_position": null,
            "order": null,
            "overflow": null,
            "overflow_x": null,
            "overflow_y": null,
            "padding": null,
            "right": null,
            "top": null,
            "visibility": null,
            "width": null
          }
        },
        "84f45bfe950e4963bad158cd69b2fbb9": {
          "model_module": "@jupyter-widgets/base",
          "model_name": "LayoutModel",
          "model_module_version": "1.2.0",
          "state": {
            "_model_module": "@jupyter-widgets/base",
            "_model_module_version": "1.2.0",
            "_model_name": "LayoutModel",
            "_view_count": null,
            "_view_module": "@jupyter-widgets/base",
            "_view_module_version": "1.2.0",
            "_view_name": "LayoutView",
            "align_content": null,
            "align_items": null,
            "align_self": null,
            "border": null,
            "bottom": null,
            "display": null,
            "flex": null,
            "flex_flow": null,
            "grid_area": null,
            "grid_auto_columns": null,
            "grid_auto_flow": null,
            "grid_auto_rows": null,
            "grid_column": null,
            "grid_gap": null,
            "grid_row": null,
            "grid_template_areas": null,
            "grid_template_columns": null,
            "grid_template_rows": null,
            "height": null,
            "justify_content": null,
            "justify_items": null,
            "left": null,
            "margin": null,
            "max_height": null,
            "max_width": null,
            "min_height": null,
            "min_width": null,
            "object_fit": null,
            "object_position": null,
            "order": null,
            "overflow": null,
            "overflow_x": null,
            "overflow_y": null,
            "padding": null,
            "right": null,
            "top": null,
            "visibility": null,
            "width": null
          }
        },
        "2213cc5434a345619664ba74caf547bf": {
          "model_module": "@jupyter-widgets/controls",
          "model_name": "DescriptionStyleModel",
          "model_module_version": "1.5.0",
          "state": {
            "_model_module": "@jupyter-widgets/controls",
            "_model_module_version": "1.5.0",
            "_model_name": "DescriptionStyleModel",
            "_view_count": null,
            "_view_module": "@jupyter-widgets/base",
            "_view_module_version": "1.2.0",
            "_view_name": "StyleView",
            "description_width": ""
          }
        },
        "f0613f05a8084cc1a606009c9129e3c5": {
          "model_module": "@jupyter-widgets/base",
          "model_name": "LayoutModel",
          "model_module_version": "1.2.0",
          "state": {
            "_model_module": "@jupyter-widgets/base",
            "_model_module_version": "1.2.0",
            "_model_name": "LayoutModel",
            "_view_count": null,
            "_view_module": "@jupyter-widgets/base",
            "_view_module_version": "1.2.0",
            "_view_name": "LayoutView",
            "align_content": null,
            "align_items": null,
            "align_self": null,
            "border": null,
            "bottom": null,
            "display": null,
            "flex": null,
            "flex_flow": null,
            "grid_area": null,
            "grid_auto_columns": null,
            "grid_auto_flow": null,
            "grid_auto_rows": null,
            "grid_column": null,
            "grid_gap": null,
            "grid_row": null,
            "grid_template_areas": null,
            "grid_template_columns": null,
            "grid_template_rows": null,
            "height": null,
            "justify_content": null,
            "justify_items": null,
            "left": null,
            "margin": null,
            "max_height": null,
            "max_width": null,
            "min_height": null,
            "min_width": null,
            "object_fit": null,
            "object_position": null,
            "order": null,
            "overflow": null,
            "overflow_x": null,
            "overflow_y": null,
            "padding": null,
            "right": null,
            "top": null,
            "visibility": null,
            "width": null
          }
        },
        "31d939e479cf49b6a07e0cd128136b5d": {
          "model_module": "@jupyter-widgets/controls",
          "model_name": "ProgressStyleModel",
          "model_module_version": "1.5.0",
          "state": {
            "_model_module": "@jupyter-widgets/controls",
            "_model_module_version": "1.5.0",
            "_model_name": "ProgressStyleModel",
            "_view_count": null,
            "_view_module": "@jupyter-widgets/base",
            "_view_module_version": "1.2.0",
            "_view_name": "StyleView",
            "bar_color": null,
            "description_width": ""
          }
        },
        "ee07c23c051441468eefc001dca3ddd6": {
          "model_module": "@jupyter-widgets/base",
          "model_name": "LayoutModel",
          "model_module_version": "1.2.0",
          "state": {
            "_model_module": "@jupyter-widgets/base",
            "_model_module_version": "1.2.0",
            "_model_name": "LayoutModel",
            "_view_count": null,
            "_view_module": "@jupyter-widgets/base",
            "_view_module_version": "1.2.0",
            "_view_name": "LayoutView",
            "align_content": null,
            "align_items": null,
            "align_self": null,
            "border": null,
            "bottom": null,
            "display": null,
            "flex": null,
            "flex_flow": null,
            "grid_area": null,
            "grid_auto_columns": null,
            "grid_auto_flow": null,
            "grid_auto_rows": null,
            "grid_column": null,
            "grid_gap": null,
            "grid_row": null,
            "grid_template_areas": null,
            "grid_template_columns": null,
            "grid_template_rows": null,
            "height": null,
            "justify_content": null,
            "justify_items": null,
            "left": null,
            "margin": null,
            "max_height": null,
            "max_width": null,
            "min_height": null,
            "min_width": null,
            "object_fit": null,
            "object_position": null,
            "order": null,
            "overflow": null,
            "overflow_x": null,
            "overflow_y": null,
            "padding": null,
            "right": null,
            "top": null,
            "visibility": null,
            "width": null
          }
        },
        "cc9ac088695244fab9d1db90b8716a87": {
          "model_module": "@jupyter-widgets/controls",
          "model_name": "DescriptionStyleModel",
          "model_module_version": "1.5.0",
          "state": {
            "_model_module": "@jupyter-widgets/controls",
            "_model_module_version": "1.5.0",
            "_model_name": "DescriptionStyleModel",
            "_view_count": null,
            "_view_module": "@jupyter-widgets/base",
            "_view_module_version": "1.2.0",
            "_view_name": "StyleView",
            "description_width": ""
          }
        },
        "cd1b120f015840f38701787047fe4b7f": {
          "model_module": "@jupyter-widgets/controls",
          "model_name": "HBoxModel",
          "model_module_version": "1.5.0",
          "state": {
            "_dom_classes": [],
            "_model_module": "@jupyter-widgets/controls",
            "_model_module_version": "1.5.0",
            "_model_name": "HBoxModel",
            "_view_count": null,
            "_view_module": "@jupyter-widgets/controls",
            "_view_module_version": "1.5.0",
            "_view_name": "HBoxView",
            "box_style": "",
            "children": [
              "IPY_MODEL_26cdda7c2ac44c75904c9fe09f7f5b95",
              "IPY_MODEL_9200d49f2e244ebca63f164b9faf7911",
              "IPY_MODEL_902fa5c714844c369eadc0ffdca7cfde"
            ],
            "layout": "IPY_MODEL_429e6649e852450d9984a1f182e77da8"
          }
        },
        "26cdda7c2ac44c75904c9fe09f7f5b95": {
          "model_module": "@jupyter-widgets/controls",
          "model_name": "HTMLModel",
          "model_module_version": "1.5.0",
          "state": {
            "_dom_classes": [],
            "_model_module": "@jupyter-widgets/controls",
            "_model_module_version": "1.5.0",
            "_model_name": "HTMLModel",
            "_view_count": null,
            "_view_module": "@jupyter-widgets/controls",
            "_view_module_version": "1.5.0",
            "_view_name": "HTMLView",
            "description": "",
            "description_tooltip": null,
            "layout": "IPY_MODEL_780476be18764e2c80937501e98f8c8b",
            "placeholder": "​",
            "style": "IPY_MODEL_4f5550aa0bb74eb58b11ca5cd5fc910b",
            "value": "model.safetensors: 100%"
          }
        },
        "9200d49f2e244ebca63f164b9faf7911": {
          "model_module": "@jupyter-widgets/controls",
          "model_name": "FloatProgressModel",
          "model_module_version": "1.5.0",
          "state": {
            "_dom_classes": [],
            "_model_module": "@jupyter-widgets/controls",
            "_model_module_version": "1.5.0",
            "_model_name": "FloatProgressModel",
            "_view_count": null,
            "_view_module": "@jupyter-widgets/controls",
            "_view_module_version": "1.5.0",
            "_view_name": "ProgressView",
            "bar_style": "success",
            "description": "",
            "description_tooltip": null,
            "layout": "IPY_MODEL_d4e4ff414349492c95b952af5e3df9f9",
            "max": 267832558,
            "min": 0,
            "orientation": "horizontal",
            "style": "IPY_MODEL_0ee6c386afd74245b7ebd81a81f1f80c",
            "value": 267832558
          }
        },
        "902fa5c714844c369eadc0ffdca7cfde": {
          "model_module": "@jupyter-widgets/controls",
          "model_name": "HTMLModel",
          "model_module_version": "1.5.0",
          "state": {
            "_dom_classes": [],
            "_model_module": "@jupyter-widgets/controls",
            "_model_module_version": "1.5.0",
            "_model_name": "HTMLModel",
            "_view_count": null,
            "_view_module": "@jupyter-widgets/controls",
            "_view_module_version": "1.5.0",
            "_view_name": "HTMLView",
            "description": "",
            "description_tooltip": null,
            "layout": "IPY_MODEL_d17195deef9f4d3fb7dccba60fac4052",
            "placeholder": "​",
            "style": "IPY_MODEL_b3b6fe63372d4699b7be929bbc6566f0",
            "value": " 268M/268M [00:01&lt;00:00, 228MB/s]"
          }
        },
        "429e6649e852450d9984a1f182e77da8": {
          "model_module": "@jupyter-widgets/base",
          "model_name": "LayoutModel",
          "model_module_version": "1.2.0",
          "state": {
            "_model_module": "@jupyter-widgets/base",
            "_model_module_version": "1.2.0",
            "_model_name": "LayoutModel",
            "_view_count": null,
            "_view_module": "@jupyter-widgets/base",
            "_view_module_version": "1.2.0",
            "_view_name": "LayoutView",
            "align_content": null,
            "align_items": null,
            "align_self": null,
            "border": null,
            "bottom": null,
            "display": null,
            "flex": null,
            "flex_flow": null,
            "grid_area": null,
            "grid_auto_columns": null,
            "grid_auto_flow": null,
            "grid_auto_rows": null,
            "grid_column": null,
            "grid_gap": null,
            "grid_row": null,
            "grid_template_areas": null,
            "grid_template_columns": null,
            "grid_template_rows": null,
            "height": null,
            "justify_content": null,
            "justify_items": null,
            "left": null,
            "margin": null,
            "max_height": null,
            "max_width": null,
            "min_height": null,
            "min_width": null,
            "object_fit": null,
            "object_position": null,
            "order": null,
            "overflow": null,
            "overflow_x": null,
            "overflow_y": null,
            "padding": null,
            "right": null,
            "top": null,
            "visibility": null,
            "width": null
          }
        },
        "780476be18764e2c80937501e98f8c8b": {
          "model_module": "@jupyter-widgets/base",
          "model_name": "LayoutModel",
          "model_module_version": "1.2.0",
          "state": {
            "_model_module": "@jupyter-widgets/base",
            "_model_module_version": "1.2.0",
            "_model_name": "LayoutModel",
            "_view_count": null,
            "_view_module": "@jupyter-widgets/base",
            "_view_module_version": "1.2.0",
            "_view_name": "LayoutView",
            "align_content": null,
            "align_items": null,
            "align_self": null,
            "border": null,
            "bottom": null,
            "display": null,
            "flex": null,
            "flex_flow": null,
            "grid_area": null,
            "grid_auto_columns": null,
            "grid_auto_flow": null,
            "grid_auto_rows": null,
            "grid_column": null,
            "grid_gap": null,
            "grid_row": null,
            "grid_template_areas": null,
            "grid_template_columns": null,
            "grid_template_rows": null,
            "height": null,
            "justify_content": null,
            "justify_items": null,
            "left": null,
            "margin": null,
            "max_height": null,
            "max_width": null,
            "min_height": null,
            "min_width": null,
            "object_fit": null,
            "object_position": null,
            "order": null,
            "overflow": null,
            "overflow_x": null,
            "overflow_y": null,
            "padding": null,
            "right": null,
            "top": null,
            "visibility": null,
            "width": null
          }
        },
        "4f5550aa0bb74eb58b11ca5cd5fc910b": {
          "model_module": "@jupyter-widgets/controls",
          "model_name": "DescriptionStyleModel",
          "model_module_version": "1.5.0",
          "state": {
            "_model_module": "@jupyter-widgets/controls",
            "_model_module_version": "1.5.0",
            "_model_name": "DescriptionStyleModel",
            "_view_count": null,
            "_view_module": "@jupyter-widgets/base",
            "_view_module_version": "1.2.0",
            "_view_name": "StyleView",
            "description_width": ""
          }
        },
        "d4e4ff414349492c95b952af5e3df9f9": {
          "model_module": "@jupyter-widgets/base",
          "model_name": "LayoutModel",
          "model_module_version": "1.2.0",
          "state": {
            "_model_module": "@jupyter-widgets/base",
            "_model_module_version": "1.2.0",
            "_model_name": "LayoutModel",
            "_view_count": null,
            "_view_module": "@jupyter-widgets/base",
            "_view_module_version": "1.2.0",
            "_view_name": "LayoutView",
            "align_content": null,
            "align_items": null,
            "align_self": null,
            "border": null,
            "bottom": null,
            "display": null,
            "flex": null,
            "flex_flow": null,
            "grid_area": null,
            "grid_auto_columns": null,
            "grid_auto_flow": null,
            "grid_auto_rows": null,
            "grid_column": null,
            "grid_gap": null,
            "grid_row": null,
            "grid_template_areas": null,
            "grid_template_columns": null,
            "grid_template_rows": null,
            "height": null,
            "justify_content": null,
            "justify_items": null,
            "left": null,
            "margin": null,
            "max_height": null,
            "max_width": null,
            "min_height": null,
            "min_width": null,
            "object_fit": null,
            "object_position": null,
            "order": null,
            "overflow": null,
            "overflow_x": null,
            "overflow_y": null,
            "padding": null,
            "right": null,
            "top": null,
            "visibility": null,
            "width": null
          }
        },
        "0ee6c386afd74245b7ebd81a81f1f80c": {
          "model_module": "@jupyter-widgets/controls",
          "model_name": "ProgressStyleModel",
          "model_module_version": "1.5.0",
          "state": {
            "_model_module": "@jupyter-widgets/controls",
            "_model_module_version": "1.5.0",
            "_model_name": "ProgressStyleModel",
            "_view_count": null,
            "_view_module": "@jupyter-widgets/base",
            "_view_module_version": "1.2.0",
            "_view_name": "StyleView",
            "bar_color": null,
            "description_width": ""
          }
        },
        "d17195deef9f4d3fb7dccba60fac4052": {
          "model_module": "@jupyter-widgets/base",
          "model_name": "LayoutModel",
          "model_module_version": "1.2.0",
          "state": {
            "_model_module": "@jupyter-widgets/base",
            "_model_module_version": "1.2.0",
            "_model_name": "LayoutModel",
            "_view_count": null,
            "_view_module": "@jupyter-widgets/base",
            "_view_module_version": "1.2.0",
            "_view_name": "LayoutView",
            "align_content": null,
            "align_items": null,
            "align_self": null,
            "border": null,
            "bottom": null,
            "display": null,
            "flex": null,
            "flex_flow": null,
            "grid_area": null,
            "grid_auto_columns": null,
            "grid_auto_flow": null,
            "grid_auto_rows": null,
            "grid_column": null,
            "grid_gap": null,
            "grid_row": null,
            "grid_template_areas": null,
            "grid_template_columns": null,
            "grid_template_rows": null,
            "height": null,
            "justify_content": null,
            "justify_items": null,
            "left": null,
            "margin": null,
            "max_height": null,
            "max_width": null,
            "min_height": null,
            "min_width": null,
            "object_fit": null,
            "object_position": null,
            "order": null,
            "overflow": null,
            "overflow_x": null,
            "overflow_y": null,
            "padding": null,
            "right": null,
            "top": null,
            "visibility": null,
            "width": null
          }
        },
        "b3b6fe63372d4699b7be929bbc6566f0": {
          "model_module": "@jupyter-widgets/controls",
          "model_name": "DescriptionStyleModel",
          "model_module_version": "1.5.0",
          "state": {
            "_model_module": "@jupyter-widgets/controls",
            "_model_module_version": "1.5.0",
            "_model_name": "DescriptionStyleModel",
            "_view_count": null,
            "_view_module": "@jupyter-widgets/base",
            "_view_module_version": "1.2.0",
            "_view_name": "StyleView",
            "description_width": ""
          }
        },
        "cced253db8c04c8cb7cb35f977defd3c": {
          "model_module": "@jupyter-widgets/controls",
          "model_name": "HBoxModel",
          "model_module_version": "1.5.0",
          "state": {
            "_dom_classes": [],
            "_model_module": "@jupyter-widgets/controls",
            "_model_module_version": "1.5.0",
            "_model_name": "HBoxModel",
            "_view_count": null,
            "_view_module": "@jupyter-widgets/controls",
            "_view_module_version": "1.5.0",
            "_view_name": "HBoxView",
            "box_style": "",
            "children": [
              "IPY_MODEL_cefdc71119c64a42aa84624974a556ec",
              "IPY_MODEL_27092b37f21848e89a4bc2f32712c033",
              "IPY_MODEL_5fc02f94122a4d878da7a92f4ceeaa81"
            ],
            "layout": "IPY_MODEL_4428e80a7add431080823ff8fb3b7305"
          }
        },
        "cefdc71119c64a42aa84624974a556ec": {
          "model_module": "@jupyter-widgets/controls",
          "model_name": "HTMLModel",
          "model_module_version": "1.5.0",
          "state": {
            "_dom_classes": [],
            "_model_module": "@jupyter-widgets/controls",
            "_model_module_version": "1.5.0",
            "_model_name": "HTMLModel",
            "_view_count": null,
            "_view_module": "@jupyter-widgets/controls",
            "_view_module_version": "1.5.0",
            "_view_name": "HTMLView",
            "description": "",
            "description_tooltip": null,
            "layout": "IPY_MODEL_87e8e076c3c04f80a07f1b8881bd1b0c",
            "placeholder": "​",
            "style": "IPY_MODEL_aef9aad8a4774b29902f5a8f19b4d63c",
            "value": "tokenizer_config.json: 100%"
          }
        },
        "27092b37f21848e89a4bc2f32712c033": {
          "model_module": "@jupyter-widgets/controls",
          "model_name": "FloatProgressModel",
          "model_module_version": "1.5.0",
          "state": {
            "_dom_classes": [],
            "_model_module": "@jupyter-widgets/controls",
            "_model_module_version": "1.5.0",
            "_model_name": "FloatProgressModel",
            "_view_count": null,
            "_view_module": "@jupyter-widgets/controls",
            "_view_module_version": "1.5.0",
            "_view_name": "ProgressView",
            "bar_style": "success",
            "description": "",
            "description_tooltip": null,
            "layout": "IPY_MODEL_29ec0f43406c4a12ac9a49365cda58c0",
            "max": 48,
            "min": 0,
            "orientation": "horizontal",
            "style": "IPY_MODEL_cbf9a6ab0c9d4f8cb728b05aef945fd5",
            "value": 48
          }
        },
        "5fc02f94122a4d878da7a92f4ceeaa81": {
          "model_module": "@jupyter-widgets/controls",
          "model_name": "HTMLModel",
          "model_module_version": "1.5.0",
          "state": {
            "_dom_classes": [],
            "_model_module": "@jupyter-widgets/controls",
            "_model_module_version": "1.5.0",
            "_model_name": "HTMLModel",
            "_view_count": null,
            "_view_module": "@jupyter-widgets/controls",
            "_view_module_version": "1.5.0",
            "_view_name": "HTMLView",
            "description": "",
            "description_tooltip": null,
            "layout": "IPY_MODEL_fb913b7809de4a53b68b3e021742d869",
            "placeholder": "​",
            "style": "IPY_MODEL_2432bbe6efbe44f394e4b732eb65094f",
            "value": " 48.0/48.0 [00:00&lt;00:00, 3.75kB/s]"
          }
        },
        "4428e80a7add431080823ff8fb3b7305": {
          "model_module": "@jupyter-widgets/base",
          "model_name": "LayoutModel",
          "model_module_version": "1.2.0",
          "state": {
            "_model_module": "@jupyter-widgets/base",
            "_model_module_version": "1.2.0",
            "_model_name": "LayoutModel",
            "_view_count": null,
            "_view_module": "@jupyter-widgets/base",
            "_view_module_version": "1.2.0",
            "_view_name": "LayoutView",
            "align_content": null,
            "align_items": null,
            "align_self": null,
            "border": null,
            "bottom": null,
            "display": null,
            "flex": null,
            "flex_flow": null,
            "grid_area": null,
            "grid_auto_columns": null,
            "grid_auto_flow": null,
            "grid_auto_rows": null,
            "grid_column": null,
            "grid_gap": null,
            "grid_row": null,
            "grid_template_areas": null,
            "grid_template_columns": null,
            "grid_template_rows": null,
            "height": null,
            "justify_content": null,
            "justify_items": null,
            "left": null,
            "margin": null,
            "max_height": null,
            "max_width": null,
            "min_height": null,
            "min_width": null,
            "object_fit": null,
            "object_position": null,
            "order": null,
            "overflow": null,
            "overflow_x": null,
            "overflow_y": null,
            "padding": null,
            "right": null,
            "top": null,
            "visibility": null,
            "width": null
          }
        },
        "87e8e076c3c04f80a07f1b8881bd1b0c": {
          "model_module": "@jupyter-widgets/base",
          "model_name": "LayoutModel",
          "model_module_version": "1.2.0",
          "state": {
            "_model_module": "@jupyter-widgets/base",
            "_model_module_version": "1.2.0",
            "_model_name": "LayoutModel",
            "_view_count": null,
            "_view_module": "@jupyter-widgets/base",
            "_view_module_version": "1.2.0",
            "_view_name": "LayoutView",
            "align_content": null,
            "align_items": null,
            "align_self": null,
            "border": null,
            "bottom": null,
            "display": null,
            "flex": null,
            "flex_flow": null,
            "grid_area": null,
            "grid_auto_columns": null,
            "grid_auto_flow": null,
            "grid_auto_rows": null,
            "grid_column": null,
            "grid_gap": null,
            "grid_row": null,
            "grid_template_areas": null,
            "grid_template_columns": null,
            "grid_template_rows": null,
            "height": null,
            "justify_content": null,
            "justify_items": null,
            "left": null,
            "margin": null,
            "max_height": null,
            "max_width": null,
            "min_height": null,
            "min_width": null,
            "object_fit": null,
            "object_position": null,
            "order": null,
            "overflow": null,
            "overflow_x": null,
            "overflow_y": null,
            "padding": null,
            "right": null,
            "top": null,
            "visibility": null,
            "width": null
          }
        },
        "aef9aad8a4774b29902f5a8f19b4d63c": {
          "model_module": "@jupyter-widgets/controls",
          "model_name": "DescriptionStyleModel",
          "model_module_version": "1.5.0",
          "state": {
            "_model_module": "@jupyter-widgets/controls",
            "_model_module_version": "1.5.0",
            "_model_name": "DescriptionStyleModel",
            "_view_count": null,
            "_view_module": "@jupyter-widgets/base",
            "_view_module_version": "1.2.0",
            "_view_name": "StyleView",
            "description_width": ""
          }
        },
        "29ec0f43406c4a12ac9a49365cda58c0": {
          "model_module": "@jupyter-widgets/base",
          "model_name": "LayoutModel",
          "model_module_version": "1.2.0",
          "state": {
            "_model_module": "@jupyter-widgets/base",
            "_model_module_version": "1.2.0",
            "_model_name": "LayoutModel",
            "_view_count": null,
            "_view_module": "@jupyter-widgets/base",
            "_view_module_version": "1.2.0",
            "_view_name": "LayoutView",
            "align_content": null,
            "align_items": null,
            "align_self": null,
            "border": null,
            "bottom": null,
            "display": null,
            "flex": null,
            "flex_flow": null,
            "grid_area": null,
            "grid_auto_columns": null,
            "grid_auto_flow": null,
            "grid_auto_rows": null,
            "grid_column": null,
            "grid_gap": null,
            "grid_row": null,
            "grid_template_areas": null,
            "grid_template_columns": null,
            "grid_template_rows": null,
            "height": null,
            "justify_content": null,
            "justify_items": null,
            "left": null,
            "margin": null,
            "max_height": null,
            "max_width": null,
            "min_height": null,
            "min_width": null,
            "object_fit": null,
            "object_position": null,
            "order": null,
            "overflow": null,
            "overflow_x": null,
            "overflow_y": null,
            "padding": null,
            "right": null,
            "top": null,
            "visibility": null,
            "width": null
          }
        },
        "cbf9a6ab0c9d4f8cb728b05aef945fd5": {
          "model_module": "@jupyter-widgets/controls",
          "model_name": "ProgressStyleModel",
          "model_module_version": "1.5.0",
          "state": {
            "_model_module": "@jupyter-widgets/controls",
            "_model_module_version": "1.5.0",
            "_model_name": "ProgressStyleModel",
            "_view_count": null,
            "_view_module": "@jupyter-widgets/base",
            "_view_module_version": "1.2.0",
            "_view_name": "StyleView",
            "bar_color": null,
            "description_width": ""
          }
        },
        "fb913b7809de4a53b68b3e021742d869": {
          "model_module": "@jupyter-widgets/base",
          "model_name": "LayoutModel",
          "model_module_version": "1.2.0",
          "state": {
            "_model_module": "@jupyter-widgets/base",
            "_model_module_version": "1.2.0",
            "_model_name": "LayoutModel",
            "_view_count": null,
            "_view_module": "@jupyter-widgets/base",
            "_view_module_version": "1.2.0",
            "_view_name": "LayoutView",
            "align_content": null,
            "align_items": null,
            "align_self": null,
            "border": null,
            "bottom": null,
            "display": null,
            "flex": null,
            "flex_flow": null,
            "grid_area": null,
            "grid_auto_columns": null,
            "grid_auto_flow": null,
            "grid_auto_rows": null,
            "grid_column": null,
            "grid_gap": null,
            "grid_row": null,
            "grid_template_areas": null,
            "grid_template_columns": null,
            "grid_template_rows": null,
            "height": null,
            "justify_content": null,
            "justify_items": null,
            "left": null,
            "margin": null,
            "max_height": null,
            "max_width": null,
            "min_height": null,
            "min_width": null,
            "object_fit": null,
            "object_position": null,
            "order": null,
            "overflow": null,
            "overflow_x": null,
            "overflow_y": null,
            "padding": null,
            "right": null,
            "top": null,
            "visibility": null,
            "width": null
          }
        },
        "2432bbe6efbe44f394e4b732eb65094f": {
          "model_module": "@jupyter-widgets/controls",
          "model_name": "DescriptionStyleModel",
          "model_module_version": "1.5.0",
          "state": {
            "_model_module": "@jupyter-widgets/controls",
            "_model_module_version": "1.5.0",
            "_model_name": "DescriptionStyleModel",
            "_view_count": null,
            "_view_module": "@jupyter-widgets/base",
            "_view_module_version": "1.2.0",
            "_view_name": "StyleView",
            "description_width": ""
          }
        },
        "e40709defd6944c7bc3c058fb84699be": {
          "model_module": "@jupyter-widgets/controls",
          "model_name": "HBoxModel",
          "model_module_version": "1.5.0",
          "state": {
            "_dom_classes": [],
            "_model_module": "@jupyter-widgets/controls",
            "_model_module_version": "1.5.0",
            "_model_name": "HBoxModel",
            "_view_count": null,
            "_view_module": "@jupyter-widgets/controls",
            "_view_module_version": "1.5.0",
            "_view_name": "HBoxView",
            "box_style": "",
            "children": [
              "IPY_MODEL_c18cdd3d4f564e4f8ebaa2e8a7fd65b1",
              "IPY_MODEL_dfda3adb9d42439499c1c1b9bf32e4eb",
              "IPY_MODEL_7e6a98955bb04acfa06ad4b35f95f08b"
            ],
            "layout": "IPY_MODEL_689e4bfdf5f945858875c3ed24e1c689"
          }
        },
        "c18cdd3d4f564e4f8ebaa2e8a7fd65b1": {
          "model_module": "@jupyter-widgets/controls",
          "model_name": "HTMLModel",
          "model_module_version": "1.5.0",
          "state": {
            "_dom_classes": [],
            "_model_module": "@jupyter-widgets/controls",
            "_model_module_version": "1.5.0",
            "_model_name": "HTMLModel",
            "_view_count": null,
            "_view_module": "@jupyter-widgets/controls",
            "_view_module_version": "1.5.0",
            "_view_name": "HTMLView",
            "description": "",
            "description_tooltip": null,
            "layout": "IPY_MODEL_d313f8efa68d4e8eab8922b6df8c2747",
            "placeholder": "​",
            "style": "IPY_MODEL_ae79b831cc9d4226b65072a5f5186309",
            "value": "vocab.txt: 100%"
          }
        },
        "dfda3adb9d42439499c1c1b9bf32e4eb": {
          "model_module": "@jupyter-widgets/controls",
          "model_name": "FloatProgressModel",
          "model_module_version": "1.5.0",
          "state": {
            "_dom_classes": [],
            "_model_module": "@jupyter-widgets/controls",
            "_model_module_version": "1.5.0",
            "_model_name": "FloatProgressModel",
            "_view_count": null,
            "_view_module": "@jupyter-widgets/controls",
            "_view_module_version": "1.5.0",
            "_view_name": "ProgressView",
            "bar_style": "success",
            "description": "",
            "description_tooltip": null,
            "layout": "IPY_MODEL_580fd6f0911e41978a95612f94b4ce91",
            "max": 231508,
            "min": 0,
            "orientation": "horizontal",
            "style": "IPY_MODEL_32e7d1084b7749368084e35ad86354a7",
            "value": 231508
          }
        },
        "7e6a98955bb04acfa06ad4b35f95f08b": {
          "model_module": "@jupyter-widgets/controls",
          "model_name": "HTMLModel",
          "model_module_version": "1.5.0",
          "state": {
            "_dom_classes": [],
            "_model_module": "@jupyter-widgets/controls",
            "_model_module_version": "1.5.0",
            "_model_name": "HTMLModel",
            "_view_count": null,
            "_view_module": "@jupyter-widgets/controls",
            "_view_module_version": "1.5.0",
            "_view_name": "HTMLView",
            "description": "",
            "description_tooltip": null,
            "layout": "IPY_MODEL_1e3a200ee42c48279426d6bc57a3eec4",
            "placeholder": "​",
            "style": "IPY_MODEL_29e3122bf3ee48e2a12dadb08fb028eb",
            "value": " 232k/232k [00:00&lt;00:00, 647kB/s]"
          }
        },
        "689e4bfdf5f945858875c3ed24e1c689": {
          "model_module": "@jupyter-widgets/base",
          "model_name": "LayoutModel",
          "model_module_version": "1.2.0",
          "state": {
            "_model_module": "@jupyter-widgets/base",
            "_model_module_version": "1.2.0",
            "_model_name": "LayoutModel",
            "_view_count": null,
            "_view_module": "@jupyter-widgets/base",
            "_view_module_version": "1.2.0",
            "_view_name": "LayoutView",
            "align_content": null,
            "align_items": null,
            "align_self": null,
            "border": null,
            "bottom": null,
            "display": null,
            "flex": null,
            "flex_flow": null,
            "grid_area": null,
            "grid_auto_columns": null,
            "grid_auto_flow": null,
            "grid_auto_rows": null,
            "grid_column": null,
            "grid_gap": null,
            "grid_row": null,
            "grid_template_areas": null,
            "grid_template_columns": null,
            "grid_template_rows": null,
            "height": null,
            "justify_content": null,
            "justify_items": null,
            "left": null,
            "margin": null,
            "max_height": null,
            "max_width": null,
            "min_height": null,
            "min_width": null,
            "object_fit": null,
            "object_position": null,
            "order": null,
            "overflow": null,
            "overflow_x": null,
            "overflow_y": null,
            "padding": null,
            "right": null,
            "top": null,
            "visibility": null,
            "width": null
          }
        },
        "d313f8efa68d4e8eab8922b6df8c2747": {
          "model_module": "@jupyter-widgets/base",
          "model_name": "LayoutModel",
          "model_module_version": "1.2.0",
          "state": {
            "_model_module": "@jupyter-widgets/base",
            "_model_module_version": "1.2.0",
            "_model_name": "LayoutModel",
            "_view_count": null,
            "_view_module": "@jupyter-widgets/base",
            "_view_module_version": "1.2.0",
            "_view_name": "LayoutView",
            "align_content": null,
            "align_items": null,
            "align_self": null,
            "border": null,
            "bottom": null,
            "display": null,
            "flex": null,
            "flex_flow": null,
            "grid_area": null,
            "grid_auto_columns": null,
            "grid_auto_flow": null,
            "grid_auto_rows": null,
            "grid_column": null,
            "grid_gap": null,
            "grid_row": null,
            "grid_template_areas": null,
            "grid_template_columns": null,
            "grid_template_rows": null,
            "height": null,
            "justify_content": null,
            "justify_items": null,
            "left": null,
            "margin": null,
            "max_height": null,
            "max_width": null,
            "min_height": null,
            "min_width": null,
            "object_fit": null,
            "object_position": null,
            "order": null,
            "overflow": null,
            "overflow_x": null,
            "overflow_y": null,
            "padding": null,
            "right": null,
            "top": null,
            "visibility": null,
            "width": null
          }
        },
        "ae79b831cc9d4226b65072a5f5186309": {
          "model_module": "@jupyter-widgets/controls",
          "model_name": "DescriptionStyleModel",
          "model_module_version": "1.5.0",
          "state": {
            "_model_module": "@jupyter-widgets/controls",
            "_model_module_version": "1.5.0",
            "_model_name": "DescriptionStyleModel",
            "_view_count": null,
            "_view_module": "@jupyter-widgets/base",
            "_view_module_version": "1.2.0",
            "_view_name": "StyleView",
            "description_width": ""
          }
        },
        "580fd6f0911e41978a95612f94b4ce91": {
          "model_module": "@jupyter-widgets/base",
          "model_name": "LayoutModel",
          "model_module_version": "1.2.0",
          "state": {
            "_model_module": "@jupyter-widgets/base",
            "_model_module_version": "1.2.0",
            "_model_name": "LayoutModel",
            "_view_count": null,
            "_view_module": "@jupyter-widgets/base",
            "_view_module_version": "1.2.0",
            "_view_name": "LayoutView",
            "align_content": null,
            "align_items": null,
            "align_self": null,
            "border": null,
            "bottom": null,
            "display": null,
            "flex": null,
            "flex_flow": null,
            "grid_area": null,
            "grid_auto_columns": null,
            "grid_auto_flow": null,
            "grid_auto_rows": null,
            "grid_column": null,
            "grid_gap": null,
            "grid_row": null,
            "grid_template_areas": null,
            "grid_template_columns": null,
            "grid_template_rows": null,
            "height": null,
            "justify_content": null,
            "justify_items": null,
            "left": null,
            "margin": null,
            "max_height": null,
            "max_width": null,
            "min_height": null,
            "min_width": null,
            "object_fit": null,
            "object_position": null,
            "order": null,
            "overflow": null,
            "overflow_x": null,
            "overflow_y": null,
            "padding": null,
            "right": null,
            "top": null,
            "visibility": null,
            "width": null
          }
        },
        "32e7d1084b7749368084e35ad86354a7": {
          "model_module": "@jupyter-widgets/controls",
          "model_name": "ProgressStyleModel",
          "model_module_version": "1.5.0",
          "state": {
            "_model_module": "@jupyter-widgets/controls",
            "_model_module_version": "1.5.0",
            "_model_name": "ProgressStyleModel",
            "_view_count": null,
            "_view_module": "@jupyter-widgets/base",
            "_view_module_version": "1.2.0",
            "_view_name": "StyleView",
            "bar_color": null,
            "description_width": ""
          }
        },
        "1e3a200ee42c48279426d6bc57a3eec4": {
          "model_module": "@jupyter-widgets/base",
          "model_name": "LayoutModel",
          "model_module_version": "1.2.0",
          "state": {
            "_model_module": "@jupyter-widgets/base",
            "_model_module_version": "1.2.0",
            "_model_name": "LayoutModel",
            "_view_count": null,
            "_view_module": "@jupyter-widgets/base",
            "_view_module_version": "1.2.0",
            "_view_name": "LayoutView",
            "align_content": null,
            "align_items": null,
            "align_self": null,
            "border": null,
            "bottom": null,
            "display": null,
            "flex": null,
            "flex_flow": null,
            "grid_area": null,
            "grid_auto_columns": null,
            "grid_auto_flow": null,
            "grid_auto_rows": null,
            "grid_column": null,
            "grid_gap": null,
            "grid_row": null,
            "grid_template_areas": null,
            "grid_template_columns": null,
            "grid_template_rows": null,
            "height": null,
            "justify_content": null,
            "justify_items": null,
            "left": null,
            "margin": null,
            "max_height": null,
            "max_width": null,
            "min_height": null,
            "min_width": null,
            "object_fit": null,
            "object_position": null,
            "order": null,
            "overflow": null,
            "overflow_x": null,
            "overflow_y": null,
            "padding": null,
            "right": null,
            "top": null,
            "visibility": null,
            "width": null
          }
        },
        "29e3122bf3ee48e2a12dadb08fb028eb": {
          "model_module": "@jupyter-widgets/controls",
          "model_name": "DescriptionStyleModel",
          "model_module_version": "1.5.0",
          "state": {
            "_model_module": "@jupyter-widgets/controls",
            "_model_module_version": "1.5.0",
            "_model_name": "DescriptionStyleModel",
            "_view_count": null,
            "_view_module": "@jupyter-widgets/base",
            "_view_module_version": "1.2.0",
            "_view_name": "StyleView",
            "description_width": ""
          }
        }
      }
    }
  },
  "cells": [
    {
      "cell_type": "code",
      "source": [
        "# Dependencies\n",
        "!pip install praw\n",
        "!pip install nltk\n",
        "!pip install transformers\n",
        "!pip install tqdm"
      ],
      "metadata": {
        "colab": {
          "base_uri": "https://localhost:8080/"
        },
        "id": "sXBi5olem1F6",
        "outputId": "f7dbf346-a18b-4d28-f11a-c1f8ba87737e"
      },
      "execution_count": null,
      "outputs": [
        {
          "output_type": "stream",
          "name": "stdout",
          "text": [
            "Collecting praw\n",
            "  Downloading praw-7.8.1-py3-none-any.whl.metadata (9.4 kB)\n",
            "Collecting prawcore<3,>=2.4 (from praw)\n",
            "  Downloading prawcore-2.4.0-py3-none-any.whl.metadata (5.0 kB)\n",
            "Collecting update_checker>=0.18 (from praw)\n",
            "  Downloading update_checker-0.18.0-py3-none-any.whl.metadata (2.3 kB)\n",
            "Requirement already satisfied: websocket-client>=0.54.0 in /usr/local/lib/python3.11/dist-packages (from praw) (1.8.0)\n",
            "Requirement already satisfied: requests<3.0,>=2.6.0 in /usr/local/lib/python3.11/dist-packages (from prawcore<3,>=2.4->praw) (2.32.3)\n",
            "Requirement already satisfied: charset-normalizer<4,>=2 in /usr/local/lib/python3.11/dist-packages (from requests<3.0,>=2.6.0->prawcore<3,>=2.4->praw) (3.4.2)\n",
            "Requirement already satisfied: idna<4,>=2.5 in /usr/local/lib/python3.11/dist-packages (from requests<3.0,>=2.6.0->prawcore<3,>=2.4->praw) (3.10)\n",
            "Requirement already satisfied: urllib3<3,>=1.21.1 in /usr/local/lib/python3.11/dist-packages (from requests<3.0,>=2.6.0->prawcore<3,>=2.4->praw) (2.4.0)\n",
            "Requirement already satisfied: certifi>=2017.4.17 in /usr/local/lib/python3.11/dist-packages (from requests<3.0,>=2.6.0->prawcore<3,>=2.4->praw) (2025.4.26)\n",
            "Downloading praw-7.8.1-py3-none-any.whl (189 kB)\n",
            "\u001b[2K   \u001b[90m━━━━━━━━━━━━━━━━━━━━━━━━━━━━━━━━━━━━━━━━\u001b[0m \u001b[32m189.3/189.3 kB\u001b[0m \u001b[31m3.3 MB/s\u001b[0m eta \u001b[36m0:00:00\u001b[0m\n",
            "\u001b[?25hDownloading prawcore-2.4.0-py3-none-any.whl (17 kB)\n",
            "Downloading update_checker-0.18.0-py3-none-any.whl (7.0 kB)\n",
            "Installing collected packages: update_checker, prawcore, praw\n",
            "Successfully installed praw-7.8.1 prawcore-2.4.0 update_checker-0.18.0\n",
            "Requirement already satisfied: nltk in /usr/local/lib/python3.11/dist-packages (3.9.1)\n",
            "Requirement already satisfied: click in /usr/local/lib/python3.11/dist-packages (from nltk) (8.2.0)\n",
            "Requirement already satisfied: joblib in /usr/local/lib/python3.11/dist-packages (from nltk) (1.5.0)\n",
            "Requirement already satisfied: regex>=2021.8.3 in /usr/local/lib/python3.11/dist-packages (from nltk) (2024.11.6)\n",
            "Requirement already satisfied: tqdm in /usr/local/lib/python3.11/dist-packages (from nltk) (4.67.1)\n",
            "Requirement already satisfied: transformers in /usr/local/lib/python3.11/dist-packages (4.51.3)\n",
            "Requirement already satisfied: filelock in /usr/local/lib/python3.11/dist-packages (from transformers) (3.18.0)\n",
            "Requirement already satisfied: huggingface-hub<1.0,>=0.30.0 in /usr/local/lib/python3.11/dist-packages (from transformers) (0.31.2)\n",
            "Requirement already satisfied: numpy>=1.17 in /usr/local/lib/python3.11/dist-packages (from transformers) (2.0.2)\n",
            "Requirement already satisfied: packaging>=20.0 in /usr/local/lib/python3.11/dist-packages (from transformers) (24.2)\n",
            "Requirement already satisfied: pyyaml>=5.1 in /usr/local/lib/python3.11/dist-packages (from transformers) (6.0.2)\n",
            "Requirement already satisfied: regex!=2019.12.17 in /usr/local/lib/python3.11/dist-packages (from transformers) (2024.11.6)\n",
            "Requirement already satisfied: requests in /usr/local/lib/python3.11/dist-packages (from transformers) (2.32.3)\n",
            "Requirement already satisfied: tokenizers<0.22,>=0.21 in /usr/local/lib/python3.11/dist-packages (from transformers) (0.21.1)\n",
            "Requirement already satisfied: safetensors>=0.4.3 in /usr/local/lib/python3.11/dist-packages (from transformers) (0.5.3)\n",
            "Requirement already satisfied: tqdm>=4.27 in /usr/local/lib/python3.11/dist-packages (from transformers) (4.67.1)\n",
            "Requirement already satisfied: fsspec>=2023.5.0 in /usr/local/lib/python3.11/dist-packages (from huggingface-hub<1.0,>=0.30.0->transformers) (2025.3.2)\n",
            "Requirement already satisfied: typing-extensions>=3.7.4.3 in /usr/local/lib/python3.11/dist-packages (from huggingface-hub<1.0,>=0.30.0->transformers) (4.13.2)\n",
            "Requirement already satisfied: charset-normalizer<4,>=2 in /usr/local/lib/python3.11/dist-packages (from requests->transformers) (3.4.2)\n",
            "Requirement already satisfied: idna<4,>=2.5 in /usr/local/lib/python3.11/dist-packages (from requests->transformers) (3.10)\n",
            "Requirement already satisfied: urllib3<3,>=1.21.1 in /usr/local/lib/python3.11/dist-packages (from requests->transformers) (2.4.0)\n",
            "Requirement already satisfied: certifi>=2017.4.17 in /usr/local/lib/python3.11/dist-packages (from requests->transformers) (2025.4.26)\n",
            "Requirement already satisfied: tqdm in /usr/local/lib/python3.11/dist-packages (4.67.1)\n"
          ]
        }
      ]
    },
    {
      "cell_type": "code",
      "source": [
        "# Imports\n",
        "\n",
        "#get data\n",
        "import praw\n",
        "import webbrowser\n",
        "import os\n",
        "\n",
        "#data manipulation\n",
        "import pandas as pd\n",
        "import numpy as np\n",
        "from tqdm import tqdm\n",
        "import os\n",
        "\n",
        "#data pre processing\n",
        "import re\n",
        "import nltk\n",
        "from nltk.tokenize import word_tokenize\n",
        "from nltk.corpus import stopwords\n",
        "from nltk.stem import WordNetLemmatizer\n",
        "from tensorflow.keras.preprocessing.text import Tokenizer\n",
        "from tensorflow.keras.preprocessing.sequence import pad_sequences\n",
        "from operator import index\n",
        "from transformers import pipeline\n",
        "\n",
        "#model\n",
        "from tensorflow.keras.models import Sequential\n",
        "from tensorflow.keras.layers import Embedding, LSTM, Dense, Dropout\n",
        "from sklearn.model_selection import train_test_split\n",
        "from google.colab import drive\n",
        "\n",
        "#save model and tokenizer\n",
        "from tensorflow.keras.models import load_model\n",
        "import pickle"
      ],
      "metadata": {
        "id": "ZQaYcp17nc14"
      },
      "execution_count": null,
      "outputs": []
    },
    {
      "cell_type": "code",
      "source": [
        "#credential removed for safety\n",
        "\n",
        "# client_id = \"id\"\n",
        "# client_secret = \"secret\"\n",
        "# user_agent = \"user\"\n",
        "# redirect_uri = \"http://localhost:8080\""
      ],
      "metadata": {
        "id": "41uuIcrZTSN5"
      },
      "execution_count": null,
      "outputs": []
    },
    {
      "cell_type": "code",
      "source": [
        "# reddit object\n",
        "reddit = praw.Reddit(\n",
        "    client_id=client_id,\n",
        "    client_secret=client_secret,\n",
        "    user_agent=user_agent,\n",
        "    redirect_uri=redirect_uri\n",
        ")\n",
        "\n",
        "auth_url = reddit.auth.url(scopes=[\"identity\", \"read\"], state=\"random_string\") # \"identity\" para acessar informações do usuário, \"read\" para ler dados públicos\n",
        "print(f\"Abra este URL no seu navegador para autorizar o acesso: {auth_url}\")\n",
        "\n",
        "webbrowser.open(auth_url) # Isso abrirá o URL no seu navegador\n"
      ],
      "metadata": {
        "colab": {
          "base_uri": "https://localhost:8080/"
        },
        "id": "PepzC_a4TY8B",
        "outputId": "cdc14a9d-128c-47df-aa6b-1e05b2f4907d"
      },
      "execution_count": null,
      "outputs": [
        {
          "output_type": "stream",
          "name": "stdout",
          "text": [
            "Abra este URL no seu navegador para autorizar o acesso: https://www.reddit.com/api/v1/authorize?client_id=lS299rUWY4RtAIaeoFoBbA&duration=permanent&redirect_uri=http%3A%2F%2Flocalhost%3A8080&response_type=code&scope=identity+read&state=random_string\n"
          ]
        },
        {
          "output_type": "execute_result",
          "data": {
            "text/plain": [
              "False"
            ]
          },
          "metadata": {},
          "execution_count": 4
        }
      ]
    },
    {
      "cell_type": "code",
      "source": [
        "authorization_code = \"iiQ98BPletKkukTmWJ8H1og4xyOD-w\""
      ],
      "metadata": {
        "id": "w1VY0MmPW0rx"
      },
      "execution_count": null,
      "outputs": []
    },
    {
      "cell_type": "code",
      "source": [
        "try:\n",
        "  reddit.auth.authorize(authorization_code)\n",
        "  print(\"Autorização bem-sucedida!\")\n",
        "except Exception as e:\n",
        "  print(f\"Erro na autorização: {e}\")"
      ],
      "metadata": {
        "colab": {
          "base_uri": "https://localhost:8080/"
        },
        "id": "4m9PXQLEWeeR",
        "outputId": "9fe55cb2-f7ac-4195-a8bc-6c3981740e66"
      },
      "execution_count": null,
      "outputs": [
        {
          "output_type": "stream",
          "name": "stdout",
          "text": [
            "Autorização bem-sucedida!\n"
          ]
        }
      ]
    },
    {
      "cell_type": "code",
      "source": [
        "subreddit_name = \"climatechange\"\n",
        "search_terms = [\n",
        "    \"climate change\",\n",
        "    \"global warming\",\n",
        "    \"climate crisis\",\n",
        "    \"climate emergency\",\n",
        "    \"environment\",\n",
        "    \"sustainability\",\n",
        "    \"ecology\",\n",
        "    \"climate\",\n",
        "    \"planet\",\n",
        "    \"atmosphere\",\n",
        "    \"greenhouse effect\",\n",
        "    \"carbon emissions\",\n",
        "    \"greenhouse gases\",\n",
        "    \"fossil fuels\",\n",
        "    \"oil\",\n",
        "    \"coal\",\n",
        "    \"natural gas\",\n",
        "    \"deforestation\",\n",
        "    \"wildfires\",\n",
        "    \"agriculture methane emissions\",\n",
        "    \"industrialization\",\n",
        "    \"overconsumption\",\n",
        "    \"extreme weather events\",\n",
        "    \"drought\",\n",
        "    \"flooding\",\n",
        "    \"storm\",\n",
        "    \"hurricane\",\n",
        "    \"cyclone\",\n",
        "    \"heatwave\",\n",
        "    \"forest fires\",\n",
        "    \"sea level rise\",\n",
        "    \"melting glaciers\",\n",
        "    \"biodiversity loss\",\n",
        "    \"species extinction\",\n",
        "    \"ocean acidification\",\n",
        "    \"food security\",\n",
        "    \"water scarcity\",\n",
        "    \"climate migration\",\n",
        "    \"health impacts climate change\",\n",
        "    \"renewable energy\",\n",
        "    \"solar power\",\n",
        "    \"wind power\",\n",
        "    \"hydroelectric power\",\n",
        "    \"geothermal energy\",\n",
        "    \"biomass energy\",\n",
        "    \"energy transition\",\n",
        "    \"decarbonization\",\n",
        "    \"carbon neutrality\",\n",
        "    \"circular economy\",\n",
        "    \"energy efficiency\",\n",
        "    \"carbon capture\",\n",
        "    \"reforestation\",\n",
        "    \"sustainable agriculture\",\n",
        "    \"electric mobility\",\n",
        "    \"green hydrogen\",\n",
        "    \"Paris Agreement\",\n",
        "    \"COP\",\n",
        "    \"COP26\",\n",
        "    \"COP27\",\n",
        "    \"COP28\",\n",
        "    \"COP29\",\n",
        "    \"COP30\",\n",
        "    \"climate policies\",\n",
        "    \"environmental legislation\",\n",
        "    \"climate activism\",\n",
        "    \"climate justice\",\n",
        "    \"climate action\",\n",
        "    \"government climate change\",\n",
        "    \"companies sustainability\",\n",
        "    \"NGOs environment\",\n",
        "    \"IPCC reports\",\n",
        "    \"climate skepticism\",\n",
        "    \"climate denial\",\n",
        "    \"climate misinformation\",\n",
        "    \"climate conspiracy theories\",\n",
        "    \"#ClimateChange\",\n",
        "    \"#GlobalWarming\",\n",
        "    \"#ClimateCrisis\",\n",
        "    \"#ClimateEmergency\",\n",
        "    \"#Environment\",\n",
        "    \"#Sustainability\",\n",
        "    \"#Ecology\",\n",
        "    \"#Climate\",\n",
        "    \"#ActOnClimate\",\n",
        "    \"#SaveOurPlanet\",\n",
        "    \"#GreenNewDeal\",\n",
        "    \"#RenewableEnergy\",\n",
        "    \"#NetZero\",\n",
        "    \"#FridaysForFuture\",\n",
        "    \"#ExtinctionRebellion\",\n",
        "    \"#ClimateJustice\"\n",
        "]\n",
        "limit = 10  # amount limit\n",
        "\n",
        "collected_posts = []\n",
        "\n",
        "try:\n",
        "    subreddit = reddit.subreddit(subreddit_name)\n",
        "    for term in search_terms:\n",
        "        print(f\"Searching for: '{term}' in r/{subreddit_name}\")\n",
        "        for submission in subreddit.search(query=term, sort=\"relevance\", limit=limit):\n",
        "            post_data = {\n",
        "                \"id\": submission.id,\n",
        "                \"title\": submission.title,\n",
        "                \"author\": str(submission.author),\n",
        "                \"url\": submission.url,\n",
        "                \"created_utc\": submission.created_utc,\n",
        "                \"selftext\": submission.selftext, # post content (if its a text post)\n",
        "                \"subreddit\": subreddit_name,\n",
        "                \"search_term\": term\n",
        "            }\n",
        "            collected_posts.append(post_data)\n",
        "        print(f\"Collected {len(collected_posts)} posts until now.\")\n",
        "\n",
        "except Exception as e:\n",
        "    print(f\"Error during collect: {e}\")\n",
        "\n",
        "print(\"\\nCollected data:\")\n",
        "for post in collected_posts:\n",
        "    print(f\"ID: {post['id']}, Título: {post['title']}\")"
      ],
      "metadata": {
        "colab": {
          "base_uri": "https://localhost:8080/"
        },
        "id": "T5cvE5S2XG8p",
        "outputId": "338859ec-e83f-49ea-8d44-5cffef41b08b"
      },
      "execution_count": null,
      "outputs": [
        {
          "output_type": "stream",
          "name": "stderr",
          "text": [
            "WARNING:praw:It appears that you are using PRAW in an asynchronous environment.\n",
            "It is strongly recommended to use Async PRAW: https://asyncpraw.readthedocs.io.\n",
            "See https://praw.readthedocs.io/en/latest/getting_started/multiple_instances.html#discord-bots-and-asynchronous-environments for more info.\n",
            "\n"
          ]
        },
        {
          "output_type": "stream",
          "name": "stdout",
          "text": [
            "Searching for: 'climate change' in r/climatechange\n"
          ]
        },
        {
          "output_type": "stream",
          "name": "stderr",
          "text": [
            "WARNING:praw:It appears that you are using PRAW in an asynchronous environment.\n",
            "It is strongly recommended to use Async PRAW: https://asyncpraw.readthedocs.io.\n",
            "See https://praw.readthedocs.io/en/latest/getting_started/multiple_instances.html#discord-bots-and-asynchronous-environments for more info.\n",
            "\n"
          ]
        },
        {
          "output_type": "stream",
          "name": "stdout",
          "text": [
            "Collected 10 posts until now.\n",
            "Searching for: 'global warming' in r/climatechange\n"
          ]
        },
        {
          "output_type": "stream",
          "name": "stderr",
          "text": [
            "WARNING:praw:It appears that you are using PRAW in an asynchronous environment.\n",
            "It is strongly recommended to use Async PRAW: https://asyncpraw.readthedocs.io.\n",
            "See https://praw.readthedocs.io/en/latest/getting_started/multiple_instances.html#discord-bots-and-asynchronous-environments for more info.\n",
            "\n"
          ]
        },
        {
          "output_type": "stream",
          "name": "stdout",
          "text": [
            "Collected 20 posts until now.\n",
            "Searching for: 'climate crisis' in r/climatechange\n"
          ]
        },
        {
          "output_type": "stream",
          "name": "stderr",
          "text": [
            "WARNING:praw:It appears that you are using PRAW in an asynchronous environment.\n",
            "It is strongly recommended to use Async PRAW: https://asyncpraw.readthedocs.io.\n",
            "See https://praw.readthedocs.io/en/latest/getting_started/multiple_instances.html#discord-bots-and-asynchronous-environments for more info.\n",
            "\n"
          ]
        },
        {
          "output_type": "stream",
          "name": "stdout",
          "text": [
            "Collected 30 posts until now.\n",
            "Searching for: 'climate emergency' in r/climatechange\n"
          ]
        },
        {
          "output_type": "stream",
          "name": "stderr",
          "text": [
            "WARNING:praw:It appears that you are using PRAW in an asynchronous environment.\n",
            "It is strongly recommended to use Async PRAW: https://asyncpraw.readthedocs.io.\n",
            "See https://praw.readthedocs.io/en/latest/getting_started/multiple_instances.html#discord-bots-and-asynchronous-environments for more info.\n",
            "\n"
          ]
        },
        {
          "output_type": "stream",
          "name": "stdout",
          "text": [
            "Collected 40 posts until now.\n",
            "Searching for: 'environment' in r/climatechange\n"
          ]
        },
        {
          "output_type": "stream",
          "name": "stderr",
          "text": [
            "WARNING:praw:It appears that you are using PRAW in an asynchronous environment.\n",
            "It is strongly recommended to use Async PRAW: https://asyncpraw.readthedocs.io.\n",
            "See https://praw.readthedocs.io/en/latest/getting_started/multiple_instances.html#discord-bots-and-asynchronous-environments for more info.\n",
            "\n"
          ]
        },
        {
          "output_type": "stream",
          "name": "stdout",
          "text": [
            "Collected 50 posts until now.\n",
            "Searching for: 'sustainability' in r/climatechange\n"
          ]
        },
        {
          "output_type": "stream",
          "name": "stderr",
          "text": [
            "WARNING:praw:It appears that you are using PRAW in an asynchronous environment.\n",
            "It is strongly recommended to use Async PRAW: https://asyncpraw.readthedocs.io.\n",
            "See https://praw.readthedocs.io/en/latest/getting_started/multiple_instances.html#discord-bots-and-asynchronous-environments for more info.\n",
            "\n"
          ]
        },
        {
          "output_type": "stream",
          "name": "stdout",
          "text": [
            "Collected 60 posts until now.\n",
            "Searching for: 'ecology' in r/climatechange\n"
          ]
        },
        {
          "output_type": "stream",
          "name": "stderr",
          "text": [
            "WARNING:praw:It appears that you are using PRAW in an asynchronous environment.\n",
            "It is strongly recommended to use Async PRAW: https://asyncpraw.readthedocs.io.\n",
            "See https://praw.readthedocs.io/en/latest/getting_started/multiple_instances.html#discord-bots-and-asynchronous-environments for more info.\n",
            "\n"
          ]
        },
        {
          "output_type": "stream",
          "name": "stdout",
          "text": [
            "Collected 70 posts until now.\n",
            "Searching for: 'climate' in r/climatechange\n"
          ]
        },
        {
          "output_type": "stream",
          "name": "stderr",
          "text": [
            "WARNING:praw:It appears that you are using PRAW in an asynchronous environment.\n",
            "It is strongly recommended to use Async PRAW: https://asyncpraw.readthedocs.io.\n",
            "See https://praw.readthedocs.io/en/latest/getting_started/multiple_instances.html#discord-bots-and-asynchronous-environments for more info.\n",
            "\n"
          ]
        },
        {
          "output_type": "stream",
          "name": "stdout",
          "text": [
            "Collected 80 posts until now.\n",
            "Searching for: 'planet' in r/climatechange\n"
          ]
        },
        {
          "output_type": "stream",
          "name": "stderr",
          "text": [
            "WARNING:praw:It appears that you are using PRAW in an asynchronous environment.\n",
            "It is strongly recommended to use Async PRAW: https://asyncpraw.readthedocs.io.\n",
            "See https://praw.readthedocs.io/en/latest/getting_started/multiple_instances.html#discord-bots-and-asynchronous-environments for more info.\n",
            "\n"
          ]
        },
        {
          "output_type": "stream",
          "name": "stdout",
          "text": [
            "Collected 90 posts until now.\n",
            "Searching for: 'atmosphere' in r/climatechange\n"
          ]
        },
        {
          "output_type": "stream",
          "name": "stderr",
          "text": [
            "WARNING:praw:It appears that you are using PRAW in an asynchronous environment.\n",
            "It is strongly recommended to use Async PRAW: https://asyncpraw.readthedocs.io.\n",
            "See https://praw.readthedocs.io/en/latest/getting_started/multiple_instances.html#discord-bots-and-asynchronous-environments for more info.\n",
            "\n"
          ]
        },
        {
          "output_type": "stream",
          "name": "stdout",
          "text": [
            "Collected 100 posts until now.\n",
            "Searching for: 'greenhouse effect' in r/climatechange\n"
          ]
        },
        {
          "output_type": "stream",
          "name": "stderr",
          "text": [
            "WARNING:praw:It appears that you are using PRAW in an asynchronous environment.\n",
            "It is strongly recommended to use Async PRAW: https://asyncpraw.readthedocs.io.\n",
            "See https://praw.readthedocs.io/en/latest/getting_started/multiple_instances.html#discord-bots-and-asynchronous-environments for more info.\n",
            "\n"
          ]
        },
        {
          "output_type": "stream",
          "name": "stdout",
          "text": [
            "Collected 110 posts until now.\n",
            "Searching for: 'carbon emissions' in r/climatechange\n"
          ]
        },
        {
          "output_type": "stream",
          "name": "stderr",
          "text": [
            "WARNING:praw:It appears that you are using PRAW in an asynchronous environment.\n",
            "It is strongly recommended to use Async PRAW: https://asyncpraw.readthedocs.io.\n",
            "See https://praw.readthedocs.io/en/latest/getting_started/multiple_instances.html#discord-bots-and-asynchronous-environments for more info.\n",
            "\n"
          ]
        },
        {
          "output_type": "stream",
          "name": "stdout",
          "text": [
            "Collected 120 posts until now.\n",
            "Searching for: 'greenhouse gases' in r/climatechange\n"
          ]
        },
        {
          "output_type": "stream",
          "name": "stderr",
          "text": [
            "WARNING:praw:It appears that you are using PRAW in an asynchronous environment.\n",
            "It is strongly recommended to use Async PRAW: https://asyncpraw.readthedocs.io.\n",
            "See https://praw.readthedocs.io/en/latest/getting_started/multiple_instances.html#discord-bots-and-asynchronous-environments for more info.\n",
            "\n"
          ]
        },
        {
          "output_type": "stream",
          "name": "stdout",
          "text": [
            "Collected 130 posts until now.\n",
            "Searching for: 'fossil fuels' in r/climatechange\n"
          ]
        },
        {
          "output_type": "stream",
          "name": "stderr",
          "text": [
            "WARNING:praw:It appears that you are using PRAW in an asynchronous environment.\n",
            "It is strongly recommended to use Async PRAW: https://asyncpraw.readthedocs.io.\n",
            "See https://praw.readthedocs.io/en/latest/getting_started/multiple_instances.html#discord-bots-and-asynchronous-environments for more info.\n",
            "\n"
          ]
        },
        {
          "output_type": "stream",
          "name": "stdout",
          "text": [
            "Collected 140 posts until now.\n",
            "Searching for: 'oil' in r/climatechange\n"
          ]
        },
        {
          "output_type": "stream",
          "name": "stderr",
          "text": [
            "WARNING:praw:It appears that you are using PRAW in an asynchronous environment.\n",
            "It is strongly recommended to use Async PRAW: https://asyncpraw.readthedocs.io.\n",
            "See https://praw.readthedocs.io/en/latest/getting_started/multiple_instances.html#discord-bots-and-asynchronous-environments for more info.\n",
            "\n"
          ]
        },
        {
          "output_type": "stream",
          "name": "stdout",
          "text": [
            "Collected 150 posts until now.\n",
            "Searching for: 'coal' in r/climatechange\n"
          ]
        },
        {
          "output_type": "stream",
          "name": "stderr",
          "text": [
            "WARNING:praw:It appears that you are using PRAW in an asynchronous environment.\n",
            "It is strongly recommended to use Async PRAW: https://asyncpraw.readthedocs.io.\n",
            "See https://praw.readthedocs.io/en/latest/getting_started/multiple_instances.html#discord-bots-and-asynchronous-environments for more info.\n",
            "\n"
          ]
        },
        {
          "output_type": "stream",
          "name": "stdout",
          "text": [
            "Collected 160 posts until now.\n",
            "Searching for: 'natural gas' in r/climatechange\n"
          ]
        },
        {
          "output_type": "stream",
          "name": "stderr",
          "text": [
            "WARNING:praw:It appears that you are using PRAW in an asynchronous environment.\n",
            "It is strongly recommended to use Async PRAW: https://asyncpraw.readthedocs.io.\n",
            "See https://praw.readthedocs.io/en/latest/getting_started/multiple_instances.html#discord-bots-and-asynchronous-environments for more info.\n",
            "\n"
          ]
        },
        {
          "output_type": "stream",
          "name": "stdout",
          "text": [
            "Collected 170 posts until now.\n",
            "Searching for: 'deforestation' in r/climatechange\n"
          ]
        },
        {
          "output_type": "stream",
          "name": "stderr",
          "text": [
            "WARNING:praw:It appears that you are using PRAW in an asynchronous environment.\n",
            "It is strongly recommended to use Async PRAW: https://asyncpraw.readthedocs.io.\n",
            "See https://praw.readthedocs.io/en/latest/getting_started/multiple_instances.html#discord-bots-and-asynchronous-environments for more info.\n",
            "\n"
          ]
        },
        {
          "output_type": "stream",
          "name": "stdout",
          "text": [
            "Collected 180 posts until now.\n",
            "Searching for: 'wildfires' in r/climatechange\n"
          ]
        },
        {
          "output_type": "stream",
          "name": "stderr",
          "text": [
            "WARNING:praw:It appears that you are using PRAW in an asynchronous environment.\n",
            "It is strongly recommended to use Async PRAW: https://asyncpraw.readthedocs.io.\n",
            "See https://praw.readthedocs.io/en/latest/getting_started/multiple_instances.html#discord-bots-and-asynchronous-environments for more info.\n",
            "\n"
          ]
        },
        {
          "output_type": "stream",
          "name": "stdout",
          "text": [
            "Collected 190 posts until now.\n",
            "Searching for: 'agriculture methane emissions' in r/climatechange\n"
          ]
        },
        {
          "output_type": "stream",
          "name": "stderr",
          "text": [
            "WARNING:praw:It appears that you are using PRAW in an asynchronous environment.\n",
            "It is strongly recommended to use Async PRAW: https://asyncpraw.readthedocs.io.\n",
            "See https://praw.readthedocs.io/en/latest/getting_started/multiple_instances.html#discord-bots-and-asynchronous-environments for more info.\n",
            "\n"
          ]
        },
        {
          "output_type": "stream",
          "name": "stdout",
          "text": [
            "Collected 200 posts until now.\n",
            "Searching for: 'industrialization' in r/climatechange\n"
          ]
        },
        {
          "output_type": "stream",
          "name": "stderr",
          "text": [
            "WARNING:praw:It appears that you are using PRAW in an asynchronous environment.\n",
            "It is strongly recommended to use Async PRAW: https://asyncpraw.readthedocs.io.\n",
            "See https://praw.readthedocs.io/en/latest/getting_started/multiple_instances.html#discord-bots-and-asynchronous-environments for more info.\n",
            "\n"
          ]
        },
        {
          "output_type": "stream",
          "name": "stdout",
          "text": [
            "Collected 210 posts until now.\n",
            "Searching for: 'overconsumption' in r/climatechange\n"
          ]
        },
        {
          "output_type": "stream",
          "name": "stderr",
          "text": [
            "WARNING:praw:It appears that you are using PRAW in an asynchronous environment.\n",
            "It is strongly recommended to use Async PRAW: https://asyncpraw.readthedocs.io.\n",
            "See https://praw.readthedocs.io/en/latest/getting_started/multiple_instances.html#discord-bots-and-asynchronous-environments for more info.\n",
            "\n"
          ]
        },
        {
          "output_type": "stream",
          "name": "stdout",
          "text": [
            "Collected 215 posts until now.\n",
            "Searching for: 'extreme weather events' in r/climatechange\n"
          ]
        },
        {
          "output_type": "stream",
          "name": "stderr",
          "text": [
            "WARNING:praw:It appears that you are using PRAW in an asynchronous environment.\n",
            "It is strongly recommended to use Async PRAW: https://asyncpraw.readthedocs.io.\n",
            "See https://praw.readthedocs.io/en/latest/getting_started/multiple_instances.html#discord-bots-and-asynchronous-environments for more info.\n",
            "\n"
          ]
        },
        {
          "output_type": "stream",
          "name": "stdout",
          "text": [
            "Collected 225 posts until now.\n",
            "Searching for: 'drought' in r/climatechange\n"
          ]
        },
        {
          "output_type": "stream",
          "name": "stderr",
          "text": [
            "WARNING:praw:It appears that you are using PRAW in an asynchronous environment.\n",
            "It is strongly recommended to use Async PRAW: https://asyncpraw.readthedocs.io.\n",
            "See https://praw.readthedocs.io/en/latest/getting_started/multiple_instances.html#discord-bots-and-asynchronous-environments for more info.\n",
            "\n"
          ]
        },
        {
          "output_type": "stream",
          "name": "stdout",
          "text": [
            "Collected 235 posts until now.\n",
            "Searching for: 'flooding' in r/climatechange\n"
          ]
        },
        {
          "output_type": "stream",
          "name": "stderr",
          "text": [
            "WARNING:praw:It appears that you are using PRAW in an asynchronous environment.\n",
            "It is strongly recommended to use Async PRAW: https://asyncpraw.readthedocs.io.\n",
            "See https://praw.readthedocs.io/en/latest/getting_started/multiple_instances.html#discord-bots-and-asynchronous-environments for more info.\n",
            "\n"
          ]
        },
        {
          "output_type": "stream",
          "name": "stdout",
          "text": [
            "Collected 245 posts until now.\n",
            "Searching for: 'storm' in r/climatechange\n"
          ]
        },
        {
          "output_type": "stream",
          "name": "stderr",
          "text": [
            "WARNING:praw:It appears that you are using PRAW in an asynchronous environment.\n",
            "It is strongly recommended to use Async PRAW: https://asyncpraw.readthedocs.io.\n",
            "See https://praw.readthedocs.io/en/latest/getting_started/multiple_instances.html#discord-bots-and-asynchronous-environments for more info.\n",
            "\n"
          ]
        },
        {
          "output_type": "stream",
          "name": "stdout",
          "text": [
            "Collected 255 posts until now.\n",
            "Searching for: 'hurricane' in r/climatechange\n"
          ]
        },
        {
          "output_type": "stream",
          "name": "stderr",
          "text": [
            "WARNING:praw:It appears that you are using PRAW in an asynchronous environment.\n",
            "It is strongly recommended to use Async PRAW: https://asyncpraw.readthedocs.io.\n",
            "See https://praw.readthedocs.io/en/latest/getting_started/multiple_instances.html#discord-bots-and-asynchronous-environments for more info.\n",
            "\n"
          ]
        },
        {
          "output_type": "stream",
          "name": "stdout",
          "text": [
            "Collected 265 posts until now.\n",
            "Searching for: 'cyclone' in r/climatechange\n"
          ]
        },
        {
          "output_type": "stream",
          "name": "stderr",
          "text": [
            "WARNING:praw:It appears that you are using PRAW in an asynchronous environment.\n",
            "It is strongly recommended to use Async PRAW: https://asyncpraw.readthedocs.io.\n",
            "See https://praw.readthedocs.io/en/latest/getting_started/multiple_instances.html#discord-bots-and-asynchronous-environments for more info.\n",
            "\n"
          ]
        },
        {
          "output_type": "stream",
          "name": "stdout",
          "text": [
            "Collected 275 posts until now.\n",
            "Searching for: 'heatwave' in r/climatechange\n"
          ]
        },
        {
          "output_type": "stream",
          "name": "stderr",
          "text": [
            "WARNING:praw:It appears that you are using PRAW in an asynchronous environment.\n",
            "It is strongly recommended to use Async PRAW: https://asyncpraw.readthedocs.io.\n",
            "See https://praw.readthedocs.io/en/latest/getting_started/multiple_instances.html#discord-bots-and-asynchronous-environments for more info.\n",
            "\n"
          ]
        },
        {
          "output_type": "stream",
          "name": "stdout",
          "text": [
            "Collected 285 posts until now.\n",
            "Searching for: 'forest fires' in r/climatechange\n"
          ]
        },
        {
          "output_type": "stream",
          "name": "stderr",
          "text": [
            "WARNING:praw:It appears that you are using PRAW in an asynchronous environment.\n",
            "It is strongly recommended to use Async PRAW: https://asyncpraw.readthedocs.io.\n",
            "See https://praw.readthedocs.io/en/latest/getting_started/multiple_instances.html#discord-bots-and-asynchronous-environments for more info.\n",
            "\n"
          ]
        },
        {
          "output_type": "stream",
          "name": "stdout",
          "text": [
            "Collected 295 posts until now.\n",
            "Searching for: 'sea level rise' in r/climatechange\n"
          ]
        },
        {
          "output_type": "stream",
          "name": "stderr",
          "text": [
            "WARNING:praw:It appears that you are using PRAW in an asynchronous environment.\n",
            "It is strongly recommended to use Async PRAW: https://asyncpraw.readthedocs.io.\n",
            "See https://praw.readthedocs.io/en/latest/getting_started/multiple_instances.html#discord-bots-and-asynchronous-environments for more info.\n",
            "\n"
          ]
        },
        {
          "output_type": "stream",
          "name": "stdout",
          "text": [
            "Collected 305 posts until now.\n",
            "Searching for: 'melting glaciers' in r/climatechange\n"
          ]
        },
        {
          "output_type": "stream",
          "name": "stderr",
          "text": [
            "WARNING:praw:It appears that you are using PRAW in an asynchronous environment.\n",
            "It is strongly recommended to use Async PRAW: https://asyncpraw.readthedocs.io.\n",
            "See https://praw.readthedocs.io/en/latest/getting_started/multiple_instances.html#discord-bots-and-asynchronous-environments for more info.\n",
            "\n"
          ]
        },
        {
          "output_type": "stream",
          "name": "stdout",
          "text": [
            "Collected 315 posts until now.\n",
            "Searching for: 'biodiversity loss' in r/climatechange\n"
          ]
        },
        {
          "output_type": "stream",
          "name": "stderr",
          "text": [
            "WARNING:praw:It appears that you are using PRAW in an asynchronous environment.\n",
            "It is strongly recommended to use Async PRAW: https://asyncpraw.readthedocs.io.\n",
            "See https://praw.readthedocs.io/en/latest/getting_started/multiple_instances.html#discord-bots-and-asynchronous-environments for more info.\n",
            "\n"
          ]
        },
        {
          "output_type": "stream",
          "name": "stdout",
          "text": [
            "Collected 325 posts until now.\n",
            "Searching for: 'species extinction' in r/climatechange\n"
          ]
        },
        {
          "output_type": "stream",
          "name": "stderr",
          "text": [
            "WARNING:praw:It appears that you are using PRAW in an asynchronous environment.\n",
            "It is strongly recommended to use Async PRAW: https://asyncpraw.readthedocs.io.\n",
            "See https://praw.readthedocs.io/en/latest/getting_started/multiple_instances.html#discord-bots-and-asynchronous-environments for more info.\n",
            "\n"
          ]
        },
        {
          "output_type": "stream",
          "name": "stdout",
          "text": [
            "Collected 335 posts until now.\n",
            "Searching for: 'ocean acidification' in r/climatechange\n"
          ]
        },
        {
          "output_type": "stream",
          "name": "stderr",
          "text": [
            "WARNING:praw:It appears that you are using PRAW in an asynchronous environment.\n",
            "It is strongly recommended to use Async PRAW: https://asyncpraw.readthedocs.io.\n",
            "See https://praw.readthedocs.io/en/latest/getting_started/multiple_instances.html#discord-bots-and-asynchronous-environments for more info.\n",
            "\n"
          ]
        },
        {
          "output_type": "stream",
          "name": "stdout",
          "text": [
            "Collected 345 posts until now.\n",
            "Searching for: 'food security' in r/climatechange\n"
          ]
        },
        {
          "output_type": "stream",
          "name": "stderr",
          "text": [
            "WARNING:praw:It appears that you are using PRAW in an asynchronous environment.\n",
            "It is strongly recommended to use Async PRAW: https://asyncpraw.readthedocs.io.\n",
            "See https://praw.readthedocs.io/en/latest/getting_started/multiple_instances.html#discord-bots-and-asynchronous-environments for more info.\n",
            "\n"
          ]
        },
        {
          "output_type": "stream",
          "name": "stdout",
          "text": [
            "Collected 355 posts until now.\n",
            "Searching for: 'water scarcity' in r/climatechange\n"
          ]
        },
        {
          "output_type": "stream",
          "name": "stderr",
          "text": [
            "WARNING:praw:It appears that you are using PRAW in an asynchronous environment.\n",
            "It is strongly recommended to use Async PRAW: https://asyncpraw.readthedocs.io.\n",
            "See https://praw.readthedocs.io/en/latest/getting_started/multiple_instances.html#discord-bots-and-asynchronous-environments for more info.\n",
            "\n"
          ]
        },
        {
          "output_type": "stream",
          "name": "stdout",
          "text": [
            "Collected 365 posts until now.\n",
            "Searching for: 'climate migration' in r/climatechange\n"
          ]
        },
        {
          "output_type": "stream",
          "name": "stderr",
          "text": [
            "WARNING:praw:It appears that you are using PRAW in an asynchronous environment.\n",
            "It is strongly recommended to use Async PRAW: https://asyncpraw.readthedocs.io.\n",
            "See https://praw.readthedocs.io/en/latest/getting_started/multiple_instances.html#discord-bots-and-asynchronous-environments for more info.\n",
            "\n"
          ]
        },
        {
          "output_type": "stream",
          "name": "stdout",
          "text": [
            "Collected 375 posts until now.\n",
            "Searching for: 'health impacts climate change' in r/climatechange\n"
          ]
        },
        {
          "output_type": "stream",
          "name": "stderr",
          "text": [
            "WARNING:praw:It appears that you are using PRAW in an asynchronous environment.\n",
            "It is strongly recommended to use Async PRAW: https://asyncpraw.readthedocs.io.\n",
            "See https://praw.readthedocs.io/en/latest/getting_started/multiple_instances.html#discord-bots-and-asynchronous-environments for more info.\n",
            "\n"
          ]
        },
        {
          "output_type": "stream",
          "name": "stdout",
          "text": [
            "Collected 385 posts until now.\n",
            "Searching for: 'renewable energy' in r/climatechange\n"
          ]
        },
        {
          "output_type": "stream",
          "name": "stderr",
          "text": [
            "WARNING:praw:It appears that you are using PRAW in an asynchronous environment.\n",
            "It is strongly recommended to use Async PRAW: https://asyncpraw.readthedocs.io.\n",
            "See https://praw.readthedocs.io/en/latest/getting_started/multiple_instances.html#discord-bots-and-asynchronous-environments for more info.\n",
            "\n"
          ]
        },
        {
          "output_type": "stream",
          "name": "stdout",
          "text": [
            "Collected 395 posts until now.\n",
            "Searching for: 'solar power' in r/climatechange\n"
          ]
        },
        {
          "output_type": "stream",
          "name": "stderr",
          "text": [
            "WARNING:praw:It appears that you are using PRAW in an asynchronous environment.\n",
            "It is strongly recommended to use Async PRAW: https://asyncpraw.readthedocs.io.\n",
            "See https://praw.readthedocs.io/en/latest/getting_started/multiple_instances.html#discord-bots-and-asynchronous-environments for more info.\n",
            "\n"
          ]
        },
        {
          "output_type": "stream",
          "name": "stdout",
          "text": [
            "Collected 405 posts until now.\n",
            "Searching for: 'wind power' in r/climatechange\n"
          ]
        },
        {
          "output_type": "stream",
          "name": "stderr",
          "text": [
            "WARNING:praw:It appears that you are using PRAW in an asynchronous environment.\n",
            "It is strongly recommended to use Async PRAW: https://asyncpraw.readthedocs.io.\n",
            "See https://praw.readthedocs.io/en/latest/getting_started/multiple_instances.html#discord-bots-and-asynchronous-environments for more info.\n",
            "\n"
          ]
        },
        {
          "output_type": "stream",
          "name": "stdout",
          "text": [
            "Collected 415 posts until now.\n",
            "Searching for: 'hydroelectric power' in r/climatechange\n"
          ]
        },
        {
          "output_type": "stream",
          "name": "stderr",
          "text": [
            "WARNING:praw:It appears that you are using PRAW in an asynchronous environment.\n",
            "It is strongly recommended to use Async PRAW: https://asyncpraw.readthedocs.io.\n",
            "See https://praw.readthedocs.io/en/latest/getting_started/multiple_instances.html#discord-bots-and-asynchronous-environments for more info.\n",
            "\n"
          ]
        },
        {
          "output_type": "stream",
          "name": "stdout",
          "text": [
            "Collected 421 posts until now.\n",
            "Searching for: 'geothermal energy' in r/climatechange\n"
          ]
        },
        {
          "output_type": "stream",
          "name": "stderr",
          "text": [
            "WARNING:praw:It appears that you are using PRAW in an asynchronous environment.\n",
            "It is strongly recommended to use Async PRAW: https://asyncpraw.readthedocs.io.\n",
            "See https://praw.readthedocs.io/en/latest/getting_started/multiple_instances.html#discord-bots-and-asynchronous-environments for more info.\n",
            "\n"
          ]
        },
        {
          "output_type": "stream",
          "name": "stdout",
          "text": [
            "Collected 431 posts until now.\n",
            "Searching for: 'biomass energy' in r/climatechange\n"
          ]
        },
        {
          "output_type": "stream",
          "name": "stderr",
          "text": [
            "WARNING:praw:It appears that you are using PRAW in an asynchronous environment.\n",
            "It is strongly recommended to use Async PRAW: https://asyncpraw.readthedocs.io.\n",
            "See https://praw.readthedocs.io/en/latest/getting_started/multiple_instances.html#discord-bots-and-asynchronous-environments for more info.\n",
            "\n"
          ]
        },
        {
          "output_type": "stream",
          "name": "stdout",
          "text": [
            "Collected 441 posts until now.\n",
            "Searching for: 'energy transition' in r/climatechange\n"
          ]
        },
        {
          "output_type": "stream",
          "name": "stderr",
          "text": [
            "WARNING:praw:It appears that you are using PRAW in an asynchronous environment.\n",
            "It is strongly recommended to use Async PRAW: https://asyncpraw.readthedocs.io.\n",
            "See https://praw.readthedocs.io/en/latest/getting_started/multiple_instances.html#discord-bots-and-asynchronous-environments for more info.\n",
            "\n"
          ]
        },
        {
          "output_type": "stream",
          "name": "stdout",
          "text": [
            "Collected 451 posts until now.\n",
            "Searching for: 'decarbonization' in r/climatechange\n"
          ]
        },
        {
          "output_type": "stream",
          "name": "stderr",
          "text": [
            "WARNING:praw:It appears that you are using PRAW in an asynchronous environment.\n",
            "It is strongly recommended to use Async PRAW: https://asyncpraw.readthedocs.io.\n",
            "See https://praw.readthedocs.io/en/latest/getting_started/multiple_instances.html#discord-bots-and-asynchronous-environments for more info.\n",
            "\n"
          ]
        },
        {
          "output_type": "stream",
          "name": "stdout",
          "text": [
            "Collected 461 posts until now.\n",
            "Searching for: 'carbon neutrality' in r/climatechange\n"
          ]
        },
        {
          "output_type": "stream",
          "name": "stderr",
          "text": [
            "WARNING:praw:It appears that you are using PRAW in an asynchronous environment.\n",
            "It is strongly recommended to use Async PRAW: https://asyncpraw.readthedocs.io.\n",
            "See https://praw.readthedocs.io/en/latest/getting_started/multiple_instances.html#discord-bots-and-asynchronous-environments for more info.\n",
            "\n"
          ]
        },
        {
          "output_type": "stream",
          "name": "stdout",
          "text": [
            "Collected 471 posts until now.\n",
            "Searching for: 'circular economy' in r/climatechange\n"
          ]
        },
        {
          "output_type": "stream",
          "name": "stderr",
          "text": [
            "WARNING:praw:It appears that you are using PRAW in an asynchronous environment.\n",
            "It is strongly recommended to use Async PRAW: https://asyncpraw.readthedocs.io.\n",
            "See https://praw.readthedocs.io/en/latest/getting_started/multiple_instances.html#discord-bots-and-asynchronous-environments for more info.\n",
            "\n"
          ]
        },
        {
          "output_type": "stream",
          "name": "stdout",
          "text": [
            "Collected 477 posts until now.\n",
            "Searching for: 'energy efficiency' in r/climatechange\n"
          ]
        },
        {
          "output_type": "stream",
          "name": "stderr",
          "text": [
            "WARNING:praw:It appears that you are using PRAW in an asynchronous environment.\n",
            "It is strongly recommended to use Async PRAW: https://asyncpraw.readthedocs.io.\n",
            "See https://praw.readthedocs.io/en/latest/getting_started/multiple_instances.html#discord-bots-and-asynchronous-environments for more info.\n",
            "\n"
          ]
        },
        {
          "output_type": "stream",
          "name": "stdout",
          "text": [
            "Collected 487 posts until now.\n",
            "Searching for: 'carbon capture' in r/climatechange\n"
          ]
        },
        {
          "output_type": "stream",
          "name": "stderr",
          "text": [
            "WARNING:praw:It appears that you are using PRAW in an asynchronous environment.\n",
            "It is strongly recommended to use Async PRAW: https://asyncpraw.readthedocs.io.\n",
            "See https://praw.readthedocs.io/en/latest/getting_started/multiple_instances.html#discord-bots-and-asynchronous-environments for more info.\n",
            "\n"
          ]
        },
        {
          "output_type": "stream",
          "name": "stdout",
          "text": [
            "Collected 497 posts until now.\n",
            "Searching for: 'reforestation' in r/climatechange\n"
          ]
        },
        {
          "output_type": "stream",
          "name": "stderr",
          "text": [
            "WARNING:praw:It appears that you are using PRAW in an asynchronous environment.\n",
            "It is strongly recommended to use Async PRAW: https://asyncpraw.readthedocs.io.\n",
            "See https://praw.readthedocs.io/en/latest/getting_started/multiple_instances.html#discord-bots-and-asynchronous-environments for more info.\n",
            "\n"
          ]
        },
        {
          "output_type": "stream",
          "name": "stdout",
          "text": [
            "Collected 507 posts until now.\n",
            "Searching for: 'sustainable agriculture' in r/climatechange\n"
          ]
        },
        {
          "output_type": "stream",
          "name": "stderr",
          "text": [
            "WARNING:praw:It appears that you are using PRAW in an asynchronous environment.\n",
            "It is strongly recommended to use Async PRAW: https://asyncpraw.readthedocs.io.\n",
            "See https://praw.readthedocs.io/en/latest/getting_started/multiple_instances.html#discord-bots-and-asynchronous-environments for more info.\n",
            "\n"
          ]
        },
        {
          "output_type": "stream",
          "name": "stdout",
          "text": [
            "Collected 517 posts until now.\n",
            "Searching for: 'electric mobility' in r/climatechange\n"
          ]
        },
        {
          "output_type": "stream",
          "name": "stderr",
          "text": [
            "WARNING:praw:It appears that you are using PRAW in an asynchronous environment.\n",
            "It is strongly recommended to use Async PRAW: https://asyncpraw.readthedocs.io.\n",
            "See https://praw.readthedocs.io/en/latest/getting_started/multiple_instances.html#discord-bots-and-asynchronous-environments for more info.\n",
            "\n"
          ]
        },
        {
          "output_type": "stream",
          "name": "stdout",
          "text": [
            "Collected 525 posts until now.\n",
            "Searching for: 'green hydrogen' in r/climatechange\n"
          ]
        },
        {
          "output_type": "stream",
          "name": "stderr",
          "text": [
            "WARNING:praw:It appears that you are using PRAW in an asynchronous environment.\n",
            "It is strongly recommended to use Async PRAW: https://asyncpraw.readthedocs.io.\n",
            "See https://praw.readthedocs.io/en/latest/getting_started/multiple_instances.html#discord-bots-and-asynchronous-environments for more info.\n",
            "\n"
          ]
        },
        {
          "output_type": "stream",
          "name": "stdout",
          "text": [
            "Collected 535 posts until now.\n",
            "Searching for: 'Paris Agreement' in r/climatechange\n"
          ]
        },
        {
          "output_type": "stream",
          "name": "stderr",
          "text": [
            "WARNING:praw:It appears that you are using PRAW in an asynchronous environment.\n",
            "It is strongly recommended to use Async PRAW: https://asyncpraw.readthedocs.io.\n",
            "See https://praw.readthedocs.io/en/latest/getting_started/multiple_instances.html#discord-bots-and-asynchronous-environments for more info.\n",
            "\n"
          ]
        },
        {
          "output_type": "stream",
          "name": "stdout",
          "text": [
            "Collected 545 posts until now.\n",
            "Searching for: 'COP' in r/climatechange\n"
          ]
        },
        {
          "output_type": "stream",
          "name": "stderr",
          "text": [
            "WARNING:praw:It appears that you are using PRAW in an asynchronous environment.\n",
            "It is strongly recommended to use Async PRAW: https://asyncpraw.readthedocs.io.\n",
            "See https://praw.readthedocs.io/en/latest/getting_started/multiple_instances.html#discord-bots-and-asynchronous-environments for more info.\n",
            "\n"
          ]
        },
        {
          "output_type": "stream",
          "name": "stdout",
          "text": [
            "Collected 555 posts until now.\n",
            "Searching for: 'COP26' in r/climatechange\n"
          ]
        },
        {
          "output_type": "stream",
          "name": "stderr",
          "text": [
            "WARNING:praw:It appears that you are using PRAW in an asynchronous environment.\n",
            "It is strongly recommended to use Async PRAW: https://asyncpraw.readthedocs.io.\n",
            "See https://praw.readthedocs.io/en/latest/getting_started/multiple_instances.html#discord-bots-and-asynchronous-environments for more info.\n",
            "\n"
          ]
        },
        {
          "output_type": "stream",
          "name": "stdout",
          "text": [
            "Collected 565 posts until now.\n",
            "Searching for: 'COP27' in r/climatechange\n"
          ]
        },
        {
          "output_type": "stream",
          "name": "stderr",
          "text": [
            "WARNING:praw:It appears that you are using PRAW in an asynchronous environment.\n",
            "It is strongly recommended to use Async PRAW: https://asyncpraw.readthedocs.io.\n",
            "See https://praw.readthedocs.io/en/latest/getting_started/multiple_instances.html#discord-bots-and-asynchronous-environments for more info.\n",
            "\n"
          ]
        },
        {
          "output_type": "stream",
          "name": "stdout",
          "text": [
            "Collected 575 posts until now.\n",
            "Searching for: 'COP28' in r/climatechange\n"
          ]
        },
        {
          "output_type": "stream",
          "name": "stderr",
          "text": [
            "WARNING:praw:It appears that you are using PRAW in an asynchronous environment.\n",
            "It is strongly recommended to use Async PRAW: https://asyncpraw.readthedocs.io.\n",
            "See https://praw.readthedocs.io/en/latest/getting_started/multiple_instances.html#discord-bots-and-asynchronous-environments for more info.\n",
            "\n"
          ]
        },
        {
          "output_type": "stream",
          "name": "stdout",
          "text": [
            "Collected 585 posts until now.\n",
            "Searching for: 'COP29' in r/climatechange\n"
          ]
        },
        {
          "output_type": "stream",
          "name": "stderr",
          "text": [
            "WARNING:praw:It appears that you are using PRAW in an asynchronous environment.\n",
            "It is strongly recommended to use Async PRAW: https://asyncpraw.readthedocs.io.\n",
            "See https://praw.readthedocs.io/en/latest/getting_started/multiple_instances.html#discord-bots-and-asynchronous-environments for more info.\n",
            "\n"
          ]
        },
        {
          "output_type": "stream",
          "name": "stdout",
          "text": [
            "Collected 595 posts until now.\n",
            "Searching for: 'COP30' in r/climatechange\n"
          ]
        },
        {
          "output_type": "stream",
          "name": "stderr",
          "text": [
            "WARNING:praw:It appears that you are using PRAW in an asynchronous environment.\n",
            "It is strongly recommended to use Async PRAW: https://asyncpraw.readthedocs.io.\n",
            "See https://praw.readthedocs.io/en/latest/getting_started/multiple_instances.html#discord-bots-and-asynchronous-environments for more info.\n",
            "\n"
          ]
        },
        {
          "output_type": "stream",
          "name": "stdout",
          "text": [
            "Collected 597 posts until now.\n",
            "Searching for: 'climate policies' in r/climatechange\n"
          ]
        },
        {
          "output_type": "stream",
          "name": "stderr",
          "text": [
            "WARNING:praw:It appears that you are using PRAW in an asynchronous environment.\n",
            "It is strongly recommended to use Async PRAW: https://asyncpraw.readthedocs.io.\n",
            "See https://praw.readthedocs.io/en/latest/getting_started/multiple_instances.html#discord-bots-and-asynchronous-environments for more info.\n",
            "\n"
          ]
        },
        {
          "output_type": "stream",
          "name": "stdout",
          "text": [
            "Collected 607 posts until now.\n",
            "Searching for: 'environmental legislation' in r/climatechange\n"
          ]
        },
        {
          "output_type": "stream",
          "name": "stderr",
          "text": [
            "WARNING:praw:It appears that you are using PRAW in an asynchronous environment.\n",
            "It is strongly recommended to use Async PRAW: https://asyncpraw.readthedocs.io.\n",
            "See https://praw.readthedocs.io/en/latest/getting_started/multiple_instances.html#discord-bots-and-asynchronous-environments for more info.\n",
            "\n"
          ]
        },
        {
          "output_type": "stream",
          "name": "stdout",
          "text": [
            "Collected 615 posts until now.\n",
            "Searching for: 'climate activism' in r/climatechange\n"
          ]
        },
        {
          "output_type": "stream",
          "name": "stderr",
          "text": [
            "WARNING:praw:It appears that you are using PRAW in an asynchronous environment.\n",
            "It is strongly recommended to use Async PRAW: https://asyncpraw.readthedocs.io.\n",
            "See https://praw.readthedocs.io/en/latest/getting_started/multiple_instances.html#discord-bots-and-asynchronous-environments for more info.\n",
            "\n"
          ]
        },
        {
          "output_type": "stream",
          "name": "stdout",
          "text": [
            "Collected 625 posts until now.\n",
            "Searching for: 'climate justice' in r/climatechange\n"
          ]
        },
        {
          "output_type": "stream",
          "name": "stderr",
          "text": [
            "WARNING:praw:It appears that you are using PRAW in an asynchronous environment.\n",
            "It is strongly recommended to use Async PRAW: https://asyncpraw.readthedocs.io.\n",
            "See https://praw.readthedocs.io/en/latest/getting_started/multiple_instances.html#discord-bots-and-asynchronous-environments for more info.\n",
            "\n"
          ]
        },
        {
          "output_type": "stream",
          "name": "stdout",
          "text": [
            "Collected 635 posts until now.\n",
            "Searching for: 'climate action' in r/climatechange\n"
          ]
        },
        {
          "output_type": "stream",
          "name": "stderr",
          "text": [
            "WARNING:praw:It appears that you are using PRAW in an asynchronous environment.\n",
            "It is strongly recommended to use Async PRAW: https://asyncpraw.readthedocs.io.\n",
            "See https://praw.readthedocs.io/en/latest/getting_started/multiple_instances.html#discord-bots-and-asynchronous-environments for more info.\n",
            "\n"
          ]
        },
        {
          "output_type": "stream",
          "name": "stdout",
          "text": [
            "Collected 645 posts until now.\n",
            "Searching for: 'government climate change' in r/climatechange\n"
          ]
        },
        {
          "output_type": "stream",
          "name": "stderr",
          "text": [
            "WARNING:praw:It appears that you are using PRAW in an asynchronous environment.\n",
            "It is strongly recommended to use Async PRAW: https://asyncpraw.readthedocs.io.\n",
            "See https://praw.readthedocs.io/en/latest/getting_started/multiple_instances.html#discord-bots-and-asynchronous-environments for more info.\n",
            "\n"
          ]
        },
        {
          "output_type": "stream",
          "name": "stdout",
          "text": [
            "Collected 655 posts until now.\n",
            "Searching for: 'companies sustainability' in r/climatechange\n"
          ]
        },
        {
          "output_type": "stream",
          "name": "stderr",
          "text": [
            "WARNING:praw:It appears that you are using PRAW in an asynchronous environment.\n",
            "It is strongly recommended to use Async PRAW: https://asyncpraw.readthedocs.io.\n",
            "See https://praw.readthedocs.io/en/latest/getting_started/multiple_instances.html#discord-bots-and-asynchronous-environments for more info.\n",
            "\n"
          ]
        },
        {
          "output_type": "stream",
          "name": "stdout",
          "text": [
            "Collected 665 posts until now.\n",
            "Searching for: 'NGOs environment' in r/climatechange\n"
          ]
        },
        {
          "output_type": "stream",
          "name": "stderr",
          "text": [
            "WARNING:praw:It appears that you are using PRAW in an asynchronous environment.\n",
            "It is strongly recommended to use Async PRAW: https://asyncpraw.readthedocs.io.\n",
            "See https://praw.readthedocs.io/en/latest/getting_started/multiple_instances.html#discord-bots-and-asynchronous-environments for more info.\n",
            "\n"
          ]
        },
        {
          "output_type": "stream",
          "name": "stdout",
          "text": [
            "Collected 667 posts until now.\n",
            "Searching for: 'IPCC reports' in r/climatechange\n"
          ]
        },
        {
          "output_type": "stream",
          "name": "stderr",
          "text": [
            "WARNING:praw:It appears that you are using PRAW in an asynchronous environment.\n",
            "It is strongly recommended to use Async PRAW: https://asyncpraw.readthedocs.io.\n",
            "See https://praw.readthedocs.io/en/latest/getting_started/multiple_instances.html#discord-bots-and-asynchronous-environments for more info.\n",
            "\n"
          ]
        },
        {
          "output_type": "stream",
          "name": "stdout",
          "text": [
            "Collected 677 posts until now.\n",
            "Searching for: 'climate skepticism' in r/climatechange\n"
          ]
        },
        {
          "output_type": "stream",
          "name": "stderr",
          "text": [
            "WARNING:praw:It appears that you are using PRAW in an asynchronous environment.\n",
            "It is strongly recommended to use Async PRAW: https://asyncpraw.readthedocs.io.\n",
            "See https://praw.readthedocs.io/en/latest/getting_started/multiple_instances.html#discord-bots-and-asynchronous-environments for more info.\n",
            "\n"
          ]
        },
        {
          "output_type": "stream",
          "name": "stdout",
          "text": [
            "Collected 687 posts until now.\n",
            "Searching for: 'climate denial' in r/climatechange\n"
          ]
        },
        {
          "output_type": "stream",
          "name": "stderr",
          "text": [
            "WARNING:praw:It appears that you are using PRAW in an asynchronous environment.\n",
            "It is strongly recommended to use Async PRAW: https://asyncpraw.readthedocs.io.\n",
            "See https://praw.readthedocs.io/en/latest/getting_started/multiple_instances.html#discord-bots-and-asynchronous-environments for more info.\n",
            "\n"
          ]
        },
        {
          "output_type": "stream",
          "name": "stdout",
          "text": [
            "Collected 697 posts until now.\n",
            "Searching for: 'climate misinformation' in r/climatechange\n"
          ]
        },
        {
          "output_type": "stream",
          "name": "stderr",
          "text": [
            "WARNING:praw:It appears that you are using PRAW in an asynchronous environment.\n",
            "It is strongly recommended to use Async PRAW: https://asyncpraw.readthedocs.io.\n",
            "See https://praw.readthedocs.io/en/latest/getting_started/multiple_instances.html#discord-bots-and-asynchronous-environments for more info.\n",
            "\n"
          ]
        },
        {
          "output_type": "stream",
          "name": "stdout",
          "text": [
            "Collected 707 posts until now.\n",
            "Searching for: 'climate conspiracy theories' in r/climatechange\n"
          ]
        },
        {
          "output_type": "stream",
          "name": "stderr",
          "text": [
            "WARNING:praw:It appears that you are using PRAW in an asynchronous environment.\n",
            "It is strongly recommended to use Async PRAW: https://asyncpraw.readthedocs.io.\n",
            "See https://praw.readthedocs.io/en/latest/getting_started/multiple_instances.html#discord-bots-and-asynchronous-environments for more info.\n",
            "\n"
          ]
        },
        {
          "output_type": "stream",
          "name": "stdout",
          "text": [
            "Collected 717 posts until now.\n",
            "Searching for: '#ClimateChange' in r/climatechange\n"
          ]
        },
        {
          "output_type": "stream",
          "name": "stderr",
          "text": [
            "WARNING:praw:It appears that you are using PRAW in an asynchronous environment.\n",
            "It is strongly recommended to use Async PRAW: https://asyncpraw.readthedocs.io.\n",
            "See https://praw.readthedocs.io/en/latest/getting_started/multiple_instances.html#discord-bots-and-asynchronous-environments for more info.\n",
            "\n"
          ]
        },
        {
          "output_type": "stream",
          "name": "stdout",
          "text": [
            "Collected 727 posts until now.\n",
            "Searching for: '#GlobalWarming' in r/climatechange\n"
          ]
        },
        {
          "output_type": "stream",
          "name": "stderr",
          "text": [
            "WARNING:praw:It appears that you are using PRAW in an asynchronous environment.\n",
            "It is strongly recommended to use Async PRAW: https://asyncpraw.readthedocs.io.\n",
            "See https://praw.readthedocs.io/en/latest/getting_started/multiple_instances.html#discord-bots-and-asynchronous-environments for more info.\n",
            "\n"
          ]
        },
        {
          "output_type": "stream",
          "name": "stdout",
          "text": [
            "Collected 737 posts until now.\n",
            "Searching for: '#ClimateCrisis' in r/climatechange\n"
          ]
        },
        {
          "output_type": "stream",
          "name": "stderr",
          "text": [
            "WARNING:praw:It appears that you are using PRAW in an asynchronous environment.\n",
            "It is strongly recommended to use Async PRAW: https://asyncpraw.readthedocs.io.\n",
            "See https://praw.readthedocs.io/en/latest/getting_started/multiple_instances.html#discord-bots-and-asynchronous-environments for more info.\n",
            "\n"
          ]
        },
        {
          "output_type": "stream",
          "name": "stdout",
          "text": [
            "Collected 747 posts until now.\n",
            "Searching for: '#ClimateEmergency' in r/climatechange\n"
          ]
        },
        {
          "output_type": "stream",
          "name": "stderr",
          "text": [
            "WARNING:praw:It appears that you are using PRAW in an asynchronous environment.\n",
            "It is strongly recommended to use Async PRAW: https://asyncpraw.readthedocs.io.\n",
            "See https://praw.readthedocs.io/en/latest/getting_started/multiple_instances.html#discord-bots-and-asynchronous-environments for more info.\n",
            "\n"
          ]
        },
        {
          "output_type": "stream",
          "name": "stdout",
          "text": [
            "Collected 757 posts until now.\n",
            "Searching for: '#Environment' in r/climatechange\n"
          ]
        },
        {
          "output_type": "stream",
          "name": "stderr",
          "text": [
            "WARNING:praw:It appears that you are using PRAW in an asynchronous environment.\n",
            "It is strongly recommended to use Async PRAW: https://asyncpraw.readthedocs.io.\n",
            "See https://praw.readthedocs.io/en/latest/getting_started/multiple_instances.html#discord-bots-and-asynchronous-environments for more info.\n",
            "\n"
          ]
        },
        {
          "output_type": "stream",
          "name": "stdout",
          "text": [
            "Collected 767 posts until now.\n",
            "Searching for: '#Sustainability' in r/climatechange\n"
          ]
        },
        {
          "output_type": "stream",
          "name": "stderr",
          "text": [
            "WARNING:praw:It appears that you are using PRAW in an asynchronous environment.\n",
            "It is strongly recommended to use Async PRAW: https://asyncpraw.readthedocs.io.\n",
            "See https://praw.readthedocs.io/en/latest/getting_started/multiple_instances.html#discord-bots-and-asynchronous-environments for more info.\n",
            "\n"
          ]
        },
        {
          "output_type": "stream",
          "name": "stdout",
          "text": [
            "Collected 777 posts until now.\n",
            "Searching for: '#Ecology' in r/climatechange\n"
          ]
        },
        {
          "output_type": "stream",
          "name": "stderr",
          "text": [
            "WARNING:praw:It appears that you are using PRAW in an asynchronous environment.\n",
            "It is strongly recommended to use Async PRAW: https://asyncpraw.readthedocs.io.\n",
            "See https://praw.readthedocs.io/en/latest/getting_started/multiple_instances.html#discord-bots-and-asynchronous-environments for more info.\n",
            "\n"
          ]
        },
        {
          "output_type": "stream",
          "name": "stdout",
          "text": [
            "Collected 787 posts until now.\n",
            "Searching for: '#Climate' in r/climatechange\n"
          ]
        },
        {
          "output_type": "stream",
          "name": "stderr",
          "text": [
            "WARNING:praw:It appears that you are using PRAW in an asynchronous environment.\n",
            "It is strongly recommended to use Async PRAW: https://asyncpraw.readthedocs.io.\n",
            "See https://praw.readthedocs.io/en/latest/getting_started/multiple_instances.html#discord-bots-and-asynchronous-environments for more info.\n",
            "\n"
          ]
        },
        {
          "output_type": "stream",
          "name": "stdout",
          "text": [
            "Collected 797 posts until now.\n",
            "Searching for: '#ActOnClimate' in r/climatechange\n"
          ]
        },
        {
          "output_type": "stream",
          "name": "stderr",
          "text": [
            "WARNING:praw:It appears that you are using PRAW in an asynchronous environment.\n",
            "It is strongly recommended to use Async PRAW: https://asyncpraw.readthedocs.io.\n",
            "See https://praw.readthedocs.io/en/latest/getting_started/multiple_instances.html#discord-bots-and-asynchronous-environments for more info.\n",
            "\n"
          ]
        },
        {
          "output_type": "stream",
          "name": "stdout",
          "text": [
            "Collected 807 posts until now.\n",
            "Searching for: '#SaveOurPlanet' in r/climatechange\n"
          ]
        },
        {
          "output_type": "stream",
          "name": "stderr",
          "text": [
            "WARNING:praw:It appears that you are using PRAW in an asynchronous environment.\n",
            "It is strongly recommended to use Async PRAW: https://asyncpraw.readthedocs.io.\n",
            "See https://praw.readthedocs.io/en/latest/getting_started/multiple_instances.html#discord-bots-and-asynchronous-environments for more info.\n",
            "\n"
          ]
        },
        {
          "output_type": "stream",
          "name": "stdout",
          "text": [
            "Collected 817 posts until now.\n",
            "Searching for: '#GreenNewDeal' in r/climatechange\n"
          ]
        },
        {
          "output_type": "stream",
          "name": "stderr",
          "text": [
            "WARNING:praw:It appears that you are using PRAW in an asynchronous environment.\n",
            "It is strongly recommended to use Async PRAW: https://asyncpraw.readthedocs.io.\n",
            "See https://praw.readthedocs.io/en/latest/getting_started/multiple_instances.html#discord-bots-and-asynchronous-environments for more info.\n",
            "\n"
          ]
        },
        {
          "output_type": "stream",
          "name": "stdout",
          "text": [
            "Collected 827 posts until now.\n",
            "Searching for: '#RenewableEnergy' in r/climatechange\n"
          ]
        },
        {
          "output_type": "stream",
          "name": "stderr",
          "text": [
            "WARNING:praw:It appears that you are using PRAW in an asynchronous environment.\n",
            "It is strongly recommended to use Async PRAW: https://asyncpraw.readthedocs.io.\n",
            "See https://praw.readthedocs.io/en/latest/getting_started/multiple_instances.html#discord-bots-and-asynchronous-environments for more info.\n",
            "\n"
          ]
        },
        {
          "output_type": "stream",
          "name": "stdout",
          "text": [
            "Collected 837 posts until now.\n",
            "Searching for: '#NetZero' in r/climatechange\n"
          ]
        },
        {
          "output_type": "stream",
          "name": "stderr",
          "text": [
            "WARNING:praw:It appears that you are using PRAW in an asynchronous environment.\n",
            "It is strongly recommended to use Async PRAW: https://asyncpraw.readthedocs.io.\n",
            "See https://praw.readthedocs.io/en/latest/getting_started/multiple_instances.html#discord-bots-and-asynchronous-environments for more info.\n",
            "\n"
          ]
        },
        {
          "output_type": "stream",
          "name": "stdout",
          "text": [
            "Collected 847 posts until now.\n",
            "Searching for: '#FridaysForFuture' in r/climatechange\n"
          ]
        },
        {
          "output_type": "stream",
          "name": "stderr",
          "text": [
            "WARNING:praw:It appears that you are using PRAW in an asynchronous environment.\n",
            "It is strongly recommended to use Async PRAW: https://asyncpraw.readthedocs.io.\n",
            "See https://praw.readthedocs.io/en/latest/getting_started/multiple_instances.html#discord-bots-and-asynchronous-environments for more info.\n",
            "\n"
          ]
        },
        {
          "output_type": "stream",
          "name": "stdout",
          "text": [
            "Collected 850 posts until now.\n",
            "Searching for: '#ExtinctionRebellion' in r/climatechange\n"
          ]
        },
        {
          "output_type": "stream",
          "name": "stderr",
          "text": [
            "WARNING:praw:It appears that you are using PRAW in an asynchronous environment.\n",
            "It is strongly recommended to use Async PRAW: https://asyncpraw.readthedocs.io.\n",
            "See https://praw.readthedocs.io/en/latest/getting_started/multiple_instances.html#discord-bots-and-asynchronous-environments for more info.\n",
            "\n"
          ]
        },
        {
          "output_type": "stream",
          "name": "stdout",
          "text": [
            "Collected 859 posts until now.\n",
            "Searching for: '#ClimateJustice' in r/climatechange\n",
            "Collected 869 posts until now.\n",
            "\n",
            "Collected data:\n",
            "ID: 1i0psw5, Título: We’ve Crossed a Key Threshold for Climate Change. There’s No Going Back Now.\n",
            "ID: 1c9qpn1, Título: As someone who is uneducated on the topic of climate change, is it really exaggerated in media?\n",
            "ID: 1j7wsf3, Título: Are we actually making progress on climate change, or are we just fooling ourselves?\n",
            "ID: 1gk8y4k, Título: Trump would be an \"Extinction-Level Event\" for the Planet, Turbocharging Climate Change. Vote Accordingly.\n",
            "ID: 1hhbjh1, Título: Scientists say sprinkling diamond dust into the sky could offset almost all of climate change so far — but it'll cost $175 trillion\n",
            "ID: 1hkm5gu, Título: Venezuela is the first country to lose all of its glaciers due to climate change\n",
            "ID: 1gcn54d, Título: Why do some people deny climate change so passionately? \n",
            "ID: 1j87bml, Título: Secretary Hegseth says the DOD does not do 'climate change crap'\n",
            "ID: 1ht0nya, Título: Redditors aren't talking about climate change as much anymore\n",
            "ID: 1hb2ao0, Título: A ‘doom loop’ of climate change and geopolitical instability is beginning\n",
            "ID: 1ikikkq, Título: Why should we be concerned with global warming?\n",
            "ID: 1ijwuwe, Título: James Hansen says we're underestimating global warming acceleration — is anyone listening?\n",
            "ID: 1ex4n37, Título: Climate scientist says 2/3rds of the world is under an effective 'death sentence' because of global warming\n",
            "ID: 1ihldd4, Título: Half a degree rise in global warming will triple area of Earth too hot for humans, scientists warn\n",
            "ID: 1i3epqr, Título: The 1.5C global warming target is a 'delusion', warns climate scientist who fled Los Angeles\n",
            "ID: 1jd4790, Título: Earth is ‘perilously close’ to a global warming threshold. Here’s what to know\n",
            "ID: 1iq4lv1, Título: 73% of people in US think global warming is happening. 60% understand it is mostly human-caused. 56% say extreme weather poses a risk to their community over next 10 years. (Climate Change in the American Mind: Beliefs & Attitudes, Fall 2024.)\n",
            "ID: 1jooywz, Título: Global warming of more than 3°C this century may wipe 40% off the world’s economy, new analysis reveals\n",
            "ID: 1e0dwpb, Título: My friend thinks that global warming isn’t real because billionaires own beach front property. \n",
            "ID: 1h9e73k, Título: my family thinks global warming is a conspiracy\n",
            "ID: 1gvk5sn, Título: Donald Trump’s pick for energy secretary says ‘there is no climate crisis’\n",
            "ID: 1gb95hv, Título: What happens to the climate crisis if Trump wins in November?\n",
            "ID: 1ft5k80, Título: You will not escape the climate crisis — On Bluesky, it was pointed out that Asheville, NC was recently listed as a place to go to avoid climate crisis — While climate change does not cause hurricanes, we are certain it makes them more destructive — With climate change, you’re fine until you’re not\n",
            "ID: 17fh3lz, Título: The climate crisis has a price — and it’s $391 million a day\n",
            "ID: 17pgwoy, Título: Climate Change in Antarctica Has Given Rise to Blooming Flowers - \"This extraordinary transformation serves as a stark warning sign of the far-reaching impacts of the climate crisis and the urgent need for global environmental stewardship\" - Blooming Flowers are a Crisis?\n",
            "ID: 16x7aal, Título: U.S. Heat Deaths Will Soar as the Climate Crisis Worsens\n",
            "ID: 1igj692, Título: Trump orders USDA to take down websites referencing climate crisis\n",
            "ID: 1i1nfns, Título: If you had a magic wand and you could enact just a single policy change or technological advancement that would give us the greatest chance to overcome the climate crisis, what would it be?\n",
            "ID: 1ekyy8p, Título: What are some creative and promising ideas to solve the climate crisis?\n",
            "ID: 190tx8s, Título: I thought most of us were going to die from the climate crisis. I was wrong\n",
            "ID: 1g24cri, Título: A new report published in BioScience warns that the world is facing a climate emergency of unprecedented magnitude.\n",
            "ID: 1ht0nya, Título: Redditors aren't talking about climate change as much anymore\n",
            "ID: 168kdyx, Título: Nobel Winner Joins 1,600 Scientists Disputing Climate 'Emergency'\n",
            "ID: 1iwo9jj, Título: \"Cuts to U.S. weather and climate research could put public safety at risk; Firings and budget cuts could slow emergency disaster response and weaken resilience efforts.\"\n",
            "ID: 1k2wlcc, Título: Climate emergency: 2025 declared international year of glaciers\n",
            "ID: 1h2dr3r, Título: question does carbon dioxide eventually leave the atmosphere permanently after 100s of years meaning if climate change gets bad to the point we have to live in caves does that mean earth can recover from it and that we can emerge and take back the land?\n",
            "ID: 1639zrk, Título: Journal article claiming there was no \"climate emergency\" retracted\n",
            "ID: 1kbombk, Título: South Korea Wildfire Crisis: Emergency Response Enhancements and Government Measures to Combat Climate-Fueled Fires\n",
            "ID: o8wdvu, Título: 'We Are in a Climate Emergency': As Temps Soar, Over 90% of Western US Gripped by Drought. \"The West has never seen a drought like this, especially so early in the dry season.\n",
            "ID: 1iphccw, Título: Are there any recent books / studies that summarise climate change for the layman similar to Mark Lynas 'Our Final Warning: Six Degrees of Climate Emergency'?\n",
            "ID: 1glbafl, Título: I’m incredibly sad for our environment today. \n",
            "ID: 1hxi9du, Título: At what point do we stop subsidizing the growth of cities in hostile environments?\n",
            "ID: 1jpvxsc, Título: Are tariffs and the resulting inflation actually good for the environment?\n",
            "ID: 18sxsjt, Título: What do you think of the doomerism over at r/environment or r/collapse?\n",
            "ID: 196hdp1, Título: Norway just opened an area bigger than Ecuador to deep-sea mining activities—a move that could hurt the environment while helping EV makers\n",
            "ID: 1jk40ja, Título: Who should take responsibility for protecting the environment?\n",
            "ID: 1kk3ui4, Título: AI might be a net positive for the environment\n",
            "ID: 1ehlmrd, Título: Do small actions really help the environment in the grand scheme of things?\n",
            "ID: 1gfpw0s, Título: Is it true that production of green energy is more costly to the environment than fossil fuels? \n",
            "ID: 1jjvrp0, Título: Bad for the environment\n",
            "ID: 1fnzy20, Título: World's oceans close to becoming too acidic to sustain marine life, report says\n",
            "ID: 1ftyrcg, Título: World's oceans close to becoming too acidic to sustain marine life, report says.\n",
            "ID: 1j2m766, Título: Is there any promising form of carbon capture that is scalable and economically sustainable?\n",
            "ID: 1e8y7uh, Título: 6 easy ways to live more sustainably (that you still refuse to do) — Saving the planet isn't always convenient\n",
            "ID: 16am786, Título: Why many activists or even generally people worried about climate change do not follow a plant-based diet considering the sustainability of it?\n",
            "ID: 1i8vutw, Título: What's still going wrong with sustainable development? When there is so much attention for this topic for so long, worldwide?\n",
            "ID: 1gkzg8o, Título: \"... in just a few years, our oceans may no longer be capable of properly sustaining life or helping to regulate the Earth's climate, thanks to intense acidification.\"\n",
            "ID: 1keoik5, Título: is heat recovery from server farms a way to make them sustainable?\n",
            "ID: 1hocikf, Título: What habits have you switched or willing to switch to more sustainable ones?\n",
            "ID: 1cq51y0, Título: Is nuclear fusion a solution to climate change? And can it sustain itself?\n",
            "ID: 1jjpy4s, Título: Are we underestimating the ecological crisis?\n",
            "ID: 1klu6jb, Título: “Amazon in Metastasis”: A critical look at ecological collapse ahead of COP30\n",
            "ID: ev99k5, Título: Can anyone with actual understanding explain why turning the Sahara desert (as well as others) into giant molten salt solar farms has not been considered. There are literally thousands of ecologically dead areas that would produce tons of power.\n",
            "ID: 1fyhogr, Título: Brazil’s Plan to Dredge the Amazon: A Desperate Move with Ecological Consequences?\n",
            "ID: 1en6y2e, Título: Opinion | A Dystopian Effort Is Underway in the Pacific Northwest to Pick Ecological Winners and Losers (Gift Article)\n",
            "ID: 192nj0p, Título: An international team of scientists led by Oregon State University researchers has used a novel 500-year dataset to frame a \"restorative\" pathway through which humanity can avoid the worst ecological and social outcomes of climate change.\n",
            "ID: 15ghohf, Título: Today is Earth Overshoot Day - the date when demand for ecological resources in a given year exceeds what Earth can regenerate in that year.\n",
            "ID: 1k1sgrt, Título: Is this any scientifically sound criticism or just denial?\n",
            "ID: 13ovdhd, Título: France needs to prepare for 'realistic' 4C warming scenario, says ecology minister\n",
            "ID: d549m7, Título: ‘Ecological grief’ grips scientists witnessing Great Barrier Reef’s decline\n",
            "ID: 1j7wsf3, Título: Are we actually making progress on climate change, or are we just fooling ourselves?\n",
            "ID: 1f4oduk, Título: Is it possible in this lifetime that we will reach climate/weather incompatible with human life?\n",
            "ID: 1i0psw5, Título: We’ve Crossed a Key Threshold for Climate Change. There’s No Going Back Now.\n",
            "ID: 1gvk5sn, Título: Donald Trump’s pick for energy secretary says ‘there is no climate crisis’\n",
            "ID: 1gk8y4k, Título: Trump would be an \"Extinction-Level Event\" for the Planet, Turbocharging Climate Change. Vote Accordingly.\n",
            "ID: 1hhbjh1, Título: Scientists say sprinkling diamond dust into the sky could offset almost all of climate change so far — but it'll cost $175 trillion\n",
            "ID: 1hkm5gu, Título: Venezuela is the first country to lose all of its glaciers due to climate change\n",
            "ID: 1i5xg71, Título: Trump to withdraw from Paris climate agreement, White House says\n",
            "ID: 1gcn54d, Título: Why do some people deny climate change so passionately? \n",
            "ID: 1jjq9qy, Título: Scientists Are Preparing for a Sudden Climate Shift\n",
            "ID: 1gk8y4k, Título: Trump would be an \"Extinction-Level Event\" for the Planet, Turbocharging Climate Change. Vote Accordingly.\n",
            "ID: 1gg8i42, Título: The planet is ‘on the brink of an irreversible climate disaster,’ scientists warn\n",
            "ID: 1hb8foj, Título: Arctic tundra now emits planet-warming pollution, federal report finds\n",
            "ID: 1hfrecj, Título: Do you think we will actually save this planet from irreversible damage in 4 years according to climate clock?\n",
            "ID: 1gkuhfn, Título: This election will impact the entire planet, what about the Paris Agreement?\n",
            "ID: 1g5m8se, Título: Global water cycle off balance for ‘first time in human history,’ threatening half the planet’s food production\n",
            "ID: 181y1s2, Título: Ocean heat record broken, with grim implications for the planet\n",
            "ID: 1b83usf, Título: NASA proposes radical plan to fight climate change that involves injecting the atmosphere with millions of tons of ice to cool the planet\n",
            "ID: 1cg3xtf, Título: What would you say to someone who claims that the planet’s temperature naturally fluctuates?\n",
            "ID: 1j3ykq5, Título: New study — The ability of our planet's plants and soils to absorb CO2 peaked in 2008, has been falling ever since, and now is declining by 0.25% per year — Atmospheric concentrations will rise more rapidly than previously, in proportion to annual CO2 emissions, accelerating climate change\n",
            "ID: 18dgxau, Título: Scientists Warn The Atmosphere Hasn't Been Like This in 14 Million Years\n",
            "ID: 17h8uq1, Título: The Great Dying, also known as the Permian-Triassic Mass Extinction Event (PTME) of 251 million years ago, was the result of CO2, mercury, and halocarbons being injected into the atmosphere, increasing CO2 levels from ~400 ppm to ~ 2400 ppm. The result was that 81% of all species went extinct.\n",
            "ID: 1jj9ks1, Título: “The furnaces of the world are now burning about 2,000,000,000 tons of coal a year. When this is burned...it adds about 7,000,000,000 tons of carbon dioxide to the atmosphere yearly...The effect may be considerable in a few centuries.” — Popular Mechanics, 1912, image of factory belching smoke\n",
            "ID: 18vds46, Título: It is a proven, scientific fact that the earth's atmosphere has gotten warmer since humans started burning fossil fuels. 15 part Twitter thread, with lots of useful information and links. 100% science. No denying the facts.\n",
            "ID: 1j0o5wq, Título: Mass firings across National Weather Service and NOAA ignite fury among scientists worldwide — The cuts shrank teams across all facets of the climate-focused agency, from experts working on weather forecasting, ocean health, climate change, fisheries and developments in space and the atmosphere\n",
            "ID: 1b83usf, Título: NASA proposes radical plan to fight climate change that involves injecting the atmosphere with millions of tons of ice to cool the planet\n",
            "ID: 1j3ykq5, Título: New study — The ability of our planet's plants and soils to absorb CO2 peaked in 2008, has been falling ever since, and now is declining by 0.25% per year — Atmospheric concentrations will rise more rapidly than previously, in proportion to annual CO2 emissions, accelerating climate change\n",
            "ID: 1ebgcuh, Título: \"Tremendous\" NASA video shows CO2 spewing from US into Earth's atmosphere\n",
            "ID: 1h1p0md, Título: Global climate change is not a future problem — Effects of human-caused global warming are happening now, are irreversible for people alive today, and will worsen as long as humans add greenhouse gases to the atmosphere — Some changes are irreversible over the next hundreds to thousands of years\n",
            "ID: 18sm5ke, Título: What happens if it doesn't stop increasing? — Climate data shows that in the past 800k years, Earth's atmospheric concentration of CO2 was not above 300 parts per million until sometime during 1905-1914, when it reached 299.63 ppm in 1905, and 300.70 ppm in 1914 — On 26 Dec 2023, it was 420.74 ppm\n",
            "ID: 1jdfioh, Título: Trump repeals America’s first-ever tax on greenhouse gases before it goes into effect\n",
            "The methane fee would have had the same impact as taking 8 million gas-powered cars off the road.\n",
            "ID: 1h1p0md, Título: Global climate change is not a future problem — Effects of human-caused global warming are happening now, are irreversible for people alive today, and will worsen as long as humans add greenhouse gases to the atmosphere — Some changes are irreversible over the next hundreds to thousands of years\n",
            "ID: 1apfq7z, Título: What effect do the Sun's 11-year solar cycles have on Earth’s climate? — Since 1750, the warming driven by greenhouse gases coming from the human burning of fossil fuels is over 270 times greater than the slight extra warming coming from the Sun itself over that same time interval\n",
            "ID: 1aivzy5, Título: We figured out the greenhouse effect closer to the start of the industrial revolution than today.\n",
            "ID: 1fdhy8g, Título: \"Carbon dioxide (CO2), responsible for nearly 65% of the anthropogenic greenhouse effect\" : what is the source ?\n",
            "ID: 18f25zo, Título: Could we build a greenhouse gas effect demonstrator?\n",
            "ID: 1ata25p, Título: Rising greenhouse gases are having a cooling effect on Antarctica's atmosphere\n",
            "ID: 1isiu1a, Título: Is there a degree of localized variation in the strength of the greenhouse effect in cities vs. geographically equivalent rural areas?\n",
            "ID: 1hvwzfc, Título: Greenhouse effect versus adiabatic lapse rate\n",
            "ID: 1jvxzry, Título: Computer models have been accurately predicting climate change for 50 years ... A research scientist found that many 1970s-era models were ‘pretty much spot-on.’ Today’s models are far more advanced.\n",
            "ID: 1fnz3te, Título: My friend doesn’t believe that carbon emissions are causing global warming…\n",
            "ID: 17p3pdb, Título: Basalt Carbon Capture Could Remove 20 Years of Emissions\n",
            "ID: 1ibrsnf, Título: Why are people so focused on carbon emissions? Seems the destruction of the jungles could be a bigger problem.\n",
            "ID: 193c0rb, Título: U.S. Carbon Emissions Fell in 2023 as Coal Use Tumbled to New Lows\n",
            "ID: 17l4wpv, Título: If all Carbon and greenhouse gas emissions were to stop to,row, how long would it take to Earth to “heal”?\n",
            "ID: 1fr7w0n, Título: Study — If ‘net zero by 2050’ is not implemented or is unsuccessful, and fossil fuels are 'burned' in 2023-2100 at same rate as in 2022, potential atmospheric concentration of CO2 is 657 ppm by 2100, with global warming 2.4–2.8º C in 2081–2100, if carbon sinks absorb 47% of CO2 emissions (Table 15)\n",
            "ID: 1jhs59y, Título: UN report calls for reduction of building and construction emissions — Building and construction consumes 32% of the world’s energy while contributing 34% of its carbon emissions — “The buildings where we work, shop and live account for a third of global emissions and a third of global waste”\n",
            "ID: 1e1jpji, Título: India's carbon emissions are out of hand and are only going up with the upcoming burning season\n",
            "ID: 1dkrd4g, Título: Does anyone actually think carbon capture is a solution to our emissions problem???\n",
            "ID: 1jnlhud, Título: If half of anthropogenic emissions have been sequestered by carbon sinks, how come atmospheric co2 was already rising when emissions were less than 10% of what they are today?\n",
            "ID: 1jdfioh, Título: Trump repeals America’s first-ever tax on greenhouse gases before it goes into effect\n",
            "The methane fee would have had the same impact as taking 8 million gas-powered cars off the road.\n",
            "ID: 17z6vuy, Título: NOAA report shows climate change is worsening due to buildup of greenhouse gases\n",
            "ID: 1h1p0md, Título: Global climate change is not a future problem — Effects of human-caused global warming are happening now, are irreversible for people alive today, and will worsen as long as humans add greenhouse gases to the atmosphere — Some changes are irreversible over the next hundreds to thousands of years\n",
            "ID: 1hzrd8h, Título: How do greenhouse gases absorb so much radiation when they're so rarely found?\n",
            "ID: 1apfq7z, Título: What effect do the Sun's 11-year solar cycles have on Earth’s climate? — Since 1750, the warming driven by greenhouse gases coming from the human burning of fossil fuels is over 270 times greater than the slight extra warming coming from the Sun itself over that same time interval\n",
            "ID: 18cldwf, Título: 2023 shatters climate records, with major impacts — Global temperatures — Greenhouse gases — Sea surface temperatures — Ocean heat content — Sea level rise — Cryosphere — Extreme weather and climate events — Socio-economic impacts — Renewable energy capacity and use is booming — [WMO video]\n",
            "ID: 1jhwzj7, Título: Do any IPCC reports summarize how (physics/chemistry etc.) greenhouse gases cause global warming?\n",
            "ID: 19a3a4z, Título: The heat retention by greenhouse gases in 2022 equals the electrical output of 1.74 million 1-GigaWatt power plants – The excess heat retention by greenhouse gases in 2022 was 85 times larger than all the direct heat produced by humanity in 2022\n",
            "ID: 1jfl8gv, Título: The NOAA office in Hilo that manages the site of the Mauna Loa Observatory that tracks atmospheric greenhouse gases may close in August because of DOGE, according to copy of federal document viewed by The New York Times — It is unclear what would happen to MLO operations if the office were to close\n",
            "ID: 1kgqhol, Título: Cutting greenhouse gases will reduce number of deaths from poor air quality\n",
            "ID: 17jzvwf, Título: Scientists say climate extremes of 2023 point to need to end fossil fuels\n",
            "ID: 1hn0zs4, Título: New York to fine fossil fuel companies $75 billion under new climate law\n",
            "ID: 1jg3sr8, Título: U.S. military’s understanding that climate change couldn’t be ignored — Its embrace of energy from solar and wind power — It has been moving away from fossil fuels — U.S. Army drilled world’s first deep ice core, which revealed in the 1970s that CO2 levels were lower before the industrial revolution\n",
            "ID: 18vds46, Título: It is a proven, scientific fact that the earth's atmosphere has gotten warmer since humans started burning fossil fuels. 15 part Twitter thread, with lots of useful information and links. 100% science. No denying the facts.\n",
            "ID: 1hsr5vc, Título: Is it possible to actually stop using fossil fuels? Forever?\n",
            "ID: 17sbmtv, Título: Governments plan to produce double the fossil fuels in 2030 than the 1.5°C warming limit allows\n",
            "ID: 1higa6d, Título: More than 1,300 Hajj pilgrims died this year in Saudi Arabia when humidity and heat pushed past survivable limits — It’s just the start — Without a rapid phase out of fossil fuels, we could see lethal humid heat hit multiple times a year in every major economy, including the US, Europe and others\n",
            "ID: 19cxn4m, Título: \"Even if fossil fuel emissions are halted immediately, current trends in global food systems may prevent the achieving of the Paris Agreement’s climate targets... Reducing animal-based foods is a powerful strategy to decrease emissions.\" (2022 study)\n",
            "ID: 1afg6q6, Título: ‘Smoking gun proof’: fossil fuel industry knew of climate danger as early as 1954, documents show\n",
            "ID: 1di3wem, Título: Climate science may not require us to stop burning fossil fuels, but everything else does\n",
            "ID: 1gmdnkp, Título: Hours after Trump’s election, Biden moved to limit oil drilling in Arctic National Wildlife Refuge\n",
            "ID: 1jxuhhm, Título: Roughly 5700 oil refineries, power plants, coal mines, and makers of petrochemicals, glass, cement, iron and steel in the US no longer would be required to report their yearly emissions of CO2, methane and other gases under a move planned by Trump's EPA, according to documents reviewed by ProPublica\n",
            "ID: 17d5292, Título: Cratering motor fuel sales in Norway show the death spiral that can end oil\n",
            "ID: 176ak4d, Título: Canada could lead the world in oil production growth in 2024\n",
            "ID: 18uri3v, Título: Unpopular opinion: The fact that the idea of a carbon footprint was invented by big oil does not invalidate it\n",
            "ID: 1hcbrfj, Título: More CO2 — President-elect Trump's pledge to encourage U.S. oil production and \"get out of the way of the industry\" bodes well for Exxon and energy producers, CEO said — Exxon sets 5-yr plan to boost oil and gas output by 18% — Exxon overall oil and gas output should hit 5.4 million barrels per day\n",
            "ID: 1g6plxg, Título: Trump has vowed to gut climate rules. Oil lobbyists have a plan ready.\n",
            "ID: 1g6c5pz, Título: Project 2025 Would Put the Oil and Gas Industry Before Americans and Their Public Lands\n",
            "ID: 1ageavt, Título: Oil sands drive Canadian crude production to new high\n",
            "ID: 16t30v9, Título: Peak Oil Is Near, Energy Agency Says, but Climate Change Is Far From Solved. Despite the rapid growth of electric vehicles and solar power, other efforts to tackle warming are lagging, according to the International Energy Agency.\n",
            "ID: 1jxuhhm, Título: Roughly 5700 oil refineries, power plants, coal mines, and makers of petrochemicals, glass, cement, iron and steel in the US no longer would be required to report their yearly emissions of CO2, methane and other gases under a move planned by Trump's EPA, according to documents reviewed by ProPublica\n",
            "ID: 1jj9ks1, Título: “The furnaces of the world are now burning about 2,000,000,000 tons of coal a year. When this is burned...it adds about 7,000,000,000 tons of carbon dioxide to the atmosphere yearly...The effect may be considerable in a few centuries.” — Popular Mechanics, 1912, image of factory belching smoke\n",
            "ID: 1k14uvf, Título: Trump exempts nearly 70 coal plants from Biden-era rule on mercury and other toxic air pollution\n",
            "ID: 1juoy4h, Título: Coal is dead and Trump’s executive order won’t revive it\n",
            "ID: 1j9ixjf, Título: In a historic first, wind and solar combined overtake coal in the US\n",
            "ID: 193c0rb, Título: U.S. Carbon Emissions Fell in 2023 as Coal Use Tumbled to New Lows\n",
            "ID: 1jeidd6, Título: \"Trump eyes more coal power;\"  Trump wants 'clean' coal, but there's no such thing\n",
            "ID: 1e6dozp, Título: ‘Significant shift’ away from coal as most new steelmaking is now electric\n",
            "ID: 192rc5t, Título: India plans to double its coal production, but it ignores climate threat\n",
            "ID: 1cmk15o, Título: Seven Major Nations Agree to Phase Out Coal by 2035\n",
            "ID: 1fxrmuf, Título: Liquefied natural gas leaves a greenhouse gas footprint that is 33% worse than coal, when processing and shipping are taken into account. Methane is more than 80 times more harmful to the atmosphere than carbon dioxide, so even small emissions can have a large climate impact\n",
            "ID: 1fw4zh1, Título: Liquefied natural gas carbon footprint is worse than coal. Liquefied natural gas leaves a greenhouse gas footprint that is 33% worse than coal, when processing and shipping are taken into account, according to a new Cornell study.\n",
            "ID: 18wrrbu, Título: Will the United States reach net zero greenhouse gas emissions in your lifetime? — U.S. Lower 48 states one-day electricity generation by energy source on 31 Dec 2023 ET — Wind 11% — Hydro 6% — Solar 3% — Other 2% — Natural gas 40% — Coal 18% — Petroleum 0% — Nuclear 21%\n",
            "ID: 1gk28vx, Título: Burning all proven reserves of coal, natural gas, and oil that were known in 2022, and burning them at the 2022 rate until the last reserves are exhausted by around 2153, will generate an estimated 4777 Gt of CO2 emissions, increasing the atmospheric concentration of CO2 to about 701 ppm or higher\n",
            "ID: 1c4mbo1, Título: Is natural gas actually worse for the climate than coal since methane is a much more potent ghg?\n",
            "ID: 18hue7y, Título: Natural gas is actually migrating under permafrost, and could see methane emissions skyrocket if it escapes\n",
            "ID: 18mi1ng, Título: Thoughts on natural gas as a stop gap solution.\n",
            "ID: 1fnuklu, Título: Germany warns Canada that Europe's appetite for natural gas is set to shrink\n",
            "ID: sm0hez, Título: How does utilising natural gas affect climate change?\n",
            "ID: 1hhy25b, Título: The Future of Energy: Generating Sustainable Natural Gas\n",
            "ID: 1c6cfs0, Título: I'm giving up fighting deforestation in the Amazon Rainforest.\n",
            "ID: 1978zfp, Título: Animal farming is the leading cause of rainforest deforestation and the single largest driver of habitat loss\n",
            "ID: 1i1taxc, Título: Why is climate change so underestimated???\n",
            "ID: 1g0ncr5, Título: ‘Equivalent to 18 million cars’: Environmental groups warn EU deforestation law delay will fuel the climate crisis\n",
            "ID: 1g0jxsy, Título: Why Global Deforestation is ‘Surging Ahead’ Despite COP26 Pledge!\n",
            "ID: 1i8r6jo, Título: Rising deforestation threatens rare species in Indonesia’s ancient Lake Poso\n",
            "ID: 1gom2h9, Título: Deforestation and logging: an assault on wildlife\n",
            "ID: 1gfzrbc, Título: Why Chemicals are New Front in War Against Global Deforestation\n",
            "ID: 1f0ovlh, Título: War accelerates deforestation in Darfur\n",
            "ID: 1aqve1o, Título: The Amazon’s crucial water cycle faces collapse, scientists say: A study published Wednesday in the journal Nature suggests that 10% to 47% of the landscape is at risk of transitioning away from rainforest by 2050 if warming and rates of deforestation aren’t dramatically curbed.\n",
            "ID: 1kiabrp, Título: Trump kills NOAA Billion-Dollar Weather and Climate Disasters extreme weather and climate events database that tracked and mapped deaths and damages in US caused by hurricanes, tropical storms, tornados, droughts, heatwaves, wildfires, storms, floods, hail, severe weather, and cold waves since 1980\n",
            "ID: 1hx6l1k, Título: How did Palisades Fire start? Is climate change to blame for LA wildfires?\n",
            "ID: 1hyls1c, Título: L.A. Fires Show Limits of America’s Efforts to Cope With Climate Change. California has focused on fortifying communities against wildfires. But with growing threats, that may not be enough.\n",
            "ID: 1i3cedm, Título: Opinion | I Fought Wildfires in California. Trump Will Make the Problem Worse.\n",
            "ID: 1i3o6u0, Título: ‘Virtually Any City on Earth Can Burn Now’ - In the superheated 21st century, the old rules for wildfires no longer apply. John Vaillant, author of “Fire Weather,” explains.\n",
            "ID: 1hzgir3, Título: LA wildfire due to climate change?\n",
            "ID: 1hy5ckc, Título: Did Climate Change Help Fuel the Los Angeles Wildfires?\n",
            "ID: 1hz9ppr, Título: California's Crisis: Insurance Exodus, $150 Billion Losses, and a Grim Road to Wildfire Recovery\n",
            "ID: 18iwcv8, Título: Canada produced nearly a quarter of the global wildfire emissions in 2023: report\n",
            "ID: 1id6oxf, Título: I’m a climate writer and author who has been covering the wildfires across Los Angeles. Ask me anything.\n",
            "ID: 1e7vvg3, Título: Can Methane Inhibitors Revolutionise Livestock Emissions Reduction? What is your opinion?\n",
            "ID: 1fhde02, Título: Methane Levels at 800,000-Year High: Stanford Scientists Warn That We Are Heading for Climate Disaster\n",
            "\n",
            "ID: 18hnpja, Título: Phasing out animal agriculture represents “our best and most immediate chance to reverse the trajectory of climate change,\n",
            "ID: hrc3w3, Título: Global methane emissions rising due to oil and gas, agriculture - studies\n",
            "ID: brpoom, Título: Researchers found that farm ponds sequester greenhouse gases. Despite runoff from nitrogen-rich fertilizer, researchers found that agricultural ponds act as powerful sinks for nitrous oxide. Researchers also found that some ponds had low methane emissions, but they aren’t yet sure why.\n",
            "ID: 5ia4xz, Título: Global Methane Emissions Are Rising Faster Than Any Time In The Last 20 Years\n",
            "ID: 1eb7ous, Título: Suppose we \"Electrify Everything!\" What % of our current greenhouse gas emissions would still remain?\n",
            "ID: 1gd6eco, Título:  \"October is aiming to smoke U.S. records for dryness and warmth:  Philadelphia, Atlanta, and Nashville may get their first-ever calendar month without a single raindrop or snowflake. \"\n",
            "ID: 1fesl66, Título: 🌍 Top 50 Biden-Harris Accomplishments for Combating Climate Change 🌱\n",
            "ID: 1ay506w, Título: Are emissions produced from enteric fermentation by ruminant animals apart of a closed system?\n",
            "ID: 1jg3sr8, Título: U.S. military’s understanding that climate change couldn’t be ignored — Its embrace of energy from solar and wind power — It has been moving away from fossil fuels — U.S. Army drilled world’s first deep ice core, which revealed in the 1970s that CO2 levels were lower before the industrial revolution\n",
            "ID: 1gzkpsk, Título: Was the target to prevent the Earth’s temperature from rising more than 1.5 degrees Celsius above pre-industrial levels too ambitious? Or are we simply not aligned on how to address climate change issues?\n",
            "ID: 1afg6q6, Título: ‘Smoking gun proof’: fossil fuel industry knew of climate danger as early as 1954, documents show\n",
            "ID: 1jnn2ym, Título: EPA offers industrial polluters a way to avoid rules on mercury, arsenic and other toxic chemicals\n",
            "ID: 1fm9six, Título: The world reaches a historic tipping point thanks to 'the most rapid change since the Industrial Revolution'\n",
            "ID: 1aivzy5, Título: We figured out the greenhouse effect closer to the start of the industrial revolution than today.\n",
            "ID: 1hcbrfj, Título: More CO2 — President-elect Trump's pledge to encourage U.S. oil production and \"get out of the way of the industry\" bodes well for Exxon and energy producers, CEO said — Exxon sets 5-yr plan to boost oil and gas output by 18% — Exxon overall oil and gas output should hit 5.4 million barrels per day\n",
            "ID: 17qhqmq, Título: Fossil fuel industry to expand for decades despite global carbon pledges, UN report finds\n",
            "ID: 1kk7asj, Título: New report — April 2025 was 2nd-warmest April globally, with an average ERA5 surface air temp of 14.96°C, 1.51°C above estimated April average for 1850-1900 — April was the 21st month in last 22 months for which the global-average surface air temp was more than 1.5°C above the pre-industrial level\n",
            "ID: 1g6c5pz, Título: Project 2025 Would Put the Oil and Gas Industry Before Americans and Their Public Lands\n",
            "ID: 17ku7x2, Título: Why no one takling about overpopulation as the main problem?\n",
            "ID: 1g4zgmv, Título: If you could travel back into the past, how could you stop or reduce climate change?\n",
            "ID: 1d9j69u, Título: World’s Oceans Face ‘Triple Threat’ of Oxygen Loss, Extreme Heat and Acidification, Study Finds - EcoWatch\n",
            "ID: xpiari, Título: Do we have general broad Principles of stopping Anthropic climate change?\n",
            "ID: x4mw6h, Título: How much of a factor has climate change been in the drying of lakes and rivers?\n",
            "ID: 1kiabrp, Título: Trump kills NOAA Billion-Dollar Weather and Climate Disasters extreme weather and climate events database that tracked and mapped deaths and damages in US caused by hurricanes, tropical storms, tornados, droughts, heatwaves, wildfires, storms, floods, hail, severe weather, and cold waves since 1980\n",
            "ID: 1hwm9wq, Título: Scientific basis linking climate change to \"more extreme weather\"\n",
            "ID: 175pdrm, Título: What the IPCC really says about extreme weather events. Humans have either increased the frequency and or the intensity of extreme weather events.\n",
            "ID: 1i1op86, Título: LA burns: What you need to know — Climate change is turbocharging the wildfire like it turbocharges heat waves and hurricanes — Climate change does not “cause” extreme events, but it can amplify them — Climate change affects every weather event by altering the baseline conditions in which they occur\n",
            "ID: 18cldwf, Título: 2023 shatters climate records, with major impacts — Global temperatures — Greenhouse gases — Sea surface temperatures — Ocean heat content — Sea level rise — Cryosphere — Extreme weather and climate events — Socio-economic impacts — Renewable energy capacity and use is booming — [WMO video]\n",
            "ID: 1g2bp9l, Título: Rising disaster costs leave U.S. confronting fiscal risks of climate change. As storms, droughts, wildfires and other extreme weather events strike with greater frequency and intensity, repairing and rebuilding has grown more costly, too.\n",
            "ID: 1gq1abe, Título: Climate change is increasing the frequency of some types of extremes that lead to billion-dollar disasters in the United States — In 2024 (as of Nov 1), 24 weather/climate disaster events have been confirmed with losses exceeding $1 billion each affecting the US, overall resulting in 418 deaths\n",
            "ID: 1hxxbuv, Título: More than 600 studies covering 735 extreme weather events and trends, including wildfires and other events in the US, 90 other countries and 13 global regions, found that, overall, human-caused climate change influenced 83% of the events and trends [interactive map, findings by country and region]\n",
            "ID: 1hcl8k6, Título: Feared threshold now a reality:  \"Earth Will Exceed 1.5 Degrees Celsius of Warming This Year\"\n",
            "ID: 1gdqgmx, Título: Climate change is increasing the frequency of some types of extremes that lead to billion-dollar disasters — In 2024, through October, cost of U.S. billion-dollar weather and climate disaster events exceeds $61 billion excluding Hurricanes Helene and Milton, which may add $100B or more to 2024 total\n",
            "ID: 1kiabrp, Título: Trump kills NOAA Billion-Dollar Weather and Climate Disasters extreme weather and climate events database that tracked and mapped deaths and damages in US caused by hurricanes, tropical storms, tornados, droughts, heatwaves, wildfires, storms, floods, hail, severe weather, and cold waves since 1980\n",
            "ID: 1kf37b1, Título: Israel prepares for severe drought with expanded desalination\n",
            "ID: 1jafrl9, Título: Heavy rain in Spain ends four years of drought\n",
            "ID: 1hgyjbu, Título: As Earth dries out, countries fail to reach drought agreement\n",
            "ID: 1736gzt, Título: ‘Without water, there is no life’: Drought in Brazil’s Amazon is sharpening fears for the future\n",
            "ID: 1i3apqm, Título: 40-year study suggests extreme droughts will become more frequent and severe\n",
            "ID: 1ga3eya, Título: Drought Prompts Nationwide Low Water Level Warnings \n",
            "ID: 1gt16h5, Título: Greenhouse gas emissions and drought — Heat, not lack of precipitation, is driving western U.S. droughts — Scientists predict droughts will last longer, cover wider areas and become more severe as climate warms — U.S. Drought Monitor map: California, Nevada, Utah, Arizona, NM, CO, WY, MT, ID, OR, WA\n",
            "ID: 1hw8fuz, Título: This week’s unholy mix of drought, wind, and fire in Southern California \n",
            "ID: 1g2bp9l, Título: Rising disaster costs leave U.S. confronting fiscal risks of climate change. As storms, droughts, wildfires and other extreme weather events strike with greater frequency and intensity, repairing and rebuilding has grown more costly, too.\n",
            "ID: 1kiabrp, Título: Trump kills NOAA Billion-Dollar Weather and Climate Disasters extreme weather and climate events database that tracked and mapped deaths and damages in US caused by hurricanes, tropical storms, tornados, droughts, heatwaves, wildfires, storms, floods, hail, severe weather, and cold waves since 1980\n",
            "ID: 176u18u, Título: Flood risk warning for up to 1.5 million homes as melting Arctic ice set to trigger rising seas\n",
            "ID: 1d1s7n6, Título: How long until the US climate refugees flood to the northern states and overwhelm them?\n",
            "ID: 1fuq1eg, Título: Before the floods, Asheville was called a ‘climate haven.’ Is anywhere safe?\n",
            "ID: 17wi61n, Título: Currently in Miami during a biblical flood\n",
            "ID: 1gjot5q, Título: Hundreds are dead in Spain's floods. Scientists see a connection to climate change\n",
            "ID: 1git2jk, Título: Climate scientists say they see a clear link between flash floods and human-caused global warming.\n",
            "ID: 177b2xz, Título: What happens when America's flood insurance market goes underwater?\n",
            "ID: 17hxrb2, Título: \"Experts Tell How Antarctic's Ice Could Cause Widespread Floods\"\n",
            "ID: 16l1qsc, Título: Ten countries and territories saw severe flooding in just 12 days. Is this the future of climate change? | CNN\n",
            "ID: 1kiabrp, Título: Trump kills NOAA Billion-Dollar Weather and Climate Disasters extreme weather and climate events database that tracked and mapped deaths and damages in US caused by hurricanes, tropical storms, tornados, droughts, heatwaves, wildfires, storms, floods, hail, severe weather, and cold waves since 1980\n",
            "ID: 1hwsv8j, Título: With LA on fire in January (even with an unknown cause at this time) and the worst snow storm in a decade happening contemporaneously, can climate change still be denied?\n",
            "ID: 1g2self, Título: As parts of Florida went dark from Helene and Milton, the lights stayed on in this net-zero, storm-proof community \n",
            "ID: 1jca0mc, Título: At least 26 dead in massive US storm after Kansas reports 8 fatalities\n",
            "ID: 1kjx19p, Título: Scientists from the US and European countries find that climate change amplified the heavy rainfall leading to tornadoes, floods and landslides in the Mississippi river valley during 5 days in April, causing at least 24 fatalities and economic damages from the storm estimated at $80–$90 billion\n",
            "ID: 1ds5z1x, Título: Has Hurricane Beryl become the fastest storm to intensify to a Cat 4 from a tropical storm as a result of \"rapid intensification\"?\n",
            "ID: 1fvbcoy, Título: Nowhere in America Is Safe From Climate-Fueled Storms and Fires\n",
            "ID: 1jzqzoc, Título: Climate crisis has tripled length of deadly ocean heatwaves, study finds - Hotter seas supercharge storms and destroy critical ecosystems such as kelp forests and coral reefs and half of the marine heatwaves since 2000 would not have happened without global heating.\n",
            "ID: 1aju72e, Título: Is the Los Angeles storm a result of El Niño or climate change?\n",
            "ID: 1fjsz24, Título: 'Firehose' storm hits part of North Carolina and scientists see climate change\n",
            "ID: 1fycwmo, Título: We’re Not Prepared for What Hurricane Milton Might Be About to Do to Tampa Bay\n",
            "ID: 1kiabrp, Título: Trump kills NOAA Billion-Dollar Weather and Climate Disasters extreme weather and climate events database that tracked and mapped deaths and damages in US caused by hurricanes, tropical storms, tornados, droughts, heatwaves, wildfires, storms, floods, hail, severe weather, and cold waves since 1980\n",
            "ID: 1ft5k80, Título: You will not escape the climate crisis — On Bluesky, it was pointed out that Asheville, NC was recently listed as a place to go to avoid climate crisis — While climate change does not cause hurricanes, we are certain it makes them more destructive — With climate change, you’re fine until you’re not\n",
            "ID: 1k2u0kp, Título: Scientists predict a brutal hurricane season while Trump takes aim at NOAA's budget | Grist\n",
            "ID: 1dupfuq, Título: Meteorologists Have Never Seen Anything like Hurricane Beryl\n",
            "ID: 1fypmtt, Título: If hurricanes are going to become more and more common in Florida, what do they need to do from an infrastructural perspective to mitigate the damage?\n",
            "ID: 1faixwx, Título: Where are all those predicted hurricanes? Experts fear they're still coming.\n",
            "ID: 1fxdt8e, Título: North Carolina lawmaker on Hurricane Helene conspiracies: 'Stop this junk'\n",
            "ID: 1fyg9pc, Título: Hurricane Helene's reach was shocking, another example of how climate change 'is here and now,' scientists say\n",
            "ID: 1fyj2a6, Título: Hurricane Milton continues shocking intensification. Winds up to 180 mph. Florida impacts\n",
            "ID: 1g1ysam, Título: BOM predicts one of the hottest summers on record with thunderstorms, heatwaves and severe cyclones\n",
            "ID: 1ghrxw3, Título: The World Weather Attribution initiative identifies the 10 deadliest extreme weather events in the past 20 years — Together, they caused 576,042 deaths — The fingerprints of climate change were found in all 10 events: 3 tropical cyclones, 4 heatwaves, 2 heavy rainfall events and a drought\n",
            "ID: 1hff7cg, Título: Mayotte cyclone: Hundreds feared dead after storm hits French territory\n",
            "ID: 18qq5zn, Título: \"Future of 200 migratory bird species put at risk by cyclones and droughts... likely to worsen with climate change.\"\n",
            "ID: qvltx7, Título: A six-year-old is likely to see many wildfires, cyclones, river floods and droughts over their life a least twice the time their grandparents did in their past. We deserve better.\n",
            "ID: 1em82df, Título: Tropical cyclone\n",
            "ID: 1coqae2, Título: Kenya, Tanzania Hit By First-Ever Cyclone Following Weeks of Heavy Rain, Deadly Floods\n",
            "ID: 14sbec3, Título: New Measurements Suggest Tropical Cyclones May Influence Global Climate | Scripps researchers find that tropical cyclones cause deeper and longer lasting ocean warming than previously thought, setting the stage for unexpected and far reaching implications\n",
            "ID: 1997rh1, Título: Tropical Cyclone Belal: Human-caused climate change is increasing storm intensity in Indian Ocean\n",
            "ID: 169lszk, Título: Trends in Global Tropical Cyclone Activity: 1990–2021\n",
            "ID: 1kiabrp, Título: Trump kills NOAA Billion-Dollar Weather and Climate Disasters extreme weather and climate events database that tracked and mapped deaths and damages in US caused by hurricanes, tropical storms, tornados, droughts, heatwaves, wildfires, storms, floods, hail, severe weather, and cold waves since 1980\n",
            "ID: 1eabzfs, Título: US weather: Killer 54C heatwave sparks major warnings across America\n",
            "ID: 1d3tnvd, Título: Heatwave: Delhi burns at highest ever temperature of 52.3 degrees Celsius\n",
            "ID: 1cc4e8m, Título: Heatwave deaths are increasing.\n",
            "ID: 1jzqzoc, Título: Climate crisis has tripled length of deadly ocean heatwaves, study finds - Hotter seas supercharge storms and destroy critical ecosystems such as kelp forests and coral reefs and half of the marine heatwaves since 2000 would not have happened without global heating.\n",
            "ID: 1eczkmr, Título: Climate crisis strikes Morocco as heatwave kills at least 21 people in 24 hours\n",
            "ID: 1jil3xa, Título: Climate warming and heatwaves accelerate global lake deoxygenation, study reveals\n",
            "ID: 1k761kn, Título: An increase in air conditioning use during heatwaves is the main reason why growth of global electricity demand was elevated in 2024 compared to 2023 — This accounted for almost all of the 1.4% rise in electricity generation by fossil fuels, according to Ember Global Electricity Review 2025 report\n",
            "ID: 1g1ysam, Título: BOM predicts one of the hottest summers on record with thunderstorms, heatwaves and severe cyclones\n",
            "ID: 1cuaip1, Título: Why climate scientists didn’t see the 2023 heatwave coming \n",
            "ID: 1jtaf78, Título: Global warming and wildfires — Before Trump erases any interactive maps from USDA Forest Service site, they show the risk of wildfire in each U.S. neighborhood — Volleys of glowing embers can glide for up to 24 mi and can cause up to 90% of home and business fires during wildfires, according to NIST\n",
            "ID: 1h4jjsp, Título: Could the Ash from Forest Fires help reduce the effects of Global Warming?\n",
            "ID: 1gb0l28, Título: Global CO2 emissions from forest fires increase by 60 per cent\n",
            "ID: 1ihzg5q, Título: Is there any good news?\n",
            "ID: 1elwl2e, Título: New study — After wildfires burned Swedish forest, 650g of carbon was emitted on average from every burnt square metre in first 4 years after fire, more than doubling total emissions from fire — A similar unburnt forest would remove 1,200g of carbon from the air per square metre during the same time\n",
            "ID: 1g6gtqe, Título: Global rise in forest fire emissions linked to climate change in the extratropics\n",
            "ID: 1fxpmtd, Título: What CIMP 6 models would be appropriate for modeling Forest Fire Severity in Canada's Northern Territories\n",
            "ID: yhn0ks, Título: Why isn't the sudden massive and frequent forest fire trend labeled as a climate tipping point in action?\n",
            "ID: 13xx8hj, Título: Is there a video of a climatologist or scientist in general predicting forest fires from years ago?\n",
            "ID: eoa1pm, Título: Estimated 1 billion animals dead in Australian forest fires\n",
            "ID: 1deu9gs, Título: Tampa Bay Times Editorial Board: \"Sea levels in Florida are rising fast. Tough decisions ahead\" \n",
            "ID: 1cuk72x, Título: Sea levels are rising faster. Here’s what South Florida can expect\n",
            "ID: 17wxirq, Título: 2 degrees, 40 feet: Scientists who study Earth’s ice say we could be committed to disastrous sea level rise: A new report details that ice sheets are melting quicker than expected, and that the world will need to ramp up its climate efforts to avert disastrous sea level rise.\n",
            "ID: 1hqs0h8, Título: NASA–U.S. DOD study — Sea level rise and diminished groundwater recharge will drive seawater to infiltrate underground freshwater supplies in about 3 of every 4 coastal areas worldwide by 2100 — The changes can make water in some coastal aquifers undrinkable and unusable for irrigation [global map]\n",
            "ID: 1fdd44s, Título: NASA map of projected sea level rise. Why are some areas (e.g. Louisiana, Philippines) expected to have more than double SLR than most places?\n",
            "ID: 1cywiky, Título: Ocean water is rushing miles underneath the ‘Doomsday Glacier’ with potentially dire impacts on sea level rise\n",
            "ID: 1jjq9qy, Título: Scientists Are Preparing for a Sudden Climate Shift\n",
            "ID: 18cldwf, Título: 2023 shatters climate records, with major impacts — Global temperatures — Greenhouse gases — Sea surface temperatures — Ocean heat content — Sea level rise — Cryosphere — Extreme weather and climate events — Socio-economic impacts — Renewable energy capacity and use is booming — [WMO video]\n",
            "ID: 1b9yw1e, Título: Trillions of tons of ice sit on land. Water runs downhill. When you talk about ice cubes in a glass and how that means the sea level can’t rise you look like a rube.\n",
            "ID: 15ydgmu, Título: ELI5: Why do people buy ocean-front property despite the projected rise in sea level?\n",
            "ID: 1d3dw70, Título: Venezuela's 6 glaciers have all melted decades ahead of projections. \n",
            "ID: 1giy4b7, Título: ‘Doomsday’ Antarctic Glacier Melting Faster than Expected Fueling Calls for Geoengineering\n",
            "ID: 1evjz6c, Título: Svalbard Crisis: Glaciers Melt at Unprecedented Rates As Temperatures Soar\n",
            "ID: 18209yg, Título: Peru has lost more than half its water reserves as glaciers rapidly melt | CNN\n",
            "ID: 1823a2e, Título: Peru has lost more than half its water reserves as glaciers rapidly melt\n",
            "ID: 17cieli, Título: Norwegian Archaeologists Are Salvaging Priceless Artifacts From Melting Glaciers\n",
            "ID: 1fuz20f, Título: Melting glaciers force Italy and Switzerland to redraw border in Alps — Temperatures across Europe’s biggest mountain range rising at about 0.3C per decade, about twice as fast as global average — It is estimated that Alpine glaciers will shrink by up to 90 per cent by the end of the century\n",
            "ID: 1b1e5z0, Título: The 'Doomsday Glacier' is rapidly melting. Scientists now have evidence for when it started and why\n",
            "ID: 17rzm0p, Título: Greenland's Glaciers Melting Twice as Fast as They Were 20 Years Ago\n",
            "ID: 1jeynh3, Título: Melting Glaciers Threaten Large-Scale Consequences for the Planet. Why Can’t the World Afford to Lose Its Ice?\n",
            "ID: 1hv3bjy, Título: Oxford Professor Warns: Animal Farming Is Driving Global Environmental Collapse\n",
            "\n",
            "ID: 1g9s6gg, Título: States must address the humanitarian impact of biodiversity loss by reducing disaster risk and strengthening resilience - World\n",
            "ID: 1bh5h43, Título: Software engineer looking to get a master's for climate change/biodiversity loss\n",
            "ID: 13u8jsy, Título: A Tale of Two Stripes: Interpreting the Colors of Climate Change and Biodiversity Loss\n",
            "ID: nsws6o, Título: UN Agencies Call for a Decade of Restoring Ecosystems to Confront Biodiversity and Climate Emergencies. The new report \"charts the losses that result from a poor stewardship of the planet.\"\n",
            "ID: fxnk9u, Título: Climate change could cause sudden biodiversity losses worldwide\n",
            "ID: 1bjv3lq, Título: Rising Ocean Temperature\n",
            "ID: 19553hd, Título: Do we have any information on the timeline of the sixth mass extinction, and at what point it could become catastrophic?\n",
            "ID: 166lizu, Título: Every Skeptics Argument on Climate Change and the science to disprove it\n",
            "ID: 1gwn1vo, Título: Thermosyphon to remove heat from the ocean to desalination water\n",
            "ID: 17h8uq1, Título: The Great Dying, also known as the Permian-Triassic Mass Extinction Event (PTME) of 251 million years ago, was the result of CO2, mercury, and halocarbons being injected into the atmosphere, increasing CO2 levels from ~400 ppm to ~ 2400 ppm. The result was that 81% of all species went extinct.\n",
            "ID: 1j61sdg, Título: How many more species will we let disappear? Extinctions will accelerate rapidly if global temperatures continue to rise. Cutting emissions has to come first.\n",
            "ID: 1e82x68, Título: A Species Has Gone Extinct in the Keys, and It’s the Start of a Devastating Trend\n",
            "ID: 1h82ull, Título: Climate change extinctions. Highest-emission scenario would threaten one-third of species.\n",
            "ID: 1bd8n40, Título: As the climate warms, the number of alien species on every continent is expected to increase 36% by 2050 — Some alien species are invasive and can harm ecosystems and the areas they invade — “I view diversity losses and extinction as existential problems. You can’t come back from those things.”\n",
            "ID: 1hv3bjy, Título: Oxford Professor Warns: Animal Farming Is Driving Global Environmental Collapse\n",
            "\n",
            "ID: 1ap066f, Título: Landmark UN report: The world’s migratory species of animals are in decline, and the global extinction risk is increasing\n",
            "ID: 1jjpy4s, Título: Are we underestimating the ecological crisis?\n",
            "ID: 17udfhg, Título: The Sixth Mass Extinction\n",
            "ID: cr6wnf, Título: Aren't we already past the point of extinction for the species?\n",
            "ID: 185k278, Título: Ocean acidification set to triple by 2100—What this means for the US coast\n",
            "ID: 1gkzg8o, Título: \"... in just a few years, our oceans may no longer be capable of properly sustaining life or helping to regulate the Earth's climate, thanks to intense acidification.\"\n",
            "ID: 1fogcfk, Título: World's oceans near critical acidification level\n",
            "ID: 1d9j69u, Título: World’s Oceans Face ‘Triple Threat’ of Oxygen Loss, Extreme Heat and Acidification, Study Finds - EcoWatch\n",
            "ID: 1hztjul, Título: \"Students used VR headsets to dive into an underwater world showing the effects of ocean acidification\" Virtual reality will allow students to experience and learn about climate change from anywhere, creating empathy for the environment\n",
            "ID: s6hrr6, Título: Why is Ocean Acidification not brought up in political debates regarding climate change? Is it not common knowledge that the Ocean produces 50-80% of the world's Oxygen?\n",
            "ID: 1glecd7, Título: Potsdam Institute Planetary Health Check 2024 — Full report on all 9 Planetary Boundaries, including Ocean Acidification (OA), which is within its Safe Operating Space at 2.80, but is near to crossing its safe boundary 2.75; lower values mean higher acidification — OA pre-industrial baseline is 3.44\n",
            "ID: 1fr4e9e, Título: Uhhh Ocean Acidification much? \n",
            "ID: 193eum3, Título: What is the impact of ocean acidification on the Great Barrier Reef in Australia?\n",
            "ID: fkl07o, Título: Question about Ocean Acidification\n",
            "ID: 1h9pbit, Título: Climate change significantly impacts food security in Iran: expert\n",
            "ID: 1h6i8kp, Título: More rapid and severe disease outbreaks for aquaculture at the tropics: implications for food security\n",
            "ID: zhxuhs, Título: “I don’t see an awful lot of governments considering the fundamental system transitions that are needed to really secure food systems and make them more resilient to future climatic change.” – Paul Behrens, LeidenUniversity #GlobalCarbonFeeAndDividendPeitition\n",
            "ID: uhi8bx, Título: How soil can help combat climate change and improve food and water security\n",
            "ID: 1iq6oj9, Título: \"Scientists sound alarm over troubling phenomena forcing them to 'rethink' everything: 'Predictability has become more challenging'\"\n",
            "ID: xe821x, Título: Food supply and security concerns mount as impacts stress agriculture » Yale Climate Connections\n",
            "ID: cnj8wo, Título: IPCC Special Report on Climate Change, Desertification, LandDegradation, Sustainable Land Management, Food Security, and Greenhouse gas fluxes in Terrestrial Ecosystems is out today, take a look\n",
            "ID: bo5zuv, Título: Weighing up trade-offs between food security and climate mitigation\n",
            "ID: 7zq41y, Título: Enhanced rock weathering: Beneficial for climate change, food security and soils?\n",
            "ID: 1jo65qy, Título: Shower Thought: Future population growth will have minimal impact on CO2 emissions as it will happen in poorly developed areas with low per capita CO2 emissions\n",
            "ID: 15rqklm, Título: The world is likely to face major disruption to food supplies well before temperatures rise by the 1.5C target, the president of the UN’s desertification conference has warned, as the impacts of the climate crisis combine with water scarcity and poor farming practices to threaten global agriculture\n",
            "ID: 1hv3bjy, Título: Oxford Professor Warns: Animal Farming Is Driving Global Environmental Collapse\n",
            "\n",
            "ID: 1c5vx15, Título: Why don’t we do this to stop water scarcity/use in a climate changed inflicted world\n",
            "ID: 1bpoznr, Título: Water scarcity in the world\n",
            "ID: 1bt2frx, Título: Iraq among Arab states most vulnerable to water scarcity by 2050: report\n",
            "ID: c9wtib, Título: As Water Scarcity Increases, Desalination Plants Are on the Rise\n",
            "ID: kgjy0w, Título: REPORT: Scientific, technological and philosophical advances, will not be enough to address water scarcity\n",
            "ID: kfzspq, Título: California Water Futures Begin Trading Amid Fear of Scarcity\n",
            "ID: 15v4lo8, Título: Where is the safest place to live for the next 50 years?\n",
            "ID: 1kk3ui4, Título: AI might be a net positive for the environment\n",
            "ID: 1gaz19l, Título: Will climate change cause more mass migrations?\n",
            "ID: 1eg7wjm, Título:  With AMOC collapse and climate change where will humans migrate to?\n",
            "ID: 17yz2wv, Título: Why Central Americans migrate to the United States when they do: climate change\n",
            "ID: 1j2etxz, Título: Bangladesh sheds light on climate change migration patterns\n",
            "ID: 12vkko5, Título: Do you see mass climate migrations happening?\n",
            "ID: 18x6osv, Título: Climate change to spur global migration, U.K. science journalist warns\n",
            "ID: 1hiac1u, Título: Book recommendations to learn about climate migration\n",
            "ID: 10hwyjd, Título: The Great Climate Upheaval: One Billion People are Expected to Migrate by 2050. By 2050, food insecurity might affect 3.5 billion individuals.\n",
            "ID: 1fl3y2s, Título: Languages in the US if people migrate to the US due to climate change.\n",
            "ID: 166gp13, Título: Lets collaborate on Climate Migration\n",
            "ID: 16yjjzc, Título: The EASIEST point to make against Climate Change Deniers\n",
            "ID: 1gw7bvv, Título: \"Human-caused ocean warming intensified recent hurricanes, including all 11 Atlantic hurricanes in 2024:  Researchers determined that 44% of the economic damages caused by Hurricane Helene and 45% of those caused by Hurricane Milton could be attributed to climate change\"\n",
            "ID: 1de0acd, Título: New report refutes 33 false claims about solar, wind and electric vehicles — Findings include solar energy development does not negatively impact U.S. jobs, electromagnetic radiation from wind turbines does not pose a threat to human health, EVs do not have a net harmful effect on climate change\n",
            "ID: 1k8dlbj, Título: Why aren't there climate change subs in every state?\n",
            "ID: 166lizu, Título: Every Skeptics Argument on Climate Change and the science to disprove it\n",
            "ID: 1k6pnpi, Título: NIH Ends Future Funding to Study the Health Effects of Climate Change; It’s unclear whether the guidance will impact active grants, but it appears to halt opportunities for future studies. One climate health expert said the directive would have a “devastating” impact on much-needed research.\n",
            "ID: 18gwd59, Título: How physicians are preparing for climate change and extreme heat's impact on human health\n",
            "ID: 1gg3afu, Título: Verity - Report: Climate Change Causing Rise in Heat-Related Deaths\n",
            "\n",
            "ID: 1edk91v, Título: The Heritage Foundation's Project 2025 900 pg pdf \"Mandate for Leadership\" quotes about climate change and the deregulation of the EPA\n",
            "ID: 18k47yy, Título: Health impacts of climate change moving ‘front and center’\n",
            "ID: 1gqzx31, Título: The Renewable Energy Revolution Is Unstoppable\n",
            "ID: 1ilnym3, Título: Despite progress in renewables, the best chance to curb climate change is a concerted effort to refine and then broadly adopt nuclear energy such as Thorium Salt Reactors.\n",
            "ID: 1g6knib, Título: Let’s Come Clean: The Renewable Energy Transition Will Be Expensive\n",
            "ID: 1iyis2o, Título: BP ditching its renewable energy goals to focus back on fossil fuels\n",
            "ID: 1k896bl, Título: 3 gigawatt wind farm project offshore New York that is expected to power more than one million homes halted by Germany's biggest electricity producer RWE because of Trump — RWE Clean Energy is the third-largest renewable energy company in the US — RWE paid $1.1 billion for the New York lease area\n",
            "ID: 1ae4qgg, Título: Is renewable energy cheaper than non-renewable?\n",
            "ID: 1g0fa85, Título: China is expected to install nearly 60% of the world's renewable energy capacity by 2030. \n",
            "ID: 16k9ndo, Título: Why can't we just plant more trees without switching over to renewable energy?\n",
            "ID: 18cldwf, Título: 2023 shatters climate records, with major impacts — Global temperatures — Greenhouse gases — Sea surface temperatures — Ocean heat content — Sea level rise — Cryosphere — Extreme weather and climate events — Socio-economic impacts — Renewable energy capacity and use is booming — [WMO video]\n",
            "ID: 1gmkoy7, Título: I Spent Six Months Selling Solar Panels Door to Door. Here’s the Thing About Renewable Energy.\n",
            "ID: 1i8eemv, Título: China built more solar power in the last 8 months than all the nuclear power built in the entire world in the entire history of human civilisation.\n",
            "ID: 1jg3sr8, Título: U.S. military’s understanding that climate change couldn’t be ignored — Its embrace of energy from solar and wind power — It has been moving away from fossil fuels — U.S. Army drilled world’s first deep ice core, which revealed in the 1970s that CO2 levels were lower before the industrial revolution\n",
            "ID: 1ftpa3j, Título: How the US Lost the Solar Power Race to China\n",
            "ID: 1hfyfp2, Título: We are living in the upside down \n",
            "ID: 1gryaoz, Título: Trump promise to repeal Biden climate policies could cost US billions, report finds | Solar power\n",
            "ID: 1i9suji, Título: China's solar, wind power installations soared to record in 2024\n",
            "ID: 16t30v9, Título: Peak Oil Is Near, Energy Agency Says, but Climate Change Is Far From Solved. Despite the rapid growth of electric vehicles and solar power, other efforts to tackle warming are lagging, according to the International Energy Agency.\n",
            "ID: 1k5456k, Título: Solar + wind made up 98% of new US power generating capacity in Jan-Feb 2025\n",
            "ID: bj69yj, Título: Surface area of solar panels required to power entire U.S.\n",
            "ID: 177eiqv, Título: Why not nuclear power\n",
            "ID: 1jg3sr8, Título: U.S. military’s understanding that climate change couldn’t be ignored — Its embrace of energy from solar and wind power — It has been moving away from fossil fuels — U.S. Army drilled world’s first deep ice core, which revealed in the 1970s that CO2 levels were lower before the industrial revolution\n",
            "ID: 1k896bl, Título: 3 gigawatt wind farm project offshore New York that is expected to power more than one million homes halted by Germany's biggest electricity producer RWE because of Trump — RWE Clean Energy is the third-largest renewable energy company in the US — RWE paid $1.1 billion for the New York lease area\n",
            "ID: 1i9suji, Título: China's solar, wind power installations soared to record in 2024\n",
            "ID: 1i7zumw, Título: Wind power collapse UK\n",
            "ID: 1k5456k, Título: Solar + wind made up 98% of new US power generating capacity in Jan-Feb 2025\n",
            "ID: 177eiqv, Título: Why not nuclear power\n",
            "ID: 1hifzlc, Título: Record wind-generated electricity across Northern Ireland and Scotland Tuesday night pushed Britain’s power prices below zero — The UK’s Labour government has a goal of quadrupling offshore wind power, doubling onshore wind and tripling solar by 2030, with an overall target of 95% green energy\n",
            "ID: zvq6ue, Título: Nuclear power as safe and clean as wind and solar\n",
            "ID: 1eafc2b, Título: Should we Sacrifice Whales for Clean Wind Power - Part II\n",
            "ID: 1ftgo6m, Título: United Kingdom officially closes its last remaining coal power plant — The world’s first coal power plant opened in London in 1882, and as recently as 2012, coal powered 39% of the UK’s electricity supply — The UK predominantly replaced coal with wind and solar, without increasing reliance on gas\n",
            "ID: i0hcid, Título: Tajikistan Limits Power Due To Low Water At Hydroelectric Dam\n",
            "ID: bep952, Título: Hydroelectric power - Pros and Cons\n",
            "ID: 18wrrbu, Título: Will the United States reach net zero greenhouse gas emissions in your lifetime? — U.S. Lower 48 states one-day electricity generation by energy source on 31 Dec 2023 ET — Wind 11% — Hydro 6% — Solar 3% — Other 2% — Natural gas 40% — Coal 18% — Petroleum 0% — Nuclear 21%\n",
            "ID: 1ea495i, Título:  The Impact of Climate and CO2 on Flora, Fauna, and Energy\n",
            "ID: 14268ld, Título: Betulia Energy and Biodiversity Restoration Project in Honduras\n",
            "ID: 3vpkxm, Título: I do my part to try and minimize my carbon footprint, but I do not think it matters.\n",
            "ID: 177eiqv, Título: Why not nuclear power\n",
            "ID: 1e0xb29, Título: is hot dry rock geothermal energy really zero carbon?\n",
            "ID: 153z5uz, Título: Fervo Energy hits milestone in using oil drilling technology to tap geothermal energy\n",
            "ID: bvgnyd, Título: DOE Releases New Study Highlighting the Untapped Potential of Geothermal Energy in the United States\n",
            "ID: l1kk4n, Título: Solar photovoltaics alone are on track to produce more energy by 2028 than the “best-case” scenario from 2014 assumed would be possible with solar, wind, and geothermal power *combined* eight decades from now\n",
            "ID: ti61df, Título: Geothermal energy as a means to decarbonize the energy mix of megacities\n",
            "ID: 1jkotv0, Título: I'm launching my climate action book online. Here's the introduction.\n",
            "ID: 178hz3g, Título: Why not nuclear power pt. 2\n",
            "ID: 18wrrbu, Título: Will the United States reach net zero greenhouse gas emissions in your lifetime? — U.S. Lower 48 states one-day electricity generation by energy source on 31 Dec 2023 ET — Wind 11% — Hydro 6% — Solar 3% — Other 2% — Natural gas 40% — Coal 18% — Petroleum 0% — Nuclear 21%\n",
            "ID: 1gxzoqo, Título: Looking for alternatives to nuclear and large-scale biomass for clean energy in Ohio\n",
            "ID: 1gxzoqo, Título: Looking for alternatives to nuclear and large-scale biomass for clean energy in Ohio\n",
            "ID: u4qiz5, Título: Explore the IPCC AR6 scenario electricity data. Scenarios can be filtered by warming, yearly energy growth, wind/solar/hydro/nuclear/biomass electricity share.\n",
            "ID: bjomam, Título: On April 22, in Germany, renewable energy sources generated new record high 77% of net public electricity power supply, thanks to strong winds and abundant sunshine, according to research institute Fraunhofer ISE. Wind power provided 40% of total net public power, solar 20%, biomass 10%.\n",
            "ID: 18qqmck, Título: We are telling ourselves pretty stories, and it's not helpful\n",
            "ID: 18wrrbu, Título: Will the United States reach net zero greenhouse gas emissions in your lifetime? — U.S. Lower 48 states one-day electricity generation by energy source on 31 Dec 2023 ET — Wind 11% — Hydro 6% — Solar 3% — Other 2% — Natural gas 40% — Coal 18% — Petroleum 0% — Nuclear 21%\n",
            "ID: tqxu7i, Título: Are heat pumps good for the environment?\n",
            "ID: lix11j, Título: Over 500 Scientists From US, Europe and Asia Urge World Leaders to Stop Burning Trees for Energy\n",
            "ID: 17mwr9r, Título: Medium-scale geoengineering projects?\n",
            "ID: sy3z6o, Título: Why fighting climate change has to be a many-pronged effort.\n",
            "ID: 16ascro, Título: Looking for a Climate Change charity\n",
            "ID: 1g6knib, Título: Let’s Come Clean: The Renewable Energy Transition Will Be Expensive\n",
            "ID: 1ak9knm, Título: Techno-economically, when could we have started transitioning to clean energy and phasing out fossil fuels, globally?\n",
            "ID: 1ide6bp, Título: An explanation of how renewable energy saves you money — Fossil fuel interests will do whatever is necessary to keep us from transitioning to cheaper, cleaner renewable energy — Lying about the cost of renewables is just one of the tactics they’re using — Don’t let them get away with it\n",
            "ID: 187s9w7, Título: Who will pay for energy transition?\n",
            "ID: 1gucb11, Título: The energy transition will be much cheaper than you think - The Economist\n",
            "ID: 1hcl8k6, Título: Feared threshold now a reality:  \"Earth Will Exceed 1.5 Degrees Celsius of Warming This Year\"\n",
            "ID: 1k6vzwo, Título: Distributed Energy is Driving Latin America’s Energy Transition /   Latin America and the Caribbean went from just one gigawatt installed capacity of distributed systems in 2017 to 31.8 GW by 2023  \n",
            "#GlobalCarbonFeeAndDividendPetition\n",
            "ID: 1fbyxw6, Título: The momentum of the solar energy transition\n",
            "ID: 1fvnu5d, Título: Will geopolitical fragmentation kill / slow down the energy transition? \n",
            "ID: 165kchu, Título: Why are we shutting down nuclear power plants before going full green\n",
            "ID: 1f283ul, Título: Satellites measure the surface of the Antarctica ice sheet — They show that, in general, ice loss in Antarctica today is 6 times more than it was 30 years ago — Our best and only way to protect Antarctica is to rapidly and deeply decarbonize to net zero by mid-century — The benefits would be global\n",
            "ID: 1efobqr, Título: Which sectors to decarbonize first?\n",
            "ID: sewx2w, Título: Nuclear power and renewable energy are both associated with national decarbonization\n",
            "ID: 1g0lqr3, Título: Decarbonizing Water Heating with Intelligent Water Heaters\n",
            "ID: 1gpjgg4, Título: Bubbles buried in Antarctic ice cores reveal Earth nearing crucial 1.5°C limit\n",
            "ID: 1akfixa, Título: Decarbonizing Steel and Cement: The Path Forward\n",
            "ID: o9obtc, Título: Engineers: You Can Disrupt Climate Change: Decarbonization, carbon capture, and solar-radiation management will provide work for decades to come\n",
            "ID: yl3axw, Título: Always wrong, sometimes useful: 5 tips for understanding the value and limitations of decarbonization models\n",
            "ID: ti61df, Título: Geothermal energy as a means to decarbonize the energy mix of megacities\n",
            "ID: nfzqkc, Título: Energy Quiz: How much do you know about decarbonization and electricity generation around the world? 11 multiple choice questions\n",
            "ID: 1caru2u, Título: How can I become carbon neutral???\n",
            "ID: 1j7z1bq, Título: Carbon neutral by 2029? It’s not a pipe dream for this Danish town\n",
            "ID: 1k42glx, Título: Accidentally solved climate change for a school project\n",
            "ID: 19a8w5k, Título: What does “carbon neutral” even mean?\n",
            "ID: qkehex, Título: TIL millions of acres of virgin, old growth forests are being cut down in North America to be sold as wood pellets in Europe. Because these they replanted with monoculture forests, wood pellets count as carbon neutral under current carbon counting schemes. The biodiversity, however, never recovers\n",
            "ID: 1alrlzj, Título: Flying Green: The Pursuit of Carbon-Neutral Aviation Revs Up\n",
            "ID: jr1i12, Título: When the world last carbon neutral\n",
            "ID: 17bp18o, Título: Carbon Dioxide Neutralization, Design project\n",
            "ID: 18cji7b, Título: Neutron scattering study points the way to electrochemical for carbon-neutral ammonia\n",
            "ID: xy431w, Título: Carbon neutrality\n",
            "ID: 1h0jr3k, Título: I'm 45 - is a Circular Economy Certificate from a university a good idea?\n",
            "ID: 1gwk1pu, Título: Fostering a Circular Carbon Economy with Direct Air Capture\n",
            "ID: 1ixbnl7, Título: The E-Waste Crisis is Growing—And We Need to Act NOW!\n",
            "ID: 1endyc9, Título: Systemic change for climate change? \n",
            "ID: 1bsgw0h, Título: Understanding the vocabulary of climate change concepts\n",
            "ID: xpiari, Título: Do we have general broad Principles of stopping Anthropic climate change?\n",
            "ID: 1ihbsi6, Título: Roast my idea: Financing for energy efficiency projects\n",
            "ID: 1gomb4r, Título: Considering climate impact where would the best to live be by 2050?\n",
            "ID: 1ir9emx, Título: How can we effectively reduce man-made climate change without drastically impacting every major function of modern civilization?\n",
            "ID: 170izd3, Título: How 8 energy-efficient buildings were designed to combat the effects of climate change\n",
            "ID: ok729t, Título: Reducing sizes+building more energy-efficient houses to combat climate change\n",
            "ID: 1gn36i0, Título: Its better for the countries to progress and leave the US behind\n",
            "ID: i4uyb0, Título: Turning carbon dioxide into liquid fuel. Scientists have discovered a new electrocatalyst that converts carbon dioxide (CO2) and water into ethanol with very high energy efficiency, high selectivity for the desired final product and low cost.\n",
            "ID: 17e251o, Título: Solar and wind are better than nuclear\n",
            "ID: lpkj65, Título: Common mineral could be key to tackling climate change - \"magnesium hydroxide has been widely recognized as one of the most promising materials for 'carbon mineralization' ... but until now there hasn't been an energy-efficient way of producing it.\"\n",
            "ID: euoy0r, Título: Energy efficiency slows climate change, saves money. Why haven't we embraced it more?\n",
            "ID: 1j2m766, Título: Is there any promising form of carbon capture that is scalable and economically sustainable?\n",
            "ID: 18yq3to, Título: Does anyone believe in carbon capture?\n",
            "ID: 17dv720, Título: How come some environmentalists are against carbon capture and storage?\n",
            "ID: 18lz590, Título: Why is Carbon Capture being pursued when so many people doubt its feasibility?\n",
            "ID: 1freov0, Título: Tree ‘burial’ strategy could be 10x more cost effective than carbon capture, doesn't use as much electricity, and lose only 5% of the carbon over 3000 years. Cons: need a lot of land because the woods cannot be buried too deep.\n",
            "ID: 1hutx19, Título: Illinois Carbon Capture Project Captures Almost No Carbon - CleanTechnica\n",
            "ID: 17p3pdb, Título: Basalt Carbon Capture Could Remove 20 Years of Emissions\n",
            "ID: 1j7brdu, Título: What is the largest carbon capture machine in the world?\n",
            "ID: 1dkrd4g, Título: Does anyone actually think carbon capture is a solution to our emissions problem???\n",
            "ID: 18kzcxh, Título: Carbon capture and removal can't be used as an excuse to avoid rapidly reducing fossil fuel production and use — Carbon capture techniques range from capturing CO2 before it is released at power stations and storing it deep underground, to using trees or machines to suck CO2 directly out of the air\n",
            "ID: 1fcxbfi, Título: Is China's Desert Reforestation Sustainable?\n",
            "ID: 1bgjhyo, Título: Would \"rapid reforestation\" slow down rising temperatures reasonably?\n",
            "ID: 1fanv40, Título: Judge in Brazil orders slaughterhouses to pay for Amazon reforestation\n",
            "ID: 1i1taxc, Título: Why is climate change so underestimated???\n",
            "ID: 1f3ppqs, Título: Rules for reforestation: Optimising carbon sequestration, biodiversity and social benefits isn't as simple as just planting trees. But there are rules to maximise these benefits.\n",
            "ID: lflave, Título: Reforesting the US to its full potential is the CO2 equivalent of removing 72 million cars from the road\n",
            "ID: fcguun, Título: CANADA: There is a massive disconnect between trees planted and the scale of forest area damage caused by fires and insect. ~426,000 hectares of land are reforested annually, while ~14,000,000 hectares are harvested, burnt or damaged by insects and disease. Data Source: Natural Resources Canada\n",
            "ID: 1ggz3qm, Título: Earth’s climate will keep changing long after humanity hits net-zero emissions. Our research shows why\n",
            "ID: 135mfyv, Título: Reforestation Organizations\n",
            "ID: ccdr0s, Título: I'm building a social reforestation app. Have thoughts?\n",
            "ID: 1fhde02, Título: Methane Levels at 800,000-Year High: Stanford Scientists Warn That We Are Heading for Climate Disaster\n",
            "\n",
            "ID: 1g5rv61, Título: Conservation agriculture improves soil health and sustains crop yields after long-term warming - Nature Communications\n",
            "ID: g0k7bh, Título: Combining solar panels and agriculture creates a mutually beneficial, and sustainable relationship\n",
            "ID: dnx6y2, Título: \"...deploying measures in agriculture, forestry, wetlands and bioenergy could feasibly and sustainably contribute about 30%... of the global mitigation needed in 2050 to deliver on the 1.5 °C target\"\n",
            "ID: 1jkotv0, Título: I'm launching my climate action book online. Here's the introduction.\n",
            "ID: 1kk3ui4, Título: AI might be a net positive for the environment\n",
            "ID: 1fesl66, Título: 🌍 Top 50 Biden-Harris Accomplishments for Combating Climate Change 🌱\n",
            "ID: 1jis5m5, Título: Urgent Policy Critique: Climate action plan in a small conservative town.\n",
            "ID: 1geo0r4, Título: \"Helene and Milton upended a key part of the nation’s agriculture system\"\n",
            "ID: 1f7gcv9, Título: Cleaning Up America's Dirty Canals: Lessons from Global Waterway Success Stories\n",
            "ID: 14892vw, Título: Why is electric mobility the way forward?\n",
            "ID: guqb14, Título: This New Electric Vehicle is a Sun-Fueled Urban Mobility Dream\n",
            "ID: 18wrrbu, Título: Will the United States reach net zero greenhouse gas emissions in your lifetime? — U.S. Lower 48 states one-day electricity generation by energy source on 31 Dec 2023 ET — Wind 11% — Hydro 6% — Solar 3% — Other 2% — Natural gas 40% — Coal 18% — Petroleum 0% — Nuclear 21%\n",
            "ID: leikgu, Título: MOTORCYCLES; DUH.\n",
            "ID: 10riev4, Título: Materials demand for electricity in climate change scenarios\n",
            "ID: 8wevnf, Título: Current power generation, which direction are we going, and which should we go towards?\n",
            "ID: pjo7jw, Título: Is there a list of goods and how much it actually impacts globaly for Greenhouse Gases (GHG)?\n",
            "ID: 88lqy0, Título: Need help with developing a carbon footprint calculator\n",
            "ID: 1grverw, Título: ‘Artificial tree’ from Switzerland to produce green hydrogen\n",
            "ID: 1cdgzap, Título: Can green hydrogen ever compete with high temperature electrolysis from nuclear in terms of efficiency?\n",
            "ID: 1cmds01, Título: Pink vs green hydrogen?\n",
            "ID: 15eihff, Título: If we find a way to make abundant green hydrogen...\n",
            "ID: zjhcka, Título: Green hydrogen is a fantasy\n",
            "ID: nwl7sa, Título: Wind could produce affordable green hydrogen by 2030\n",
            "ID: yqth65, Título: Green hydrogen plant launches in Egypt during COP27's second day\n",
            "ID: tx46w7, Título: Green Hydrogen has a great potential for long-haul trucks but not cars\n",
            "ID: pbgycr, Título: SAF+ Consortium | Pilot plant that produce Jet Fuel from stack gases and green hydrogen\n",
            "ID: 1geal2u, Título: The Hate for Hydrogen\n",
            "ID: 1i5xg71, Título: Trump to withdraw from Paris climate agreement, White House says\n",
            "ID: 1gonmni, Título: Trump prepares to withdraw from Paris climate agreement, NYT reports\n",
            "ID: 1gkuhfn, Título: This election will impact the entire planet, what about the Paris Agreement?\n",
            "ID: 1i76faq, Título: European leaders vow to stick to Paris climate agreement despite Trump withdrawal\n",
            "ID: 1i9kk12, Título: Paris Agreement Without the U.S.: Can the World Still Meet Its Climate Goals?\n",
            "ID: 19cxn4m, Título: \"Even if fossil fuel emissions are halted immediately, current trends in global food systems may prevent the achieving of the Paris Agreement’s climate targets... Reducing animal-based foods is a powerful strategy to decrease emissions.\" (2022 study)\n",
            "ID: 1gn4o9b, Título: Trump prepares to withdraw from Paris climate agreement, NYT reports\n",
            "ID: 1hgciwo, Título: The Looming Crisis: When Will Earth Cross the Critical Global Warming Thresholds under the Paris Agreement\n",
            "ID: 1gdyi6k, Título: I translated a plan for France to reduce its emissions by 5% every year to 2050 in line with Paris Agreement\n",
            "ID: 1i1taxc, Título: Why is climate change so underestimated???\n",
            "ID: 1jv2wmt, Título: How to Get a COP 30 Badge?\n",
            "ID: 1itro6h, Título: Why COP must go on\n",
            "ID: 186s1d4, Título: Too little. Too late. Too slow. But could COP yet turn the tide on climate change?\n",
            "ID: 189y299, Título: POLITICO: Open secret at climate talks: The top temperature goal is mostly gone\n",
            "ID: z28ku1, Título: Five major storylines from the COP-27 Climate Change Summit in Egypt\n",
            "ID: qk9tad, Título: COP 1 - COP 25: What Did We Achieve Till Now?\n",
            "ID: 1aqyv1y, Título: The older generations really just taught us about climate change in middle school then said good luck\n",
            "ID: dtuurv, Título: I want to know more about the world's response to climate change. Is there a good book or article on the history of the IPCC and the COPs up to the present? Or something that clearly sets out the positions and interests of the different groups (annex 1&2 vs non-annex countries)?\n",
            "ID: 17wm05w, Título: India Plans to Double Coal Production by 2030\n",
            "ID: 3v9eze, Título: COP 21: Wo sind die Ergebnisse??\n",
            "ID: 1g0jxsy, Título: Why Global Deforestation is ‘Surging Ahead’ Despite COP26 Pledge!\n",
            "ID: 17760yb, Título: \"increasing evidence that global warming has accelerated over the past 15 years\n",
            "ID: quj0k0, Título: COP26 quick summary\n",
            "ID: 122jtiv, Título: Does the IPCC synthesis take into account COP26? I’m confused\n",
            "ID: qckm6o, Título: COP26: Document leak reveals nations lobbying to change key climate report\n",
            "ID: qb82r3, Título: COP26 is in three week's time - what are your predictions? Another flop or do you have hope things might be different this time?\n",
            "ID: qghgx9, Título: No, diesel fuel isn’t recharging electric cars at COP26 climate meeting\n",
            "ID: qp75so, Título: Cambodia, Laos, Malaysia, Myanmar And Thailand Skip Signing COP26 Pledge To Reverse Deforestation\n",
            "ID: qjov9q, Título: Climate summit COP26: Climate researchers warn of drastic global warming\n",
            "ID: qe36bq, Título: COP26 Climate Summit in Glasgow: What to Expect\n",
            "ID: zjou32, Título: Disappointing outcomes from the COP27\n",
            "ID: z0043g, Título: COP27 summit agrees on landmark climate 'loss and damage' fund, but does little to encourage rapid cuts to fossil fuel use\n",
            "ID: ytglpj, Título: Who is the man wearing a bike helmet around COP27?\n",
            "ID: ye2a70, Título: COP27: Prioritise climate or face catastrophe - UN chief\n",
            "ID: yqth65, Título: Green hydrogen plant launches in Egypt during COP27's second day\n",
            "ID: yfhj9f, Título: Climate change reports before COP27: World heading 'wrong direction'\n",
            "ID: ynqzhl, Título: Questions and answers on the European Commission's participation at COP27\n",
            "ID: ysmte8, Título: If climate change is real they why are the doing this?\n",
            "ID: z28ku1, Título: Five major storylines from the COP-27 Climate Change Summit in Egypt\n",
            "ID: yfa0hi, Título: Any pointers for sources about how reduction of emissions from energy production has been doing?\n",
            "ID: 18a00zz, Título: Cop28 president says there is ‘no science’ behind demands for phase-out of fossil fuels\n",
            "ID: 18ajixl, Título: COP28 president corrects himself after saying there is no science that says the phase-out of fossil fuel is what's going to achieve 1.5C\".\n",
            "ID: 18pcch0, Título: What’s Your Take Away from COP28?\n",
            "ID: 188889n, Título: COP28: World Leaders Tackle Climate Crisis, Focus on Limiting Global Warming to 1.5°C. Over 97,000 attendees are discussing key themes such as emissions mitigation targets, phasing out fossil fuels, and low-carbon innovation.\n",
            "ID: 18iojjr, Título: What's your take on COP28? It's about time, too little too late, or...?\n",
            "ID: 1g8xcm7, Título: COP28 had a health day. What do you think is going to be the follow up discussion on climate change and health this year?\n",
            "ID: 18hblms, Título: Nations strike deal at COP28 to transition away from fossil fuels\n",
            "ID: 189remc, Título: Despite valid reasons to be gloomy, COP28 shows that the end of the age of carbon is within sight\n",
            "ID: 14wxh0k, Título: COP28 must focus on oil and gas phase-out, not distractions like CCS\n",
            "ID: 18ha6oe, Título: COP28 updates: Climate draft does not call for 'phase-out'\n",
            "ID: 1gyf0d3, Título: Landmark $300 billion for poorer nations in COP29 climate deal\n",
            "ID: 1gmpzgl, Título: COP29 chief secretly filmed promoting fossil fuel deals\n",
            "ID: 1gzd095, Título: COP29 should get reformed\n",
            "ID: 1gy2562, Título: COP29: Climate-vulnerable nations walk out of overtime talks\n",
            "ID: 1gx7xn6, Título: Live. COP29: What's happening on day 11 of the UN climate conference?\n",
            "ID: 1gr28cd, Título: Live. COP29: What's happening on day four of the UN climate conference?\n",
            "ID: 1gu1nc4, Título: Live. COP29: What's happening as the UN climate summit enters its second week?\n",
            "ID: 1gr3b4s, Título: Switzerland to call for climate finance contributions from China and Russia at COP29\n",
            "ID: 1g14jwn, Título: What is COP29? The biggest issues on the table in Baku next month\n",
            "ID: 18pcch0, Título: What’s Your Take Away from COP28?\n",
            "ID: 1klu6jb, Título: “Amazon in Metastasis”: A critical look at ecological collapse ahead of COP30\n",
            "ID: 1itro6h, Título: Why COP must go on\n",
            "ID: 1i1nfns, Título: If you had a magic wand and you could enact just a single policy change or technological advancement that would give us the greatest chance to overcome the climate crisis, what would it be?\n",
            "ID: 1h1hzs9, Título: What are the best arguments to use for why government policy should be used to reduce climate change?\n",
            "ID: 1gl6msi, Título: The US is about to make a sharp turn on climate policy\n",
            "ID: 1ibvj8w, Título: Trump targets climate policies, but market shows \"unstoppable\" energy shift\n",
            "ID: 1gwr6ta, Título: Of the 1500 climate policies announced world wide, only 63 would reduce emissions\n",
            "ID: 18d1y6e, Título: James Hansen: “A Miracle Will Occur” Is Not Sensible Climate Policy\n",
            "ID: 1gryaoz, Título: Trump promise to repeal Biden climate policies could cost US billions, report finds | Solar power\n",
            "ID: 1j56qs0, Título: \"The Reckoning:\"  Many excellent articles about the Trump administration's impact on climate change policy, research, staffing, and data; e.g., national forests may be decimated\n",
            "ID: 1gocmf3, Título: Climate policies that achieved major emission reductions: Global evidence from two decades\n",
            "ID: 1ju656u, Título: A glimpse of the SSP3 world — What backtracking on climate progress might look like in a much darker potential future lurking below the surface of cautious optimism where misguided policy prioritizes and subsidizes domestic fossil energy resources while closing us off from the rest of the world\n",
            "ID: 1kc4e7p, Título: Trump Dismisses Scientists Writing Key Climate Report\n",
            "ID: qbte3p, Título: Integrating Climate Action in the Existing Environmental Legislation in India\n",
            "ID: 1e9g4z8, Título: Bold New Era: What Would a Harris Presidency Mean for Climate Action? What are your views? \n",
            "ID: 1f7gcv9, Título: Cleaning Up America's Dirty Canals: Lessons from Global Waterway Success Stories\n",
            "ID: yg5npj, Título: If you could get your government to enact one law to fight climate change, what would it be?\n",
            "ID: 1766mhh, Título: New Study Finds Ontario Wind Projects Are Facing Significant Opposition by Energy-Privileged Communities\n",
            "ID: uuy0vh, Título: West Virginia VS Environment Protection Agency\n",
            "ID: dc2l5r, Título: Single use plastics and Climate change\n",
            "ID: 1iz1gl5, Título: Climate activism needs to be ramped up a hundred-fold or humanity is screwed\n",
            "ID: 1j2jn8l, Título: Bill McKibben on Climate Activism in the Age of Trump 2.0\n",
            "ID: 1fhde02, Título: Methane Levels at 800,000-Year High: Stanford Scientists Warn That We Are Heading for Climate Disaster\n",
            "\n",
            "ID: 1k6pnpi, Título: NIH Ends Future Funding to Study the Health Effects of Climate Change; It’s unclear whether the guidance will impact active grants, but it appears to halt opportunities for future studies. One climate health expert said the directive would have a “devastating” impact on much-needed research.\n",
            "ID: 1hsgo9p, Título: Increased wildfire activity may be a feature of past periods of abrupt climate change, study finds \n",
            "ID: 166w4bk, Título: NASA — Evidence — How Do We Know Climate Change Is Real? — There is unequivocal evidence that Earth is warming at an unprecedented rate. Human activity is the principal cause\n",
            "ID: 1gydmhf, Título: Curious on why people call climate change fake\n",
            "ID: 1jvxzry, Título: Computer models have been accurately predicting climate change for 50 years ... A research scientist found that many 1970s-era models were ‘pretty much spot-on.’ Today’s models are far more advanced.\n",
            "ID: 1goac9v, Título: Is climate change increasing Iceland's volcanic activity ? \n",
            "ID: 1cv31x2, Título: The Importance of Distinguishing Climate Science from Climate Activism\n",
            "ID: 1hae3ck, Título: Climate Change at the International Court of Justice | James E. Hansen | 09 December 2024\n",
            "ID: 1e8qp11, Título: How This Faith Group Took on a Fight for Climate Justice and Stopped Energy Bills From Skyrocketing\n",
            "ID: uzw7b8, Título: What is the most significant climate justice challenge facing the United States?\n",
            "ID: qmo3hs, Título: Climate change is a justice issue – these 6 charts show why\n",
            "ID: 1e9g4z8, Título: Bold New Era: What Would a Harris Presidency Mean for Climate Action? What are your views? \n",
            "ID: 1jo65qy, Título: Shower Thought: Future population growth will have minimal impact on CO2 emissions as it will happen in poorly developed areas with low per capita CO2 emissions\n",
            "ID: 1faip5g, Título: The disaster of climate communication\n",
            "ID: z5oe55, Título: Does anyone really think we can still make it?\n",
            "ID: 186gru1, Título: Environmental justice interview (help me)\n",
            "ID: tbnwum, Título: What does the IPCC's Climate Change 2022: Impacts, Adaptation & Vulnerability WG2 report say?\n",
            "ID: 1glc2te, Título: I’m sad. We really do live in a post-truth world and it’s going to be our downfall. Climate action set back. \n",
            "ID: 1hhj726, Título: Do you think people are taking climate change seriously enough these days, or is it all just talk with not enough action?\n",
            "ID: 1gv0hu0, Título: Actions scientists think you should take to prevent climate change: Engage with politicians, Engage in advocacy, Write letters to politicians, Engage in civil disobedience, Engage in protest.\n",
            "ID: 1gp5vyq, Título: This post examines how much climate change is driven by individuals. Researchers estimate that 82% of US greenhouse gas emissions result from the action of individual American residents. The future is in our own hands, folks, no matter who is president.\n",
            "ID: 1gkx6qe, Título: What Does Climate Action in the United States Look Like for the Next Four Years?\n",
            "ID: 1k67g0k, Título: More people care about climate change than you think — Majority of people in every country support action on climate, but the public consistently underestimates this share — Support for climate action is high across the world — People think climate change is serious threat, and humans are the cause\n",
            "ID: 1e9g4z8, Título: Bold New Era: What Would a Harris Presidency Mean for Climate Action? What are your views? \n",
            "ID: 1jkotv0, Título: I'm launching my climate action book online. Here's the introduction.\n",
            "ID: 1glkvw9, Título: Trump Victory Is a ‘Gut Punch’ to U.S. Climate Action\n",
            "ID: 1f1zk4p, Título: Project 2025: The right-wing conspiracy to torpedo global climate action\n",
            "ID: 1k42glx, Título: Accidentally solved climate change for a school project\n",
            "ID: 1gydmhf, Título: Curious on why people call climate change fake\n",
            "ID: 1jxbyc1, Título: “It is pure villainy” — Trump is ending funding for the United States Global Change Research Program, which produces the National Climate Assessment, the most comprehensive climate report by the federal government — The assessment was established by Congress in 1990, and was released every 4 years\n",
            "ID: 1izp1ia, Título: Trump erases U.S. government webpages that showed the taxpayer-funded, years-in-the-making, 52-page Climate Literacy Essential Principles for Understanding and Addressing Climate Change – A Guide for Educators, Communicators, and Decision-Makers – 3rd Edition: Sep 2024 – Fortunately, it is archived\n",
            "ID: 1jlvetw, Título: The fundamental challenge in facing climate change that has to be talked about more openly.\n",
            "ID: 166sb73, Título: How can I respond to my friends that say climate change isn’t real?\n",
            "ID: 1dvjf1x, Título: Are rich people selling their homes in Miami since it is most susceptible to climate change eradication\n",
            "ID: 1hfcfxg, Título: What Are the Possible Solutions to Climate Change?\n",
            "ID: 1h1hzs9, Título: What are the best arguments to use for why government policy should be used to reduce climate change?\n",
            "ID: 1b3bgyd, Título: 36% of the world’s population still dispute the human origins of climate change — EDF opinion survey conducted in 29 countries across five continents, covering two-thirds of the world’s population, and including the biggest CO2 emitters — Released 12 December 2023\n",
            "ID: 1d2k18s, Título: Working on a project for sustainable climate compensations for individuals and companies\n",
            "ID: v0crce, Título: The future of sustainable aviation - In the future you can fly emission-free, aviation companies promise. But there is still a long way to go before green flights can take off. How far away are we from the green aviation future?\n",
            "ID: 18uri3v, Título: Unpopular opinion: The fact that the idea of a carbon footprint was invented by big oil does not invalidate it\n",
            "ID: llx3px, Título: The world’s biggest tech companies fuelled a record surge in the amount of renewable energy sold last year, driven by a growing corporate appetite for sustainable energy.\n",
            "ID: 16vbwc8, Título: Is planting trees a waste of time?\n",
            "ID: 1af0ghq, Título: Would you work or an oil & gas company, to help fight climate change?\n",
            "ID: 1pcypz, Título: \"The corporation of Brown University will try to address the issue of climate change through teaching, research and university sustainability rather than divesting from companies involved in the mining or use of coal for electricity generation.\"\n",
            "ID: 1i8ygrg, Título: I made a search engine for climate change\n",
            "ID: 1f0uk4k, Título: Should we stop recycling paper?\n",
            "ID: 1f2btdy, Título: Can Individual Actions Truly Reverse Climate Change and Environmental Degradation?\n",
            "ID: 1gwn1vo, Título: Thermosyphon to remove heat from the ocean to desalination water\n",
            "ID: ceug4p, Título: Climate Change in LATAM\n",
            "ID: 1hwhxs4, Título: CO2 emissions — IPCC Sixth Assessment Report, Climate Change 2021: The Physical Science Basis: “15 to 40% of an emitted CO2 pulse will remain in the atmosphere longer than 1,000 years, 10 to 25% will remain about ten thousand years, and the rest will be removed over several hundred thousand years”\n",
            "ID: 1jhwzj7, Título: Do any IPCC reports summarize how (physics/chemistry etc.) greenhouse gases cause global warming?\n",
            "ID: 1k4cw0p, Título: Ethical/Normative Framework of IPCC Reports\n",
            "ID: 1brkabb, Título: IPCC reports\n",
            "ID: 13i0bsq, Título: The IPCC Report on the Impacts of Climate Change is Depressing\n",
            "ID: 179k1l6, Título: Why is the climate change cost in terms of GDP relatively low in the current white house and IPCC reports\n",
            "ID: t3go0i, Título: This one quote from the IPCC report\n",
            "ID: psts0l, Título: The IPCC Report says it's still possible to stay below a 2 degree temperature rise\n",
            "ID: t3ep9h, Título: Climate change: IPCC report warns of ‘irreversible’ impacts of global warming\n",
            "ID: 140ys3x, Título: Why does the 2018 IPCC report on Global Warming of 1.5C project that we'll pass 1.5C in 2040 at our current rate, yet there are many recent news articles & research claiming we will hit 1.5C much sooner?\n",
            "ID: 1ght27h, Título: How can the climate skeptics keep going when climate change is no longer in the future. You can feel it now. \n",
            "ID: 1kh3nh7, Título: Which scientific figure most persuasively convinces educated skeptics of Climate Change?\n",
            "ID: 1ilobq9, Título: Conversations with climate skeptics\n",
            "ID: 16iytcz, Título: Misinformation by climate skeptics that keeps being posted over and over. This post presents a counter argument to the claims\n",
            "ID: 1af3iz5, Título: Man-Made Climate Change Skeptic: Please change my mind\n",
            "ID: 1d6ktmd, Título: Skeptical of climate change, looking to learn\n",
            "ID: 1gcn54d, Título: Why do some people deny climate change so passionately? \n",
            "ID: 16lj9p9, Título: Calling All Climate Change Skeptics!\n",
            "ID: vqqiv4, Título: Debating climate change skeptic and he throws this at me. Can anyone comment?\n",
            "ID: 166lizu, Título: Every Skeptics Argument on Climate Change and the science to disprove it\n",
            "ID: 1iubun9, Título: Trump administration officials have revived a zombie climate-denial argument: “CO2 is plant food”. Yes, CO2 enhances photosynthesis. But crops don’t grow in a vacuum, they also need water, temperatures in a particular range, and farmers need predictable seasons. Climate change disrupts all of those\n",
            "ID: 1k4ofuz, Título: \"Eight of the top 10 online shows are spreading climate misinformation ... Often backed by large advertising budgets, a new breed of climate denial is gaining popularity.\"\n",
            "ID: 1e47acb, Título: For the flat earth conspiracy to be true, a ridiculous and absurd number of people would have to be in on it. For climate change denial to be valid, the same would have to hold.\n",
            "ID: 1f3r8ne, Título: Climate Denial\n",
            "ID: 1hcl8k6, Título: Feared threshold now a reality:  \"Earth Will Exceed 1.5 Degrees Celsius of Warming This Year\"\n",
            "ID: 1148bt6, Título: Climate Denial Posts\n",
            "ID: 1aztipo, Título: The social anatomy of climate change denial in the United States\n",
            "ID: 12lqatt, Título: Debunking Climate Change Denial: Why NOAA's Temperature Data is Trustworthy\n",
            "ID: jwg2dz, Título: I'm doing a school project on the logical fallacies and rhetorical strategies used by climate change deniers on the internet. Could you guys direct me to any big climate change denial forums or blogs that you are familiar with?\n",
            "ID: hmhxj0, Título: Climate Denial Spreads on Facebook as Scientists Face Restrictions. The company recently overruled its scientific fact-checking group, which had flagged information as misleading\n",
            "ID: 1k4ofuz, Título: \"Eight of the top 10 online shows are spreading climate misinformation ... Often backed by large advertising budgets, a new breed of climate denial is gaining popularity.\"\n",
            "ID: 16iytcz, Título: Misinformation by climate skeptics that keeps being posted over and over. This post presents a counter argument to the claims\n",
            "ID: 1dfrsuw, Título: Climate misinformation overshadows record floods worldwide\n",
            "ID: 1i1taxc, Título: Why is climate change so underestimated???\n",
            "ID: 1deu9gs, Título: Tampa Bay Times Editorial Board: \"Sea levels in Florida are rising fast. Tough decisions ahead\" \n",
            "ID: 1gxanwn, Título: Lynne Balzer: Exposing the Great Climate Change  Lie\n",
            "ID: 19868v9, Título: Climate change denier rebuttal quick copy paste sheet\n",
            "ID: 18vd69x, Título: Unpopular opinion. This is extremely solvable...\n",
            "ID: 1jfnuw5, Título: What other factors besides economic ones are impeding action on climate change?\n",
            "ID: 6nsnl0, Título: The European public is relatively misinformed about the impacts of climate change on the ocean (image by Shutterstock)\n",
            "ID: 12iists, Título: What is the weirdest/craziest/stupid/wrong piece of information or conspiracy theory around climate change you have heard/read?\n",
            "ID: bo9kwb, Título: [serious] How to convince a FIL that climate change is real without 'conspiracy by the scientists' theories?\n",
            "ID: 1do9h8t, Título: Anti climate change sources\n",
            "ID: reaega, Título: Is there scientific consensus concerning anthropogenic Climate Change?\n",
            "ID: s8beap, Título: Can you change my mind?\n",
            "ID: 14fbn7h, Título: Shifting baseline\n",
            "ID: gapdup, Título: Why I am concerned about the future\n",
            "ID: e2bz4z, Título: I have a friend who is a climate change denier. Is it worth trying to change his mind?\n",
            "ID: e6tx96, Título: A simplistic counter for scientifically-challenged skeptics\n",
            "ID: 1g51k5w, Título: Why might people believe in human-made hurricanes? Two conspiracy theory psychologists explain\n",
            "ID: 1i0psw5, Título: We’ve Crossed a Key Threshold for Climate Change. There’s No Going Back Now.\n",
            "ID: 1gk8y4k, Título: Trump would be an \"Extinction-Level Event\" for the Planet, Turbocharging Climate Change. Vote Accordingly.\n",
            "ID: 1hhbjh1, Título: Scientists say sprinkling diamond dust into the sky could offset almost all of climate change so far — but it'll cost $175 trillion\n",
            "ID: 1hkm5gu, Título: Venezuela is the first country to lose all of its glaciers due to climate change\n",
            "ID: 1gcn54d, Título: Why do some people deny climate change so passionately? \n",
            "ID: 1j87bml, Título: Secretary Hegseth says the DOD does not do 'climate change crap'\n",
            "ID: 1ht0nya, Título: Redditors aren't talking about climate change as much anymore\n",
            "ID: 1hb2ao0, Título: A ‘doom loop’ of climate change and geopolitical instability is beginning\n",
            "ID: 1i6acyd, Título: Reversing all of the Climate change initiatives of the past 4 years on day 1\n",
            "ID: 1gnloja, Título: Red Flag Warning in November is NOT normal. How can anyone seriously doubt Climate Change?\n",
            "ID: 1ijwuwe, Título: James Hansen says we're underestimating global warming acceleration — is anyone listening?\n",
            "ID: 1ex4n37, Título: Climate scientist says 2/3rds of the world is under an effective 'death sentence' because of global warming\n",
            "ID: 1ihldd4, Título: Half a degree rise in global warming will triple area of Earth too hot for humans, scientists warn\n",
            "ID: 1i3epqr, Título: The 1.5C global warming target is a 'delusion', warns climate scientist who fled Los Angeles\n",
            "ID: 1jd4790, Título: Earth is ‘perilously close’ to a global warming threshold. Here’s what to know\n",
            "ID: 1iq4lv1, Título: 73% of people in US think global warming is happening. 60% understand it is mostly human-caused. 56% say extreme weather poses a risk to their community over next 10 years. (Climate Change in the American Mind: Beliefs & Attitudes, Fall 2024.)\n",
            "ID: 1jooywz, Título: Global warming of more than 3°C this century may wipe 40% off the world’s economy, new analysis reveals\n",
            "ID: 1e0dwpb, Título: My friend thinks that global warming isn’t real because billionaires own beach front property. \n",
            "ID: 1h9e73k, Título: my family thinks global warming is a conspiracy\n",
            "ID: 1799fdt, Título: Data: Global warming may be accelerating\n",
            "ID: 1gvk5sn, Título: Donald Trump’s pick for energy secretary says ‘there is no climate crisis’\n",
            "ID: 1gb95hv, Título: What happens to the climate crisis if Trump wins in November?\n",
            "ID: 1ft5k80, Título: You will not escape the climate crisis — On Bluesky, it was pointed out that Asheville, NC was recently listed as a place to go to avoid climate crisis — While climate change does not cause hurricanes, we are certain it makes them more destructive — With climate change, you’re fine until you’re not\n",
            "ID: 17fh3lz, Título: The climate crisis has a price — and it’s $391 million a day\n",
            "ID: 17pgwoy, Título: Climate Change in Antarctica Has Given Rise to Blooming Flowers - \"This extraordinary transformation serves as a stark warning sign of the far-reaching impacts of the climate crisis and the urgent need for global environmental stewardship\" - Blooming Flowers are a Crisis?\n",
            "ID: 16x7aal, Título: U.S. Heat Deaths Will Soar as the Climate Crisis Worsens\n",
            "ID: 1igj692, Título: Trump orders USDA to take down websites referencing climate crisis\n",
            "ID: 1i1nfns, Título: If you had a magic wand and you could enact just a single policy change or technological advancement that would give us the greatest chance to overcome the climate crisis, what would it be?\n",
            "ID: 1ekyy8p, Título: What are some creative and promising ideas to solve the climate crisis?\n",
            "ID: 190tx8s, Título: I thought most of us were going to die from the climate crisis. I was wrong\n",
            "ID: 1g24cri, Título: A new report published in BioScience warns that the world is facing a climate emergency of unprecedented magnitude.\n",
            "ID: 1ht0nya, Título: Redditors aren't talking about climate change as much anymore\n",
            "ID: 168kdyx, Título: Nobel Winner Joins 1,600 Scientists Disputing Climate 'Emergency'\n",
            "ID: 1iwo9jj, Título: \"Cuts to U.S. weather and climate research could put public safety at risk; Firings and budget cuts could slow emergency disaster response and weaken resilience efforts.\"\n",
            "ID: 1k2wlcc, Título: Climate emergency: 2025 declared international year of glaciers\n",
            "ID: 1h2dr3r, Título: question does carbon dioxide eventually leave the atmosphere permanently after 100s of years meaning if climate change gets bad to the point we have to live in caves does that mean earth can recover from it and that we can emerge and take back the land?\n",
            "ID: 1639zrk, Título: Journal article claiming there was no \"climate emergency\" retracted\n",
            "ID: 1kbombk, Título: South Korea Wildfire Crisis: Emergency Response Enhancements and Government Measures to Combat Climate-Fueled Fires\n",
            "ID: o8wdvu, Título: 'We Are in a Climate Emergency': As Temps Soar, Over 90% of Western US Gripped by Drought. \"The West has never seen a drought like this, especially so early in the dry season.\n",
            "ID: 1iphccw, Título: Are there any recent books / studies that summarise climate change for the layman similar to Mark Lynas 'Our Final Warning: Six Degrees of Climate Emergency'?\n",
            "ID: 1glbafl, Título: I’m incredibly sad for our environment today. \n",
            "ID: 1hxi9du, Título: At what point do we stop subsidizing the growth of cities in hostile environments?\n",
            "ID: 1jpvxsc, Título: Are tariffs and the resulting inflation actually good for the environment?\n",
            "ID: 18sxsjt, Título: What do you think of the doomerism over at r/environment or r/collapse?\n",
            "ID: 196hdp1, Título: Norway just opened an area bigger than Ecuador to deep-sea mining activities—a move that could hurt the environment while helping EV makers\n",
            "ID: 1jk40ja, Título: Who should take responsibility for protecting the environment?\n",
            "ID: 1kk3ui4, Título: AI might be a net positive for the environment\n",
            "ID: 1ehlmrd, Título: Do small actions really help the environment in the grand scheme of things?\n",
            "ID: 1gfpw0s, Título: Is it true that production of green energy is more costly to the environment than fossil fuels? \n",
            "ID: 1jjvrp0, Título: Bad for the environment\n",
            "ID: 1fnzy20, Título: World's oceans close to becoming too acidic to sustain marine life, report says\n",
            "ID: 1ftyrcg, Título: World's oceans close to becoming too acidic to sustain marine life, report says.\n",
            "ID: 1j2m766, Título: Is there any promising form of carbon capture that is scalable and economically sustainable?\n",
            "ID: 1e8y7uh, Título: 6 easy ways to live more sustainably (that you still refuse to do) — Saving the planet isn't always convenient\n",
            "ID: 16am786, Título: Why many activists or even generally people worried about climate change do not follow a plant-based diet considering the sustainability of it?\n",
            "ID: 1i8vutw, Título: What's still going wrong with sustainable development? When there is so much attention for this topic for so long, worldwide?\n",
            "ID: 1gkzg8o, Título: \"... in just a few years, our oceans may no longer be capable of properly sustaining life or helping to regulate the Earth's climate, thanks to intense acidification.\"\n",
            "ID: 1keoik5, Título: is heat recovery from server farms a way to make them sustainable?\n",
            "ID: 1hocikf, Título: What habits have you switched or willing to switch to more sustainable ones?\n",
            "ID: 1cq51y0, Título: Is nuclear fusion a solution to climate change? And can it sustain itself?\n",
            "ID: 1jjpy4s, Título: Are we underestimating the ecological crisis?\n",
            "ID: 1klu6jb, Título: “Amazon in Metastasis”: A critical look at ecological collapse ahead of COP30\n",
            "ID: ev99k5, Título: Can anyone with actual understanding explain why turning the Sahara desert (as well as others) into giant molten salt solar farms has not been considered. There are literally thousands of ecologically dead areas that would produce tons of power.\n",
            "ID: 1fyhogr, Título: Brazil’s Plan to Dredge the Amazon: A Desperate Move with Ecological Consequences?\n",
            "ID: 1en6y2e, Título: Opinion | A Dystopian Effort Is Underway in the Pacific Northwest to Pick Ecological Winners and Losers (Gift Article)\n",
            "ID: 192nj0p, Título: An international team of scientists led by Oregon State University researchers has used a novel 500-year dataset to frame a \"restorative\" pathway through which humanity can avoid the worst ecological and social outcomes of climate change.\n",
            "ID: 15ghohf, Título: Today is Earth Overshoot Day - the date when demand for ecological resources in a given year exceeds what Earth can regenerate in that year.\n",
            "ID: 1k1sgrt, Título: Is this any scientifically sound criticism or just denial?\n",
            "ID: 13ovdhd, Título: France needs to prepare for 'realistic' 4C warming scenario, says ecology minister\n",
            "ID: d549m7, Título: ‘Ecological grief’ grips scientists witnessing Great Barrier Reef’s decline\n",
            "ID: 1j7wsf3, Título: Are we actually making progress on climate change, or are we just fooling ourselves?\n",
            "ID: 1f4oduk, Título: Is it possible in this lifetime that we will reach climate/weather incompatible with human life?\n",
            "ID: 1i0psw5, Título: We’ve Crossed a Key Threshold for Climate Change. There’s No Going Back Now.\n",
            "ID: 1gvk5sn, Título: Donald Trump’s pick for energy secretary says ‘there is no climate crisis’\n",
            "ID: 1gk8y4k, Título: Trump would be an \"Extinction-Level Event\" for the Planet, Turbocharging Climate Change. Vote Accordingly.\n",
            "ID: 1hhbjh1, Título: Scientists say sprinkling diamond dust into the sky could offset almost all of climate change so far — but it'll cost $175 trillion\n",
            "ID: 1hkm5gu, Título: Venezuela is the first country to lose all of its glaciers due to climate change\n",
            "ID: 1i5xg71, Título: Trump to withdraw from Paris climate agreement, White House says\n",
            "ID: 1gcn54d, Título: Why do some people deny climate change so passionately? \n",
            "ID: 1jjq9qy, Título: Scientists Are Preparing for a Sudden Climate Shift\n",
            "ID: ovqfyf, Título: 14,000 scientists warn of \"untold suffering\" if we fail to act on climate change\n",
            "ID: 1ihzg5q, Título: Is there any good news?\n",
            "ID: 1jvxzry, Título: Computer models have been accurately predicting climate change for 50 years ... A research scientist found that many 1970s-era models were ‘pretty much spot-on.’ Today’s models are far more advanced.\n",
            "ID: odnuf2, Título: We Don't Need a New Report to Know It's Time to Act Urgently on the Climate Crisis. It's as if we humans have been driving blindly into the future, navigating only by what we can see of the past in the rear-view mirror.\n",
            "ID: 1e8ufcm, Título: Is Climate Change the Most Pressing Issue in the World?\n",
            "ID: 1grdzlh, Título: Even people who are left leaning seem under-educated on the climate - my thoughts from a farming background and seeking advice\n",
            "ID: imdyhw, Título: What Does '12 Years to Act on Climate Change' (Now 11 Years) Really Mean?\n",
            "ID: 1fbfrlb, Título: Almost no one cares about climate change enough as they should. Here's an idea: live stream from heat waves and other climate-change-caused events. If we see the suffering happening and waiting for us, we may finally act. Discuss.\n",
            "ID: 13wjywf, Título: Why I’m leading Pacific Islands students in the fight on climate change: Our voices were crucial in persuading UN states to back legal obligations to act on climate change. Here’s how we did it.\n",
            "ID: 1hnkml1, Título: I’m sick of reading about my impending doom. (What I do to fix it)\n",
            "ID: 1j9n3yf, Título: Should Americans actually be blamed for not riding trains if there are no viable trains to take?\n",
            "ID: 1gmojnm, Título: Can Trump be persuaded to make the US a climate leader? \n",
            "ID: 18qqmck, Título: We are telling ourselves pretty stories, and it's not helpful\n",
            "ID: w4kwqz, Título: How do YOU cope with climate anxiety?\n",
            "ID: 1goki6o, Título: Would a cultural shift be enough?\n",
            "ID: x9ud1q, Título: Actually worried about the Earth running out of oil.\n",
            "ID: 1ftm3cn, Título: What are your views on the ethics around the environment?\n",
            "ID: pb009i, Título: With humanity in a code red state, should we stop having children?\n",
            "ID: 1fv09qx, Título: Have You Ever Invested in Green Bonds or Considering Doing It?\n",
            "ID: qfm742, Título: Rethinking Climate Change: How Humanity Can Choose to Reduce Emissions 90% by 2035 through the Disruption of Energy, Transportation, and Food with Existing Technologies\n",
            "ID: f7gqwg, Título: Impacts of Green New Deal Energy Plans on Grid Stability, Costs, Jobs, Health, and Climate in 143 Countries\n",
            "ID: d8yeib, Título: Forget the Green New Deal — the private sector has solved climate change\n",
            "ID: x1csdq, Título: Debating Climate Change With Older People\n",
            "ID: g6rzlc, Título: Why is there such a backlash against skeptics?\n",
            "ID: 1endyc9, Título: Systemic change for climate change? \n",
            "ID: j8rknk, Título: Friend of mine argues climate change is not an emergency\n",
            "ID: ojto1v, Título: Can we meet our electricity needs by putting solar panels on our roofs?\n",
            "ID: c18wl0, Título: What are your ideas for explaining the science of climate change as easily as possible?\n",
            "ID: ao0xtf, Título: Climate change: World heading for warmest decade, says Met Office\n",
            "ID: dlz5rk, Título: Are we doomed to fail in this situation?\n",
            "ID: 1gqzx31, Título: The Renewable Energy Revolution Is Unstoppable\n",
            "ID: 1ilnym3, Título: Despite progress in renewables, the best chance to curb climate change is a concerted effort to refine and then broadly adopt nuclear energy such as Thorium Salt Reactors.\n",
            "ID: 1g6knib, Título: Let’s Come Clean: The Renewable Energy Transition Will Be Expensive\n",
            "ID: 1iyis2o, Título: BP ditching its renewable energy goals to focus back on fossil fuels\n",
            "ID: 1k896bl, Título: 3 gigawatt wind farm project offshore New York that is expected to power more than one million homes halted by Germany's biggest electricity producer RWE because of Trump — RWE Clean Energy is the third-largest renewable energy company in the US — RWE paid $1.1 billion for the New York lease area\n",
            "ID: 1ae4qgg, Título: Is renewable energy cheaper than non-renewable?\n",
            "ID: 1g0fa85, Título: China is expected to install nearly 60% of the world's renewable energy capacity by 2030. \n",
            "ID: 16k9ndo, Título: Why can't we just plant more trees without switching over to renewable energy?\n",
            "ID: 18cldwf, Título: 2023 shatters climate records, with major impacts — Global temperatures — Greenhouse gases — Sea surface temperatures — Ocean heat content — Sea level rise — Cryosphere — Extreme weather and climate events — Socio-economic impacts — Renewable energy capacity and use is booming — [WMO video]\n",
            "ID: 1gmkoy7, Título: I Spent Six Months Selling Solar Panels Door to Door. Here’s the Thing About Renewable Energy.\n",
            "ID: 1g2self, Título: As parts of Florida went dark from Helene and Milton, the lights stayed on in this net-zero, storm-proof community \n",
            "ID: 1idie9c, Título: We need to change the way climate change is explained to people. \"Net Zero\" has brainwashed nearly everybody.\n",
            "ID: 1iqmuh3, Título: How can warming stop immediately if we hit net zero tomorrow, despite the well-known lag between emissions and warming?\n",
            "ID: 1gjdcyq, Título: Earth’s climate will keep changing long after humanity hits net-zero emissions. Our research shows why\n",
            "ID: 1fdk5hy, Título: What consequences are we gonna face if we don't reach net zero emissions by 2050?\n",
            "ID: 1ggz3qm, Título: Earth’s climate will keep changing long after humanity hits net-zero emissions. Our research shows why\n",
            "ID: 1fr7w0n, Título: Study — If ‘net zero by 2050’ is not implemented or is unsuccessful, and fossil fuels are 'burned' in 2023-2100 at same rate as in 2022, potential atmospheric concentration of CO2 is 657 ppm by 2100, with global warming 2.4–2.8º C in 2081–2100, if carbon sinks absorb 47% of CO2 emissions (Table 15)\n",
            "ID: 1f283ul, Título: Satellites measure the surface of the Antarctica ice sheet — They show that, in general, ice loss in Antarctica today is 6 times more than it was 30 years ago — Our best and only way to protect Antarctica is to rapidly and deeply decarbonize to net zero by mid-century — The benefits would be global\n",
            "ID: 1dh8a30, Título: If the entire world goes to Net Zero co2 by 2050, how much warming do you think will be averted?\n",
            "ID: 1j93767, Título: Besides reaching net zero, could we go carbon negative? And would that save us?\n",
            "ID: iq10qx, Título: Please help. New parent: Climate Change Guilt\n",
            "ID: dklxzc, Título: Tips for managing a twitter account dedicated to climate change?\n",
            "ID: bekqrt, Título: Innovation against climatechange\n",
            "ID: 1gkr1lk, Título: Trump is winning, what is the plan?\n",
            "ID: cy8j91, Título: Prediction by Extinction Rebellion’s Roger Hallam that climate change will kill 6 billion people by 2100 is unsupported\n",
            "ID: hpyc7z, Título: My father doesn’t believe in global warming and says it s all propaganda. What should i do about this?\n",
            "ID: iq10qx, Título: Please help. New parent: Climate Change Guilt\n",
            "ID: l09w8p, Título: How can I get involved with climate change as a software engineer?\n",
            "ID: zd1myp, Título: Subreddit to talk about climate anxiety?\n",
            "ID: x5vtvw, Título: Environmental Programs/ Movements to Join?\n",
            "ID: aoxqnb, Título: Climate Change Tipping Point Could Be Coming Sooner than We Think\n",
            "ID: c4hk62, Título: Looking for some helpful information\n",
            "ID: 1hae3ck, Título: Climate Change at the International Court of Justice | James E. Hansen | 09 December 2024\n",
            "ID: 1e8qp11, Título: How This Faith Group Took on a Fight for Climate Justice and Stopped Energy Bills From Skyrocketing\n",
            "ID: uzw7b8, Título: What is the most significant climate justice challenge facing the United States?\n",
            "ID: qmo3hs, Título: Climate change is a justice issue – these 6 charts show why\n",
            "ID: 1e9g4z8, Título: Bold New Era: What Would a Harris Presidency Mean for Climate Action? What are your views? \n",
            "ID: 1jo65qy, Título: Shower Thought: Future population growth will have minimal impact on CO2 emissions as it will happen in poorly developed areas with low per capita CO2 emissions\n",
            "ID: 1faip5g, Título: The disaster of climate communication\n",
            "ID: z5oe55, Título: Does anyone really think we can still make it?\n",
            "ID: 186gru1, Título: Environmental justice interview (help me)\n",
            "ID: tbnwum, Título: What does the IPCC's Climate Change 2022: Impacts, Adaptation & Vulnerability WG2 report say?\n"
          ]
        }
      ]
    },
    {
      "cell_type": "code",
      "source": [
        "# convert dictionary into a dataframe\n",
        "df = pd.DataFrame(collected_posts)"
      ],
      "metadata": {
        "id": "045zQRBvepUi"
      },
      "execution_count": null,
      "outputs": []
    },
    {
      "cell_type": "code",
      "source": [
        "df.head()"
      ],
      "metadata": {
        "colab": {
          "base_uri": "https://localhost:8080/",
          "height": 677
        },
        "id": "A2IaN3DOe4M6",
        "outputId": "1f2a7a5a-4b29-491d-f4a6-5f1c0ed61874"
      },
      "execution_count": null,
      "outputs": [
        {
          "output_type": "execute_result",
          "data": {
            "text/plain": [
              "        id                                              title  \\\n",
              "0  1i0psw5  We’ve Crossed a Key Threshold for Climate Chan...   \n",
              "1  1c9qpn1  As someone who is uneducated on the topic of c...   \n",
              "2  1j7wsf3  Are we actually making progress on climate cha...   \n",
              "3  1gk8y4k  Trump would be an \"Extinction-Level Event\" for...   \n",
              "4  1hhbjh1  Scientists say sprinkling diamond dust into th...   \n",
              "\n",
              "                 author                                                url  \\\n",
              "0                 Slate  https://slate.com/technology/2025/01/hottest-y...   \n",
              "1  Apart-Management2989  https://www.reddit.com/r/climatechange/comment...   \n",
              "2  Significant-Lemon596  https://www.reddit.com/r/climatechange/comment...   \n",
              "3         LudovicoSpecs  https://www.juancole.com/2024/11/extinction-tu...   \n",
              "4           Chilango615  https://www.livescience.com/planet-earth/clima...   \n",
              "\n",
              "    created_utc                                           selftext  \\\n",
              "0  1.736805e+09                                                      \n",
              "1  1.713729e+09  I'm genuinely curious as someone who only has ...   \n",
              "2  1.741607e+09  Are we actually making enough progress on clim...   \n",
              "3  1.730820e+09                                                      \n",
              "4  1.734555e+09                                                      \n",
              "\n",
              "       subreddit     search_term  \n",
              "0  climatechange  climate change  \n",
              "1  climatechange  climate change  \n",
              "2  climatechange  climate change  \n",
              "3  climatechange  climate change  \n",
              "4  climatechange  climate change  "
            ],
            "text/html": [
              "\n",
              "  <div id=\"df-7f4be258-0667-423c-89fe-8a3ca6e3f348\" class=\"colab-df-container\">\n",
              "    <div>\n",
              "<style scoped>\n",
              "    .dataframe tbody tr th:only-of-type {\n",
              "        vertical-align: middle;\n",
              "    }\n",
              "\n",
              "    .dataframe tbody tr th {\n",
              "        vertical-align: top;\n",
              "    }\n",
              "\n",
              "    .dataframe thead th {\n",
              "        text-align: right;\n",
              "    }\n",
              "</style>\n",
              "<table border=\"1\" class=\"dataframe\">\n",
              "  <thead>\n",
              "    <tr style=\"text-align: right;\">\n",
              "      <th></th>\n",
              "      <th>id</th>\n",
              "      <th>title</th>\n",
              "      <th>author</th>\n",
              "      <th>url</th>\n",
              "      <th>created_utc</th>\n",
              "      <th>selftext</th>\n",
              "      <th>subreddit</th>\n",
              "      <th>search_term</th>\n",
              "    </tr>\n",
              "  </thead>\n",
              "  <tbody>\n",
              "    <tr>\n",
              "      <th>0</th>\n",
              "      <td>1i0psw5</td>\n",
              "      <td>We’ve Crossed a Key Threshold for Climate Chan...</td>\n",
              "      <td>Slate</td>\n",
              "      <td>https://slate.com/technology/2025/01/hottest-y...</td>\n",
              "      <td>1.736805e+09</td>\n",
              "      <td></td>\n",
              "      <td>climatechange</td>\n",
              "      <td>climate change</td>\n",
              "    </tr>\n",
              "    <tr>\n",
              "      <th>1</th>\n",
              "      <td>1c9qpn1</td>\n",
              "      <td>As someone who is uneducated on the topic of c...</td>\n",
              "      <td>Apart-Management2989</td>\n",
              "      <td>https://www.reddit.com/r/climatechange/comment...</td>\n",
              "      <td>1.713729e+09</td>\n",
              "      <td>I'm genuinely curious as someone who only has ...</td>\n",
              "      <td>climatechange</td>\n",
              "      <td>climate change</td>\n",
              "    </tr>\n",
              "    <tr>\n",
              "      <th>2</th>\n",
              "      <td>1j7wsf3</td>\n",
              "      <td>Are we actually making progress on climate cha...</td>\n",
              "      <td>Significant-Lemon596</td>\n",
              "      <td>https://www.reddit.com/r/climatechange/comment...</td>\n",
              "      <td>1.741607e+09</td>\n",
              "      <td>Are we actually making enough progress on clim...</td>\n",
              "      <td>climatechange</td>\n",
              "      <td>climate change</td>\n",
              "    </tr>\n",
              "    <tr>\n",
              "      <th>3</th>\n",
              "      <td>1gk8y4k</td>\n",
              "      <td>Trump would be an \"Extinction-Level Event\" for...</td>\n",
              "      <td>LudovicoSpecs</td>\n",
              "      <td>https://www.juancole.com/2024/11/extinction-tu...</td>\n",
              "      <td>1.730820e+09</td>\n",
              "      <td></td>\n",
              "      <td>climatechange</td>\n",
              "      <td>climate change</td>\n",
              "    </tr>\n",
              "    <tr>\n",
              "      <th>4</th>\n",
              "      <td>1hhbjh1</td>\n",
              "      <td>Scientists say sprinkling diamond dust into th...</td>\n",
              "      <td>Chilango615</td>\n",
              "      <td>https://www.livescience.com/planet-earth/clima...</td>\n",
              "      <td>1.734555e+09</td>\n",
              "      <td></td>\n",
              "      <td>climatechange</td>\n",
              "      <td>climate change</td>\n",
              "    </tr>\n",
              "  </tbody>\n",
              "</table>\n",
              "</div>\n",
              "    <div class=\"colab-df-buttons\">\n",
              "\n",
              "  <div class=\"colab-df-container\">\n",
              "    <button class=\"colab-df-convert\" onclick=\"convertToInteractive('df-7f4be258-0667-423c-89fe-8a3ca6e3f348')\"\n",
              "            title=\"Convert this dataframe to an interactive table.\"\n",
              "            style=\"display:none;\">\n",
              "\n",
              "  <svg xmlns=\"http://www.w3.org/2000/svg\" height=\"24px\" viewBox=\"0 -960 960 960\">\n",
              "    <path d=\"M120-120v-720h720v720H120Zm60-500h600v-160H180v160Zm220 220h160v-160H400v160Zm0 220h160v-160H400v160ZM180-400h160v-160H180v160Zm440 0h160v-160H620v160ZM180-180h160v-160H180v160Zm440 0h160v-160H620v160Z\"/>\n",
              "  </svg>\n",
              "    </button>\n",
              "\n",
              "  <style>\n",
              "    .colab-df-container {\n",
              "      display:flex;\n",
              "      gap: 12px;\n",
              "    }\n",
              "\n",
              "    .colab-df-convert {\n",
              "      background-color: #E8F0FE;\n",
              "      border: none;\n",
              "      border-radius: 50%;\n",
              "      cursor: pointer;\n",
              "      display: none;\n",
              "      fill: #1967D2;\n",
              "      height: 32px;\n",
              "      padding: 0 0 0 0;\n",
              "      width: 32px;\n",
              "    }\n",
              "\n",
              "    .colab-df-convert:hover {\n",
              "      background-color: #E2EBFA;\n",
              "      box-shadow: 0px 1px 2px rgba(60, 64, 67, 0.3), 0px 1px 3px 1px rgba(60, 64, 67, 0.15);\n",
              "      fill: #174EA6;\n",
              "    }\n",
              "\n",
              "    .colab-df-buttons div {\n",
              "      margin-bottom: 4px;\n",
              "    }\n",
              "\n",
              "    [theme=dark] .colab-df-convert {\n",
              "      background-color: #3B4455;\n",
              "      fill: #D2E3FC;\n",
              "    }\n",
              "\n",
              "    [theme=dark] .colab-df-convert:hover {\n",
              "      background-color: #434B5C;\n",
              "      box-shadow: 0px 1px 3px 1px rgba(0, 0, 0, 0.15);\n",
              "      filter: drop-shadow(0px 1px 2px rgba(0, 0, 0, 0.3));\n",
              "      fill: #FFFFFF;\n",
              "    }\n",
              "  </style>\n",
              "\n",
              "    <script>\n",
              "      const buttonEl =\n",
              "        document.querySelector('#df-7f4be258-0667-423c-89fe-8a3ca6e3f348 button.colab-df-convert');\n",
              "      buttonEl.style.display =\n",
              "        google.colab.kernel.accessAllowed ? 'block' : 'none';\n",
              "\n",
              "      async function convertToInteractive(key) {\n",
              "        const element = document.querySelector('#df-7f4be258-0667-423c-89fe-8a3ca6e3f348');\n",
              "        const dataTable =\n",
              "          await google.colab.kernel.invokeFunction('convertToInteractive',\n",
              "                                                    [key], {});\n",
              "        if (!dataTable) return;\n",
              "\n",
              "        const docLinkHtml = 'Like what you see? Visit the ' +\n",
              "          '<a target=\"_blank\" href=https://colab.research.google.com/notebooks/data_table.ipynb>data table notebook</a>'\n",
              "          + ' to learn more about interactive tables.';\n",
              "        element.innerHTML = '';\n",
              "        dataTable['output_type'] = 'display_data';\n",
              "        await google.colab.output.renderOutput(dataTable, element);\n",
              "        const docLink = document.createElement('div');\n",
              "        docLink.innerHTML = docLinkHtml;\n",
              "        element.appendChild(docLink);\n",
              "      }\n",
              "    </script>\n",
              "  </div>\n",
              "\n",
              "\n",
              "    <div id=\"df-859143a2-4c6c-47e9-bab2-de64514c12ac\">\n",
              "      <button class=\"colab-df-quickchart\" onclick=\"quickchart('df-859143a2-4c6c-47e9-bab2-de64514c12ac')\"\n",
              "                title=\"Suggest charts\"\n",
              "                style=\"display:none;\">\n",
              "\n",
              "<svg xmlns=\"http://www.w3.org/2000/svg\" height=\"24px\"viewBox=\"0 0 24 24\"\n",
              "     width=\"24px\">\n",
              "    <g>\n",
              "        <path d=\"M19 3H5c-1.1 0-2 .9-2 2v14c0 1.1.9 2 2 2h14c1.1 0 2-.9 2-2V5c0-1.1-.9-2-2-2zM9 17H7v-7h2v7zm4 0h-2V7h2v10zm4 0h-2v-4h2v4z\"/>\n",
              "    </g>\n",
              "</svg>\n",
              "      </button>\n",
              "\n",
              "<style>\n",
              "  .colab-df-quickchart {\n",
              "      --bg-color: #E8F0FE;\n",
              "      --fill-color: #1967D2;\n",
              "      --hover-bg-color: #E2EBFA;\n",
              "      --hover-fill-color: #174EA6;\n",
              "      --disabled-fill-color: #AAA;\n",
              "      --disabled-bg-color: #DDD;\n",
              "  }\n",
              "\n",
              "  [theme=dark] .colab-df-quickchart {\n",
              "      --bg-color: #3B4455;\n",
              "      --fill-color: #D2E3FC;\n",
              "      --hover-bg-color: #434B5C;\n",
              "      --hover-fill-color: #FFFFFF;\n",
              "      --disabled-bg-color: #3B4455;\n",
              "      --disabled-fill-color: #666;\n",
              "  }\n",
              "\n",
              "  .colab-df-quickchart {\n",
              "    background-color: var(--bg-color);\n",
              "    border: none;\n",
              "    border-radius: 50%;\n",
              "    cursor: pointer;\n",
              "    display: none;\n",
              "    fill: var(--fill-color);\n",
              "    height: 32px;\n",
              "    padding: 0;\n",
              "    width: 32px;\n",
              "  }\n",
              "\n",
              "  .colab-df-quickchart:hover {\n",
              "    background-color: var(--hover-bg-color);\n",
              "    box-shadow: 0 1px 2px rgba(60, 64, 67, 0.3), 0 1px 3px 1px rgba(60, 64, 67, 0.15);\n",
              "    fill: var(--button-hover-fill-color);\n",
              "  }\n",
              "\n",
              "  .colab-df-quickchart-complete:disabled,\n",
              "  .colab-df-quickchart-complete:disabled:hover {\n",
              "    background-color: var(--disabled-bg-color);\n",
              "    fill: var(--disabled-fill-color);\n",
              "    box-shadow: none;\n",
              "  }\n",
              "\n",
              "  .colab-df-spinner {\n",
              "    border: 2px solid var(--fill-color);\n",
              "    border-color: transparent;\n",
              "    border-bottom-color: var(--fill-color);\n",
              "    animation:\n",
              "      spin 1s steps(1) infinite;\n",
              "  }\n",
              "\n",
              "  @keyframes spin {\n",
              "    0% {\n",
              "      border-color: transparent;\n",
              "      border-bottom-color: var(--fill-color);\n",
              "      border-left-color: var(--fill-color);\n",
              "    }\n",
              "    20% {\n",
              "      border-color: transparent;\n",
              "      border-left-color: var(--fill-color);\n",
              "      border-top-color: var(--fill-color);\n",
              "    }\n",
              "    30% {\n",
              "      border-color: transparent;\n",
              "      border-left-color: var(--fill-color);\n",
              "      border-top-color: var(--fill-color);\n",
              "      border-right-color: var(--fill-color);\n",
              "    }\n",
              "    40% {\n",
              "      border-color: transparent;\n",
              "      border-right-color: var(--fill-color);\n",
              "      border-top-color: var(--fill-color);\n",
              "    }\n",
              "    60% {\n",
              "      border-color: transparent;\n",
              "      border-right-color: var(--fill-color);\n",
              "    }\n",
              "    80% {\n",
              "      border-color: transparent;\n",
              "      border-right-color: var(--fill-color);\n",
              "      border-bottom-color: var(--fill-color);\n",
              "    }\n",
              "    90% {\n",
              "      border-color: transparent;\n",
              "      border-bottom-color: var(--fill-color);\n",
              "    }\n",
              "  }\n",
              "</style>\n",
              "\n",
              "      <script>\n",
              "        async function quickchart(key) {\n",
              "          const quickchartButtonEl =\n",
              "            document.querySelector('#' + key + ' button');\n",
              "          quickchartButtonEl.disabled = true;  // To prevent multiple clicks.\n",
              "          quickchartButtonEl.classList.add('colab-df-spinner');\n",
              "          try {\n",
              "            const charts = await google.colab.kernel.invokeFunction(\n",
              "                'suggestCharts', [key], {});\n",
              "          } catch (error) {\n",
              "            console.error('Error during call to suggestCharts:', error);\n",
              "          }\n",
              "          quickchartButtonEl.classList.remove('colab-df-spinner');\n",
              "          quickchartButtonEl.classList.add('colab-df-quickchart-complete');\n",
              "        }\n",
              "        (() => {\n",
              "          let quickchartButtonEl =\n",
              "            document.querySelector('#df-859143a2-4c6c-47e9-bab2-de64514c12ac button');\n",
              "          quickchartButtonEl.style.display =\n",
              "            google.colab.kernel.accessAllowed ? 'block' : 'none';\n",
              "        })();\n",
              "      </script>\n",
              "    </div>\n",
              "\n",
              "    </div>\n",
              "  </div>\n"
            ],
            "application/vnd.google.colaboratory.intrinsic+json": {
              "type": "dataframe",
              "variable_name": "df",
              "summary": "{\n  \"name\": \"df\",\n  \"rows\": 869,\n  \"fields\": [\n    {\n      \"column\": \"id\",\n      \"properties\": {\n        \"dtype\": \"string\",\n        \"num_unique_values\": 659,\n        \"samples\": [\n          \"x9ud1q\",\n          \"18yq3to\",\n          \"1juoy4h\"\n        ],\n        \"semantic_type\": \"\",\n        \"description\": \"\"\n      }\n    },\n    {\n      \"column\": \"title\",\n      \"properties\": {\n        \"dtype\": \"string\",\n        \"num_unique_values\": 657,\n        \"samples\": [\n          \"Actually worried about the Earth running out of oil.\",\n          \"Peru has lost more than half its water reserves as glaciers rapidly melt | CNN\",\n          \"Climate change extinctions. Highest-emission scenario would threaten one-third of species.\"\n        ],\n        \"semantic_type\": \"\",\n        \"description\": \"\"\n      }\n    },\n    {\n      \"column\": \"author\",\n      \"properties\": {\n        \"dtype\": \"category\",\n        \"num_unique_values\": 431,\n        \"samples\": [\n          \"b_rokal\",\n          \"Pacmansdfsefsef\",\n          \"MarkKelly1983\"\n        ],\n        \"semantic_type\": \"\",\n        \"description\": \"\"\n      }\n    },\n    {\n      \"column\": \"url\",\n      \"properties\": {\n        \"dtype\": \"string\",\n        \"num_unique_values\": 657,\n        \"samples\": [\n          \"https://www.reddit.com/r/climatechange/comments/x9ud1q/actually_worried_about_the_earth_running_out_of/\",\n          \"https://www.cnn.com/2023/11/23/climate/peru-glaciers-melt-water-climate-intl/index.html\",\n          \"https://www.reddit.com/r/climatechange/comments/1bd8n40/as_the_climate_warms_the_number_of_alien_species/\"\n        ],\n        \"semantic_type\": \"\",\n        \"description\": \"\"\n      }\n    },\n    {\n      \"column\": \"created_utc\",\n      \"properties\": {\n        \"dtype\": \"number\",\n        \"std\": 49163715.67686867,\n        \"min\": 1382929985.0,\n        \"max\": 1747162581.0,\n        \"num_unique_values\": 659,\n        \"samples\": [\n          1662726876.0,\n          1704407588.0,\n          1744147271.0\n        ],\n        \"semantic_type\": \"\",\n        \"description\": \"\"\n      }\n    },\n    {\n      \"column\": \"selftext\",\n      \"properties\": {\n        \"dtype\": \"category\",\n        \"num_unique_values\": 306,\n        \"samples\": [\n          \"Hi everyone,\\n\\nI am a policy maker / politician seeking to create our town's first climate action / sustainability plan. This is a difficult sell that I will have to fight for all the way through, largely by myself. Building foundational policy and a framework to work from is my goal. Avoiding sensitive language like climate, greenhouse gases, and similar terms is a priority in a conservative town that will likely give a lot of blowback.\\n\\nPlease excuse the format. Bolded items are the main categories with actions below. Please let me know what is needed or should be modified. My first discussion and meeting is Tuesday night!\\n\\n**Primary Areas to Address**\\n\\n**Energy Use**\\u00a0\\u2013 Save residents money and conserve energy in the long term.\\n\\nCode and Policy \\u2013GreenBuilding, Renewable Energy, and Energy Efficiency in New Construction\\n\\nIncentivize Energy - Resource and Energy Conservation and Storage in New and Existing\\n\\nMunicipal Leadership \\u2013 Buildings and Energy Consumption (LEED?)\\n\\n\\u00a0\\n\\n**Transportation**\\u00a0\\u2013 Offer residents safe, healthy transit options that reduce congestion and place amenities closer to residents.\\n\\nMultimodal Transit \\u2013 Pursue alternative transit strategies that give affordable options, promote health, and reduce congestion.\\n\\nMunicipal Electric and Hybrid Equipment Shift \\u2013 New acquisitions and charging stations / EV ready.\\n\\n\\u00a0\\n\\n**Waste, Recycling, and Composting**\\u00a0\\u2013 Cut waste.\\n\\nRecycling, Composting, and Reuse Strategies \\u2013 Explore strategies to provide accessible options for residents.\\n\\nConstruction Waste Diversion and Reduction \\u2013 Seek to maximize waste reduction and diversion in municipal projects.\\n\\nMunicipal Leadership in Recycling and Waste \\u2013 Facility and event management.\\n\\n\\u00a0\\n\\n**Wildlife, Trees, and Vegetation**\\u00a0\\\\- Protect resources.\\n\\nTree Canopy and Arbor Day Support \\u2013 Consolidate and expand existing efforts.\\n\\nNative Plant Species and Xeriscaping \\u2013 Consolidate and expand existing efforts.\\n\\nPollinator Protection and Pest Management \\u2013 Consolidate and expand existing efforts.\\n\\nFlora and Fauna Evaluation \\u2013 Third party report and actions.\\n\\nDevelopment and Construction in Sensitive Areas - Continue to protect environmentally sensitive areas including shorelines and riparian corridors that provide for wildlife habitats and other natural functions. Expand regulation and requirements in designated overlay zones following an evaluation?\\n\\n\\u00a0\\n\\n**Air, Light, and Noise Pollution**\\u00a0\\u2013 Protect our air and skies.\\n\\nDark Skies Code and Outreach \\u2013 Achieve certification and continue installations/education.\\n\\nAir Quality Information and Education \\u2013 Provide localized information and individual actions to mitigate the issue.\\n\\nActions to Improve Local Air Quality \\u2013 Consider options\\\\*\\\\*\\\\*.\\\\*\\\\*\\\\*\\n\\nNoise Pollution \\u2013 Consider an ordinance upgrade.\\n\\n\\u00a0\\n\\n**Land and Soil**\\u00a0\\u2013 Protect our land.\\n\\nOpen Space Conservation and Easements - Work with agricultural landowners to establish conservation easements and preserve productive open lands.\\n\\nTopsoil Protection \\u2013 Explore education opportunities and partnerships to preserve soil health and to reduce erosion and topsoil loss, particularly in development and on local farm land.\\n\\nRight to Farm and Local Food Resiliency \\u2013 Expand local farm support and elevate local food producers and their products. Expand right to farm ordinances.\\n\\n\\u00a0\\n\\n**Water**\\u00a0\\u2013 Protect our water.\\n\\nNon-Potable Plan \\u2013 Create a non-pot plan and expanded services.\\n\\nCode Improvements \\u2013 Water efficient fixtures and equipment.\\n\\nWater Efficiency \\u2013 Look fo additional opportunities to create municipal system efficiency.\\n\\nXeriscape Expanded Support \\u2013 Additional support and education to transition yard space.\\n\\n\\u00a0\\n\\n**Disaster Preparation and Recovery**\\u00a0\\u2013 Prepare and assist our town, residents, and emergency services.\\n\\nWildfire \\u2013 Education and response plan exploration. Update the Community Wildfire Protection Plan.\\n\\nExtreme Weather Events \\u2013 Education and response plan exploration.\\n\\nExtreme Heat and/or Drought \\u2013 Education and response plan exploration.\\n\\nOther \\u2013 Education and response plan exploration.\\u00a0\\u00a0\\u00a0\\n\\n\\u00a0\\n\\n**Education and Outreach**\\u00a0\\u2013 Educate and assist the public.\\n\\nExpand Educational Partnerships \\u2013 Organize partnerships.\\n\\nEducation at Events \\u2013 Hold outreach sessions.\\n\\nStaff and Committee Education \\u2013 Offer education materials.\\n\\nMarket and Local Product Business Support \\u2013 Support and uplift sustainable businesses.\",\n          \"This study sheds light on how close we are to surpassing the 1.5\\u00b0C warming threshold and challenges long-held climate benchmarks by suggesting a pre-1700 baseline. The implications are significant: if early industrial warming has been underestimated, climate policies may need to become more aggressive to meet global targets. It\\u2019s a stark reminder of the need for accelerated decarbonization and global cooperation, not only to meet climate goals but to prevent more severe impacts that come with each fraction of a degree in rising temperatures.\\n\\nThe study highlights the urgent need for rapid decarbonization to avoid the most dangerous climate change impacts.\",\n          \"What is the impact of ocean acidification on the Great Barrier Reef in Australia?\\n\\nHello! I am working on a research essay for an IB Math IA (The question is the topic). Basically, in a math IA, you apply two mathematical connections of your choice to real-world contexts. You write a ~12 page paper, including data sets and graphs, using the data you found on the topic and conduct your own study using your two math topic connections. If that makes sense.\\nMy aim is to investigate the rate at which ocean acidification affects the growth and health of The Great Barrier Reef (GBR) over the last two decades.\\nMathematical connection:\\nUse statistical applications to employ a two-sample t-test taking coral pH levels and calcification rates from the year 2000 and 2024 to calculate the p-value.\\nMy second connection is using regression analysis by applying linear regression analysis to model the relationship between pH levels and the calcification rates of coral in the GBR.\\nIf anyone is willing to help me find accurate data and create the math problems/ equations and the graphs and data sets, that would be super helpful.\\nLet me know if you are confused or if you have any questions :)\"\n        ],\n        \"semantic_type\": \"\",\n        \"description\": \"\"\n      }\n    },\n    {\n      \"column\": \"subreddit\",\n      \"properties\": {\n        \"dtype\": \"category\",\n        \"num_unique_values\": 1,\n        \"samples\": [\n          \"climatechange\"\n        ],\n        \"semantic_type\": \"\",\n        \"description\": \"\"\n      }\n    },\n    {\n      \"column\": \"search_term\",\n      \"properties\": {\n        \"dtype\": \"category\",\n        \"num_unique_values\": 91,\n        \"samples\": [\n          \"solar power\"\n        ],\n        \"semantic_type\": \"\",\n        \"description\": \"\"\n      }\n    }\n  ]\n}"
            }
          },
          "metadata": {},
          "execution_count": 10
        }
      ]
    },
    {
      "cell_type": "code",
      "source": [
        "df.info()"
      ],
      "metadata": {
        "colab": {
          "base_uri": "https://localhost:8080/"
        },
        "id": "e6bXA0toe7eS",
        "outputId": "61d1b71d-05bf-4f69-e344-b2bd6775b8fb"
      },
      "execution_count": null,
      "outputs": [
        {
          "output_type": "stream",
          "name": "stdout",
          "text": [
            "<class 'pandas.core.frame.DataFrame'>\n",
            "RangeIndex: 869 entries, 0 to 868\n",
            "Data columns (total 8 columns):\n",
            " #   Column       Non-Null Count  Dtype  \n",
            "---  ------       --------------  -----  \n",
            " 0   id           869 non-null    object \n",
            " 1   title        869 non-null    object \n",
            " 2   author       869 non-null    object \n",
            " 3   url          869 non-null    object \n",
            " 4   created_utc  869 non-null    float64\n",
            " 5   selftext     869 non-null    object \n",
            " 6   subreddit    869 non-null    object \n",
            " 7   search_term  869 non-null    object \n",
            "dtypes: float64(1), object(7)\n",
            "memory usage: 54.4+ KB\n"
          ]
        }
      ]
    },
    {
      "cell_type": "code",
      "source": [
        "print(df['search_term'].value_counts())"
      ],
      "metadata": {
        "colab": {
          "base_uri": "https://localhost:8080/"
        },
        "id": "RRezSQ9TgA9q",
        "outputId": "de3ad66a-5e5d-47d0-ffe4-3ff5892b91eb"
      },
      "execution_count": null,
      "outputs": [
        {
          "output_type": "stream",
          "name": "stdout",
          "text": [
            "search_term\n",
            "climate change         10\n",
            "global warming         10\n",
            "climate crisis         10\n",
            "climate emergency      10\n",
            "environment            10\n",
            "                       ..\n",
            "hydroelectric power     6\n",
            "overconsumption         5\n",
            "#FridaysForFuture       3\n",
            "NGOs environment        2\n",
            "COP30                   2\n",
            "Name: count, Length: 91, dtype: int64\n"
          ]
        }
      ]
    },
    {
      "cell_type": "code",
      "source": [
        "# drop duplicates posts\n",
        "df.drop_duplicates(subset='id', keep='first', inplace=True) # Remove duplicados com base no ID único do post"
      ],
      "metadata": {
        "id": "jClJsTi4gLc6"
      },
      "execution_count": null,
      "outputs": []
    },
    {
      "cell_type": "code",
      "source": [
        "# fillna in \"selftext\", avoiding \"combination problems\" --> \"tile\" + \"selftext\"\n",
        "df['selftext'].fillna('', inplace=True)"
      ],
      "metadata": {
        "colab": {
          "base_uri": "https://localhost:8080/"
        },
        "id": "xTxt08Yogmq6",
        "outputId": "8b8d81ca-8b20-4824-a5b1-cbe0f2db6491"
      },
      "execution_count": null,
      "outputs": [
        {
          "output_type": "stream",
          "name": "stderr",
          "text": [
            "<ipython-input-14-e25f983724e6>:2: FutureWarning: A value is trying to be set on a copy of a DataFrame or Series through chained assignment using an inplace method.\n",
            "The behavior will change in pandas 3.0. This inplace method will never work because the intermediate object on which we are setting values always behaves as a copy.\n",
            "\n",
            "For example, when doing 'df[col].method(value, inplace=True)', try using 'df.method({col: value}, inplace=True)' or df[col] = df[col].method(value) instead, to perform the operation inplace on the original object.\n",
            "\n",
            "\n",
            "  df['selftext'].fillna('', inplace=True)\n"
          ]
        }
      ]
    },
    {
      "cell_type": "code",
      "source": [
        "df['combined_text_title&selftext'] = df['title'] + '' + df['selftext']"
      ],
      "metadata": {
        "id": "0KlTzdRriATb"
      },
      "execution_count": null,
      "outputs": []
    },
    {
      "cell_type": "code",
      "source": [
        "df['combined_text_title&selftext'] = df['combined_text_title&selftext'].str.lower()"
      ],
      "metadata": {
        "id": "WYlXTYuViXXr"
      },
      "execution_count": null,
      "outputs": []
    },
    {
      "cell_type": "code",
      "source": [
        "# removing characters different from: numbers, letters or blanks\n",
        "df['combined_text_title&selftext'] = df['combined_text_title&selftext'].apply(lambda x: re.sub(r'[^a-z0-9\\s]]', '', x))"
      ],
      "metadata": {
        "id": "ukyT3InoilGD"
      },
      "execution_count": null,
      "outputs": []
    },
    {
      "cell_type": "code",
      "source": [
        "# words tokenize\n",
        "nltk.download('punkt_tab')\n",
        "df['tokens'] = df['combined_text_title&selftext'].apply(word_tokenize)"
      ],
      "metadata": {
        "colab": {
          "base_uri": "https://localhost:8080/"
        },
        "id": "-yVnPs1jiwSL",
        "outputId": "7f07fea6-5121-41ff-9940-e8791e7391d4"
      },
      "execution_count": null,
      "outputs": [
        {
          "output_type": "stream",
          "name": "stderr",
          "text": [
            "[nltk_data] Downloading package punkt_tab to /root/nltk_data...\n",
            "[nltk_data]   Unzipping tokenizers/punkt_tab.zip.\n"
          ]
        }
      ]
    },
    {
      "cell_type": "code",
      "source": [
        "# removing \"stopwords\" (word without significant meaning)\n",
        "nltk.download('stopwords')\n",
        "\n",
        "stop_words = set(stopwords.words('english'))\n",
        "df['tokens_cleaned'] = df['tokens'].apply(lambda tokens: [word for word in tokens if word not in stop_words])"
      ],
      "metadata": {
        "colab": {
          "base_uri": "https://localhost:8080/"
        },
        "id": "W8oGWEqikChz",
        "outputId": "9f91190b-771a-4966-f411-1d3b66bcb1cf"
      },
      "execution_count": null,
      "outputs": [
        {
          "output_type": "stream",
          "name": "stderr",
          "text": [
            "[nltk_data] Downloading package stopwords to /root/nltk_data...\n",
            "[nltk_data]   Unzipping corpora/stopwords.zip.\n"
          ]
        }
      ]
    },
    {
      "cell_type": "code",
      "source": [
        "# lemmatizing tokens (reducing words into their base form)\n",
        "nltk.download('wordnet')\n",
        "\n",
        "lemmatizer = WordNetLemmatizer()\n",
        "df['lemmatized_tokens'] = df['tokens_cleaned'].apply(lambda tokens: [lemmatizer.lemmatize(word) for word in tokens])"
      ],
      "metadata": {
        "colab": {
          "base_uri": "https://localhost:8080/"
        },
        "id": "BtBDJNiwkpDw",
        "outputId": "1c2f9107-d783-4829-e181-313c3fc3bc44"
      },
      "execution_count": null,
      "outputs": [
        {
          "output_type": "stream",
          "name": "stderr",
          "text": [
            "[nltk_data] Downloading package wordnet to /root/nltk_data...\n"
          ]
        }
      ]
    },
    {
      "cell_type": "markdown",
      "source": [
        "# EMBENDDINGS"
      ],
      "metadata": {
        "id": "BYN8uTj6W9r_"
      }
    },
    {
      "cell_type": "code",
      "source": [
        "# downloading embeddings files\n",
        "!wget http://nlp.stanford.edu/data/glove.6B.zip\n",
        "!unzip glove.6B.zip -d embeddings\n",
        "\n",
        "embeddings_index = {}\n",
        "with open('embeddings/glove.6B.100d.txt', encoding='utf-8') as f:\n",
        "    for line in f:\n",
        "        values = line.split()\n",
        "        word = values[0]\n",
        "        coefs = np.asarray(values[1:], dtype = 'float32')\n",
        "        embeddings_index[word] = coefs\n",
        "\n",
        "print(f'Found {len(embeddings_index)} word vectors.')"
      ],
      "metadata": {
        "id": "NuoEIJrqlW2z",
        "colab": {
          "base_uri": "https://localhost:8080/"
        },
        "outputId": "93e30f23-c40c-490f-9f98-08f949c297bc"
      },
      "execution_count": null,
      "outputs": [
        {
          "output_type": "stream",
          "name": "stdout",
          "text": [
            "--2025-05-15 19:56:18--  http://nlp.stanford.edu/data/glove.6B.zip\n",
            "Resolving nlp.stanford.edu (nlp.stanford.edu)... 171.64.67.140\n",
            "Connecting to nlp.stanford.edu (nlp.stanford.edu)|171.64.67.140|:80... connected.\n",
            "HTTP request sent, awaiting response... 302 Found\n",
            "Location: https://nlp.stanford.edu/data/glove.6B.zip [following]\n",
            "--2025-05-15 19:56:18--  https://nlp.stanford.edu/data/glove.6B.zip\n",
            "Connecting to nlp.stanford.edu (nlp.stanford.edu)|171.64.67.140|:443... connected.\n",
            "HTTP request sent, awaiting response... 301 Moved Permanently\n",
            "Location: https://downloads.cs.stanford.edu/nlp/data/glove.6B.zip [following]\n",
            "--2025-05-15 19:56:19--  https://downloads.cs.stanford.edu/nlp/data/glove.6B.zip\n",
            "Resolving downloads.cs.stanford.edu (downloads.cs.stanford.edu)... 171.64.64.22\n",
            "Connecting to downloads.cs.stanford.edu (downloads.cs.stanford.edu)|171.64.64.22|:443... connected.\n",
            "HTTP request sent, awaiting response... 200 OK\n",
            "Length: 862182613 (822M) [application/zip]\n",
            "Saving to: ‘glove.6B.zip’\n",
            "\n",
            "glove.6B.zip        100%[===================>] 822.24M  5.02MB/s    in 2m 39s  \n",
            "\n",
            "2025-05-15 19:58:58 (5.18 MB/s) - ‘glove.6B.zip’ saved [862182613/862182613]\n",
            "\n",
            "Archive:  glove.6B.zip\n",
            "  inflating: embeddings/glove.6B.50d.txt  \n",
            "  inflating: embeddings/glove.6B.100d.txt  \n",
            "  inflating: embeddings/glove.6B.200d.txt  \n",
            "  inflating: embeddings/glove.6B.300d.txt  \n",
            "Found 400000 word vectors.\n"
          ]
        }
      ]
    },
    {
      "cell_type": "code",
      "source": [
        "# create a vocabulary from lematized tokens\n",
        "tokenizer = Tokenizer(num_words = None) # maintain all the words\n",
        "tokenizer.fit_on_texts(df['lemmatized_tokens'].apply(lambda x: ' '.join(x)))\n",
        "word_index = tokenizer.word_index\n",
        "print(f'Vocabulary length: {len(word_index)}')\n",
        "\n",
        "# define max length of sequence for padding\n",
        "MAX_SEQUENCE_LENGTH = max(df['lemmatized_tokens'].apply(len))\n",
        "\n",
        "# create embeddings matrix\n",
        "EMBEDDING_DIM = 100\n",
        "embedding_matrix = np.zeros((len(word_index) + 1, EMBEDDING_DIM))\n",
        "for word, i in word_index.items():\n",
        "    embedding_vector = embeddings_index.get(word)\n",
        "    if embedding_vector is not None:\n",
        "        # not found words in Glove ll be vectors of zeros\n",
        "        embedding_matrix[i] = embedding_vector\n",
        "\n",
        "print(f'Shape of embedding matrix: {embedding_matrix.shape}')"
      ],
      "metadata": {
        "id": "b7bgnv5jY-5t",
        "colab": {
          "base_uri": "https://localhost:8080/"
        },
        "outputId": "1bef8689-a700-4e27-c1fb-e07644761039"
      },
      "execution_count": null,
      "outputs": [
        {
          "output_type": "stream",
          "name": "stdout",
          "text": [
            "Vocabulary length: 8234\n",
            "Shape of embedding matrix: (8235, 100)\n"
          ]
        }
      ]
    },
    {
      "cell_type": "code",
      "source": [
        "# convert tokens on number sequences and applying padding (garantee all the sequences to have the same size)\n",
        "sequences = tokenizer.texts_to_sequences(df['lemmatized_tokens'].apply(lambda x: ' '.join(x)))\n",
        "padded_sequences = pad_sequences(sequences, maxlen=MAX_SEQUENCE_LENGTH, padding='post', truncating='post')\n",
        "\n",
        "print(f'Shape of padded sequences: {padded_sequences.shape}')"
      ],
      "metadata": {
        "id": "H0EENE_Nb5mg",
        "colab": {
          "base_uri": "https://localhost:8080/"
        },
        "outputId": "ceaad1b6-2af0-462c-d7a1-776323713e75"
      },
      "execution_count": null,
      "outputs": [
        {
          "output_type": "stream",
          "name": "stdout",
          "text": [
            "Shape of padded sequences: (659, 1124)\n"
          ]
        }
      ]
    },
    {
      "cell_type": "markdown",
      "source": [
        "# LSTM Model"
      ],
      "metadata": {
        "id": "laPGeoN_ieh1"
      }
    },
    {
      "cell_type": "code",
      "source": [
        "# LSTM model\n",
        "VOCAB_SIZE = len(tokenizer.word_index) + 1\n",
        "EMBEDDING_DIM = 100\n",
        "MAX_SEQUENCE_LENGTH = 1124\n",
        "\n",
        "model = Sequential()\n",
        "model.add(Embedding(input_dim=VOCAB_SIZE, output_dim=EMBEDDING_DIM, input_length=MAX_SEQUENCE_LENGTH, weights=[embedding_matrix], trainable=False))\n",
        "model.add(LSTM(128, dropout=0.2, recurrent_dropout=0.2))\n",
        "model.add(Dense(1, activation='sigmoid'))\n",
        "\n",
        "model.compile(loss='binary_crossentropy', optimizer='adam', metrics=['accuracy'])\n",
        "model.summary()"
      ],
      "metadata": {
        "colab": {
          "base_uri": "https://localhost:8080/",
          "height": 280
        },
        "id": "kDswX7U0EoPm",
        "outputId": "e95c67d4-4f08-4b98-9668-af41e5f22249"
      },
      "execution_count": null,
      "outputs": [
        {
          "output_type": "stream",
          "name": "stderr",
          "text": [
            "/usr/local/lib/python3.11/dist-packages/keras/src/layers/core/embedding.py:90: UserWarning: Argument `input_length` is deprecated. Just remove it.\n",
            "  warnings.warn(\n"
          ]
        },
        {
          "output_type": "display_data",
          "data": {
            "text/plain": [
              "\u001b[1mModel: \"sequential\"\u001b[0m\n"
            ],
            "text/html": [
              "<pre style=\"white-space:pre;overflow-x:auto;line-height:normal;font-family:Menlo,'DejaVu Sans Mono',consolas,'Courier New',monospace\"><span style=\"font-weight: bold\">Model: \"sequential\"</span>\n",
              "</pre>\n"
            ]
          },
          "metadata": {}
        },
        {
          "output_type": "display_data",
          "data": {
            "text/plain": [
              "┏━━━━━━━━━━━━━━━━━━━━━━━━━━━━━━━━━┳━━━━━━━━━━━━━━━━━━━━━━━━┳━━━━━━━━━━━━━━━┓\n",
              "┃\u001b[1m \u001b[0m\u001b[1mLayer (type)                   \u001b[0m\u001b[1m \u001b[0m┃\u001b[1m \u001b[0m\u001b[1mOutput Shape          \u001b[0m\u001b[1m \u001b[0m┃\u001b[1m \u001b[0m\u001b[1m      Param #\u001b[0m\u001b[1m \u001b[0m┃\n",
              "┡━━━━━━━━━━━━━━━━━━━━━━━━━━━━━━━━━╇━━━━━━━━━━━━━━━━━━━━━━━━╇━━━━━━━━━━━━━━━┩\n",
              "│ embedding (\u001b[38;5;33mEmbedding\u001b[0m)           │ ?                      │       \u001b[38;5;34m823,500\u001b[0m │\n",
              "├─────────────────────────────────┼────────────────────────┼───────────────┤\n",
              "│ lstm (\u001b[38;5;33mLSTM\u001b[0m)                     │ ?                      │   \u001b[38;5;34m0\u001b[0m (unbuilt) │\n",
              "├─────────────────────────────────┼────────────────────────┼───────────────┤\n",
              "│ dense (\u001b[38;5;33mDense\u001b[0m)                   │ ?                      │   \u001b[38;5;34m0\u001b[0m (unbuilt) │\n",
              "└─────────────────────────────────┴────────────────────────┴───────────────┘\n"
            ],
            "text/html": [
              "<pre style=\"white-space:pre;overflow-x:auto;line-height:normal;font-family:Menlo,'DejaVu Sans Mono',consolas,'Courier New',monospace\">┏━━━━━━━━━━━━━━━━━━━━━━━━━━━━━━━━━┳━━━━━━━━━━━━━━━━━━━━━━━━┳━━━━━━━━━━━━━━━┓\n",
              "┃<span style=\"font-weight: bold\"> Layer (type)                    </span>┃<span style=\"font-weight: bold\"> Output Shape           </span>┃<span style=\"font-weight: bold\">       Param # </span>┃\n",
              "┡━━━━━━━━━━━━━━━━━━━━━━━━━━━━━━━━━╇━━━━━━━━━━━━━━━━━━━━━━━━╇━━━━━━━━━━━━━━━┩\n",
              "│ embedding (<span style=\"color: #0087ff; text-decoration-color: #0087ff\">Embedding</span>)           │ ?                      │       <span style=\"color: #00af00; text-decoration-color: #00af00\">823,500</span> │\n",
              "├─────────────────────────────────┼────────────────────────┼───────────────┤\n",
              "│ lstm (<span style=\"color: #0087ff; text-decoration-color: #0087ff\">LSTM</span>)                     │ ?                      │   <span style=\"color: #00af00; text-decoration-color: #00af00\">0</span> (unbuilt) │\n",
              "├─────────────────────────────────┼────────────────────────┼───────────────┤\n",
              "│ dense (<span style=\"color: #0087ff; text-decoration-color: #0087ff\">Dense</span>)                   │ ?                      │   <span style=\"color: #00af00; text-decoration-color: #00af00\">0</span> (unbuilt) │\n",
              "└─────────────────────────────────┴────────────────────────┴───────────────┘\n",
              "</pre>\n"
            ]
          },
          "metadata": {}
        },
        {
          "output_type": "display_data",
          "data": {
            "text/plain": [
              "\u001b[1m Total params: \u001b[0m\u001b[38;5;34m823,500\u001b[0m (3.14 MB)\n"
            ],
            "text/html": [
              "<pre style=\"white-space:pre;overflow-x:auto;line-height:normal;font-family:Menlo,'DejaVu Sans Mono',consolas,'Courier New',monospace\"><span style=\"font-weight: bold\"> Total params: </span><span style=\"color: #00af00; text-decoration-color: #00af00\">823,500</span> (3.14 MB)\n",
              "</pre>\n"
            ]
          },
          "metadata": {}
        },
        {
          "output_type": "display_data",
          "data": {
            "text/plain": [
              "\u001b[1m Trainable params: \u001b[0m\u001b[38;5;34m0\u001b[0m (0.00 B)\n"
            ],
            "text/html": [
              "<pre style=\"white-space:pre;overflow-x:auto;line-height:normal;font-family:Menlo,'DejaVu Sans Mono',consolas,'Courier New',monospace\"><span style=\"font-weight: bold\"> Trainable params: </span><span style=\"color: #00af00; text-decoration-color: #00af00\">0</span> (0.00 B)\n",
              "</pre>\n"
            ]
          },
          "metadata": {}
        },
        {
          "output_type": "display_data",
          "data": {
            "text/plain": [
              "\u001b[1m Non-trainable params: \u001b[0m\u001b[38;5;34m823,500\u001b[0m (3.14 MB)\n"
            ],
            "text/html": [
              "<pre style=\"white-space:pre;overflow-x:auto;line-height:normal;font-family:Menlo,'DejaVu Sans Mono',consolas,'Courier New',monospace\"><span style=\"font-weight: bold\"> Non-trainable params: </span><span style=\"color: #00af00; text-decoration-color: #00af00\">823,500</span> (3.14 MB)\n",
              "</pre>\n"
            ]
          },
          "metadata": {}
        }
      ]
    },
    {
      "cell_type": "markdown",
      "source": [
        "# Labeling database"
      ],
      "metadata": {
        "id": "HZfwrn5BG05K"
      }
    },
    {
      "cell_type": "code",
      "source": [
        "sentiment_pipeline = pipeline(\"sentiment-analysis\")"
      ],
      "metadata": {
        "colab": {
          "base_uri": "https://localhost:8080/",
          "height": 356,
          "referenced_widgets": [
            "d454df58611c4480af85ecb384468ac0",
            "e014d7f8a39645efb07143332fa9cb9d",
            "a343016810a445b0baa628b976e975e4",
            "3562759daa0c499ba18c3609c8cebdc7",
            "da2ad19875294a258e3f31bbdeb8ba6c",
            "84f45bfe950e4963bad158cd69b2fbb9",
            "2213cc5434a345619664ba74caf547bf",
            "f0613f05a8084cc1a606009c9129e3c5",
            "31d939e479cf49b6a07e0cd128136b5d",
            "ee07c23c051441468eefc001dca3ddd6",
            "cc9ac088695244fab9d1db90b8716a87",
            "cd1b120f015840f38701787047fe4b7f",
            "26cdda7c2ac44c75904c9fe09f7f5b95",
            "9200d49f2e244ebca63f164b9faf7911",
            "902fa5c714844c369eadc0ffdca7cfde",
            "429e6649e852450d9984a1f182e77da8",
            "780476be18764e2c80937501e98f8c8b",
            "4f5550aa0bb74eb58b11ca5cd5fc910b",
            "d4e4ff414349492c95b952af5e3df9f9",
            "0ee6c386afd74245b7ebd81a81f1f80c",
            "d17195deef9f4d3fb7dccba60fac4052",
            "b3b6fe63372d4699b7be929bbc6566f0",
            "cced253db8c04c8cb7cb35f977defd3c",
            "cefdc71119c64a42aa84624974a556ec",
            "27092b37f21848e89a4bc2f32712c033",
            "5fc02f94122a4d878da7a92f4ceeaa81",
            "4428e80a7add431080823ff8fb3b7305",
            "87e8e076c3c04f80a07f1b8881bd1b0c",
            "aef9aad8a4774b29902f5a8f19b4d63c",
            "29ec0f43406c4a12ac9a49365cda58c0",
            "cbf9a6ab0c9d4f8cb728b05aef945fd5",
            "fb913b7809de4a53b68b3e021742d869",
            "2432bbe6efbe44f394e4b732eb65094f",
            "e40709defd6944c7bc3c058fb84699be",
            "c18cdd3d4f564e4f8ebaa2e8a7fd65b1",
            "dfda3adb9d42439499c1c1b9bf32e4eb",
            "7e6a98955bb04acfa06ad4b35f95f08b",
            "689e4bfdf5f945858875c3ed24e1c689",
            "d313f8efa68d4e8eab8922b6df8c2747",
            "ae79b831cc9d4226b65072a5f5186309",
            "580fd6f0911e41978a95612f94b4ce91",
            "32e7d1084b7749368084e35ad86354a7",
            "1e3a200ee42c48279426d6bc57a3eec4",
            "29e3122bf3ee48e2a12dadb08fb028eb"
          ]
        },
        "id": "lipNIOL5HqVN",
        "outputId": "0ee9b661-3adf-4b6b-f912-f09d35b853a7"
      },
      "execution_count": null,
      "outputs": [
        {
          "output_type": "stream",
          "name": "stderr",
          "text": [
            "No model was supplied, defaulted to distilbert/distilbert-base-uncased-finetuned-sst-2-english and revision 714eb0f (https://huggingface.co/distilbert/distilbert-base-uncased-finetuned-sst-2-english).\n",
            "Using a pipeline without specifying a model name and revision in production is not recommended.\n",
            "/usr/local/lib/python3.11/dist-packages/huggingface_hub/utils/_auth.py:94: UserWarning: \n",
            "The secret `HF_TOKEN` does not exist in your Colab secrets.\n",
            "To authenticate with the Hugging Face Hub, create a token in your settings tab (https://huggingface.co/settings/tokens), set it as secret in your Google Colab and restart your session.\n",
            "You will be able to reuse this secret in all of your notebooks.\n",
            "Please note that authentication is recommended but still optional to access public models or datasets.\n",
            "  warnings.warn(\n"
          ]
        },
        {
          "output_type": "display_data",
          "data": {
            "text/plain": [
              "config.json:   0%|          | 0.00/629 [00:00<?, ?B/s]"
            ],
            "application/vnd.jupyter.widget-view+json": {
              "version_major": 2,
              "version_minor": 0,
              "model_id": "d454df58611c4480af85ecb384468ac0"
            }
          },
          "metadata": {}
        },
        {
          "output_type": "stream",
          "name": "stderr",
          "text": [
            "Xet Storage is enabled for this repo, but the 'hf_xet' package is not installed. Falling back to regular HTTP download. For better performance, install the package with: `pip install huggingface_hub[hf_xet]` or `pip install hf_xet`\n",
            "WARNING:huggingface_hub.file_download:Xet Storage is enabled for this repo, but the 'hf_xet' package is not installed. Falling back to regular HTTP download. For better performance, install the package with: `pip install huggingface_hub[hf_xet]` or `pip install hf_xet`\n"
          ]
        },
        {
          "output_type": "display_data",
          "data": {
            "text/plain": [
              "model.safetensors:   0%|          | 0.00/268M [00:00<?, ?B/s]"
            ],
            "application/vnd.jupyter.widget-view+json": {
              "version_major": 2,
              "version_minor": 0,
              "model_id": "cd1b120f015840f38701787047fe4b7f"
            }
          },
          "metadata": {}
        },
        {
          "output_type": "display_data",
          "data": {
            "text/plain": [
              "tokenizer_config.json:   0%|          | 0.00/48.0 [00:00<?, ?B/s]"
            ],
            "application/vnd.jupyter.widget-view+json": {
              "version_major": 2,
              "version_minor": 0,
              "model_id": "cced253db8c04c8cb7cb35f977defd3c"
            }
          },
          "metadata": {}
        },
        {
          "output_type": "display_data",
          "data": {
            "text/plain": [
              "vocab.txt:   0%|          | 0.00/232k [00:00<?, ?B/s]"
            ],
            "application/vnd.jupyter.widget-view+json": {
              "version_major": 2,
              "version_minor": 0,
              "model_id": "e40709defd6944c7bc3c058fb84699be"
            }
          },
          "metadata": {}
        },
        {
          "output_type": "stream",
          "name": "stderr",
          "text": [
            "Device set to use cpu\n"
          ]
        }
      ]
    },
    {
      "cell_type": "code",
      "source": [
        "# labeling\n",
        "\n",
        "#loading sentiment-analysis pipeline\n",
        "sentiment_pipeline = pipeline(\"sentiment-analysis\")\n",
        "\n",
        "def get_sentiment(text):\n",
        "  try:\n",
        "    # truncating text for max length the model can work with\n",
        "    max_length = sentiment_pipeline.tokenizer.model_max_length - 2\n",
        "    truncated_text = sentiment_pipeline.tokenizer.decode(\n",
        "        sentiment_pipeline.tokenizer.encode(text, truncation=True, max_length=max_length),\n",
        "        skip_special_tokens=True\n",
        "    )\n",
        "    result = sentiment_pipeline(truncated_text)[0]\n",
        "    return result['label'], result['score']\n",
        "  except Exception as e:\n",
        "    print(f\"Error classifying text: {e}\")\n",
        "    return None, None\n",
        "\n",
        "tqdm.pandas()\n",
        "\n",
        "sentiment_results = df['combined_text_title&selftext'].progress_apply(get_sentiment)\n",
        "\n",
        "df[['sentiment_label', 'sentiment_score']]= pd.DataFrame(sentiment_results.tolist(), index=df.index)\n",
        "\n",
        "print(df[['title', 'combined_text_title&selftext', 'sentiment_label', 'sentiment_score']].head())"
      ],
      "metadata": {
        "colab": {
          "base_uri": "https://localhost:8080/"
        },
        "id": "iFtilYRsIpSp",
        "outputId": "24716bfa-a1ef-4137-8bac-b2432b43ce68"
      },
      "execution_count": null,
      "outputs": [
        {
          "output_type": "stream",
          "name": "stderr",
          "text": [
            "No model was supplied, defaulted to distilbert/distilbert-base-uncased-finetuned-sst-2-english and revision 714eb0f (https://huggingface.co/distilbert/distilbert-base-uncased-finetuned-sst-2-english).\n",
            "Using a pipeline without specifying a model name and revision in production is not recommended.\n",
            "Device set to use cpu\n",
            "100%|██████████| 659/659 [03:36<00:00,  3.04it/s]"
          ]
        },
        {
          "output_type": "stream",
          "name": "stdout",
          "text": [
            "                                               title  \\\n",
            "0  We’ve Crossed a Key Threshold for Climate Chan...   \n",
            "1  As someone who is uneducated on the topic of c...   \n",
            "2  Are we actually making progress on climate cha...   \n",
            "3  Trump would be an \"Extinction-Level Event\" for...   \n",
            "4  Scientists say sprinkling diamond dust into th...   \n",
            "\n",
            "                        combined_text_title&selftext sentiment_label  \\\n",
            "0  we’ve crossed a key threshold for climate chan...        NEGATIVE   \n",
            "1  as someone who is uneducated on the topic of c...        NEGATIVE   \n",
            "2  are we actually making progress on climate cha...        NEGATIVE   \n",
            "3  trump would be an \"extinction-level event\" for...        NEGATIVE   \n",
            "4  scientists say sprinkling diamond dust into th...        NEGATIVE   \n",
            "\n",
            "   sentiment_score  \n",
            "0         0.980067  \n",
            "1         0.995722  \n",
            "2         0.999625  \n",
            "3         0.976432  \n",
            "4         0.771831  \n"
          ]
        },
        {
          "output_type": "stream",
          "name": "stderr",
          "text": [
            "\n"
          ]
        }
      ]
    },
    {
      "cell_type": "code",
      "source": [
        "# converting labels to binarie format\n",
        "sentiment_mapping = {'POSITIVE':1, 'NEGATIVE':0}\n",
        "df['sentiment_label_encoded'] = df['sentiment_label'].map(sentiment_mapping)\n",
        "\n",
        "\n",
        "\n",
        "#getting index of remaining lines\n",
        "# getting index of remaining lines\n",
        "# The issue was here. `df.index` was holding old index values,\n",
        "# even after rows were dropped from the DataFrame.\n",
        "# Resetting the index ensures the index values are in sync with the DataFrame's current state.\n",
        "indexes = df.reset_index(drop=True).index\n",
        "\n",
        "# converting into numpy arrays for Keras\n",
        "X = np.array(padded_sequences)[indexes]\n",
        "y = np.array(df['sentiment_label_encoded'])\n",
        "\n",
        "# splitting data into training and testing sets\n",
        "X_train, X_test, y_train, y_test = train_test_split(X, y, test_size=0.2, random_state=42, stratify=y)\n",
        "\n",
        "print(f'Shape of X_train: {X_train.shape}')\n",
        "print(f'Shape of X_test: {X_test.shape}')\n",
        "print(f'Shape of y_train: {y_train.shape}')\n",
        "print(f'Shape of y_test: {y_test.shape}')"
      ],
      "metadata": {
        "id": "np_CSRUiKFXx",
        "colab": {
          "base_uri": "https://localhost:8080/"
        },
        "outputId": "6c4818ab-aa52-4f50-e9dc-080c6083ff70"
      },
      "execution_count": null,
      "outputs": [
        {
          "output_type": "stream",
          "name": "stdout",
          "text": [
            "Shape of X_train: (527, 1124)\n",
            "Shape of X_test: (132, 1124)\n",
            "Shape of y_train: (527,)\n",
            "Shape of y_test: (132,)\n"
          ]
        }
      ]
    },
    {
      "cell_type": "markdown",
      "source": [
        "# LSTM Model Training"
      ],
      "metadata": {
        "id": "xa2SnJNirrWm"
      }
    },
    {
      "cell_type": "code",
      "source": [
        "epochs = 10\n",
        "batch_size = 32\n",
        "\n",
        "history = model.fit(X_train, y_train,\n",
        "                    epochs=epochs,\n",
        "                    batch_size=batch_size,\n",
        "                    validation_data=(X_test, y_test))"
      ],
      "metadata": {
        "colab": {
          "base_uri": "https://localhost:8080/"
        },
        "id": "qmYmcvflqxk2",
        "outputId": "22702b85-edd1-4323-f27e-16bcd13b4c87"
      },
      "execution_count": null,
      "outputs": [
        {
          "output_type": "stream",
          "name": "stdout",
          "text": [
            "Epoch 1/10\n",
            "\u001b[1m17/17\u001b[0m \u001b[32m━━━━━━━━━━━━━━━━━━━━\u001b[0m\u001b[37m\u001b[0m \u001b[1m67s\u001b[0m 3s/step - accuracy: 0.7334 - loss: 0.6664 - val_accuracy: 0.7273 - val_loss: 0.6256\n",
            "Epoch 2/10\n",
            "\u001b[1m17/17\u001b[0m \u001b[32m━━━━━━━━━━━━━━━━━━━━\u001b[0m\u001b[37m\u001b[0m \u001b[1m85s\u001b[0m 4s/step - accuracy: 0.7274 - loss: 0.6296 - val_accuracy: 0.7273 - val_loss: 0.6089\n",
            "Epoch 3/10\n",
            "\u001b[1m17/17\u001b[0m \u001b[32m━━━━━━━━━━━━━━━━━━━━\u001b[0m\u001b[37m\u001b[0m \u001b[1m78s\u001b[0m 3s/step - accuracy: 0.7200 - loss: 0.6027 - val_accuracy: 0.7273 - val_loss: 0.5868\n",
            "Epoch 4/10\n",
            "\u001b[1m17/17\u001b[0m \u001b[32m━━━━━━━━━━━━━━━━━━━━\u001b[0m\u001b[37m\u001b[0m \u001b[1m52s\u001b[0m 3s/step - accuracy: 0.7495 - loss: 0.5643 - val_accuracy: 0.7273 - val_loss: 0.5893\n",
            "Epoch 5/10\n",
            "\u001b[1m17/17\u001b[0m \u001b[32m━━━━━━━━━━━━━━━━━━━━\u001b[0m\u001b[37m\u001b[0m \u001b[1m81s\u001b[0m 3s/step - accuracy: 0.7366 - loss: 0.5802 - val_accuracy: 0.7273 - val_loss: 0.5860\n",
            "Epoch 6/10\n",
            "\u001b[1m17/17\u001b[0m \u001b[32m━━━━━━━━━━━━━━━━━━━━\u001b[0m\u001b[37m\u001b[0m \u001b[1m90s\u001b[0m 3s/step - accuracy: 0.7347 - loss: 0.5775 - val_accuracy: 0.7273 - val_loss: 0.5861\n",
            "Epoch 7/10\n",
            "\u001b[1m17/17\u001b[0m \u001b[32m━━━━━━━━━━━━━━━━━━━━\u001b[0m\u001b[37m\u001b[0m \u001b[1m73s\u001b[0m 3s/step - accuracy: 0.7297 - loss: 0.5886 - val_accuracy: 0.7273 - val_loss: 0.5862\n",
            "Epoch 8/10\n",
            "\u001b[1m17/17\u001b[0m \u001b[32m━━━━━━━━━━━━━━━━━━━━\u001b[0m\u001b[37m\u001b[0m \u001b[1m83s\u001b[0m 3s/step - accuracy: 0.7220 - loss: 0.5940 - val_accuracy: 0.7273 - val_loss: 0.5867\n",
            "Epoch 9/10\n",
            "\u001b[1m17/17\u001b[0m \u001b[32m━━━━━━━━━━━━━━━━━━━━\u001b[0m\u001b[37m\u001b[0m \u001b[1m56s\u001b[0m 3s/step - accuracy: 0.7170 - loss: 0.5965 - val_accuracy: 0.7273 - val_loss: 0.5861\n",
            "Epoch 10/10\n",
            "\u001b[1m17/17\u001b[0m \u001b[32m━━━━━━━━━━━━━━━━━━━━\u001b[0m\u001b[37m\u001b[0m \u001b[1m78s\u001b[0m 3s/step - accuracy: 0.7180 - loss: 0.5982 - val_accuracy: 0.7273 - val_loss: 0.5867\n"
          ]
        }
      ]
    },
    {
      "cell_type": "code",
      "source": [
        "loss, accuracy = model.evaluate(X_test, y_test)\n",
        "print(f'Loss : {loss:.4f}')\n",
        "print(f'Accuracy: {accuracy:.4f}')"
      ],
      "metadata": {
        "colab": {
          "base_uri": "https://localhost:8080/"
        },
        "id": "ts3eOXTtvljZ",
        "outputId": "4a2368af-865d-4e0e-95b2-0a6d0dacc787"
      },
      "execution_count": null,
      "outputs": [
        {
          "output_type": "stream",
          "name": "stdout",
          "text": [
            "\u001b[1m5/5\u001b[0m \u001b[32m━━━━━━━━━━━━━━━━━━━━\u001b[0m\u001b[37m\u001b[0m \u001b[1m5s\u001b[0m 1s/step - accuracy: 0.7081 - loss: 0.6038\n",
            "Loss : 0.5867\n",
            "Accuracy: 0.7273\n"
          ]
        }
      ]
    },
    {
      "cell_type": "code",
      "source": [
        "#saving data frame\n",
        "\n",
        "#naming directory\n",
        "data_path = 'data'\n",
        "\n",
        "if not os.path.exists(data_path):\n",
        "    os.makedirs(data_path)\n",
        "    print(f\"Directory '{data_path}' created successfully.\")\n",
        "else:\n",
        "    print(f\"Directory '{data_path}' already exists.\")\n",
        "\n",
        "#saving\n",
        "df.to_csv('data/df_labeled.csv', index=False)\n",
        "print('DataFrame saved successfully.')"
      ],
      "metadata": {
        "colab": {
          "base_uri": "https://localhost:8080/"
        },
        "id": "yEhzSuXovmtP",
        "outputId": "3fae7f2a-b884-4bc9-a71e-70db7de4fb88"
      },
      "execution_count": null,
      "outputs": [
        {
          "output_type": "stream",
          "name": "stdout",
          "text": [
            "Directory 'data' created successfully.\n",
            "DataFrame saved successfully.\n"
          ]
        }
      ]
    },
    {
      "cell_type": "code",
      "source": [
        "# saving model and tokenizer\n",
        "model_tokenizer_Path = 'model'\n",
        "\n",
        "if not os.path.exists(model_tokenizer_Path):\n",
        "    os.makedirs(model_tokenizer_Path)\n",
        "    print(f\"Directory '{model_tokenizer_Path}' created successfully.\")\n",
        "else:\n",
        "    print(f\"Directory '{model_tokenizer_Path}' already exists.\")\n",
        "\n",
        "#model\n",
        "try:\n",
        "    model.save('model/sentiment_model.keras')\n",
        "    print(\"Model saved successfully.\")\n",
        "except Exception as e:\n",
        "    print(f\"Error saving the model: {e}\")\n",
        "\n",
        "#tokenizer\n",
        "try:\n",
        "    with open('model/tokenizer.pickle', 'wb') as handle:\n",
        "      pickle.dump(tokenizer, handle, protocol=pickle.HIGHEST_PROTOCOL)\n",
        "      print('Tokenizer saved successfully.')\n",
        "except Exception as e:\n",
        "    print(f\"Error saving the tokenizer: {e}\")"
      ],
      "metadata": {
        "id": "8czOBaHSHyj4",
        "colab": {
          "base_uri": "https://localhost:8080/"
        },
        "outputId": "e1da4a80-5417-4b44-9cc1-0d03f8a4cd30"
      },
      "execution_count": null,
      "outputs": [
        {
          "output_type": "stream",
          "name": "stdout",
          "text": [
            "Directory 'model' created successfully.\n",
            "Model saved successfully.\n",
            "Tokenizer saved successfully.\n"
          ]
        }
      ]
    }
  ]
}
